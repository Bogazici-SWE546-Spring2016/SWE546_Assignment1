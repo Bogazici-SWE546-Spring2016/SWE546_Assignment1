{
 "cells": [
  {
   "cell_type": "markdown",
   "metadata": {},
   "source": [
    "# NİHAL ER | 2015719069"
   ]
  },
  {
   "cell_type": "code",
   "execution_count": 134,
   "metadata": {
    "collapsed": false
   },
   "outputs": [],
   "source": [
    "import numpy as np\n",
    "import pandas as pd\n",
    "import matplotlib.pylab as plt\n",
    "\n",
    "%matplotlib inline\n",
    "\n",
    "df_arac = pd.read_csv(u'data/arac.csv',sep=';')"
   ]
  },
  {
   "cell_type": "markdown",
   "metadata": {},
   "source": [
    "**What are the Data Columns**"
   ]
  },
  {
   "cell_type": "code",
   "execution_count": 135,
   "metadata": {
    "collapsed": false
   },
   "outputs": [
    {
     "data": {
      "text/html": [
       "<div>\n",
       "<table border=\"1\" class=\"dataframe\">\n",
       "  <thead>\n",
       "    <tr style=\"text-align: right;\">\n",
       "      <th></th>\n",
       "      <th>Year</th>\n",
       "      <th>All</th>\n",
       "      <th>Car</th>\n",
       "      <th>Minibus</th>\n",
       "      <th>Bus</th>\n",
       "      <th>SmallTruck</th>\n",
       "      <th>Truck</th>\n",
       "      <th>Motorcycle</th>\n",
       "      <th>SpecialVehicles</th>\n",
       "      <th>Machinery</th>\n",
       "      <th>Tractor</th>\n",
       "    </tr>\n",
       "  </thead>\n",
       "  <tbody>\n",
       "  </tbody>\n",
       "</table>\n",
       "</div>"
      ],
      "text/plain": [
       "Empty DataFrame\n",
       "Columns: [Year, All, Car, Minibus, Bus, SmallTruck, Truck, Motorcycle, SpecialVehicles, Machinery, Tractor]\n",
       "Index: []"
      ]
     },
     "execution_count": 135,
     "metadata": {},
     "output_type": "execute_result"
    }
   ],
   "source": [
    "df_arac[0:0]"
   ]
  },
  {
   "cell_type": "markdown",
   "metadata": {},
   "source": [
    "# FITTING A POLYNOMIAL"
   ]
  },
  {
   "cell_type": "markdown",
   "metadata": {},
   "source": [
    "**Question :\n",
    "Fit a polynomial of degree K to all columns of the following dataset to predict number of vehicles in the years of 2016 | 2017 | 2018 | 2019 | 2020.**\n",
    "\n",
    "Assume k=3"
   ]
  },
  {
   "cell_type": "markdown",
   "metadata": {},
   "source": [
    "***---------------------------------------CAR---------------------------------------***"
   ]
  },
  {
   "cell_type": "code",
   "execution_count": 136,
   "metadata": {
    "collapsed": false
   },
   "outputs": [
    {
     "data": {
      "image/png": "[encoded data removed]",
      "text/plain": [
       "<matplotlib.figure.Figure at 0x81426d0>"
      ]
     },
     "metadata": {},
     "output_type": "display_data"
    },
    {
     "name": "stdout",
     "output_type": "stream",
     "text": [
      "Prediction of vehicles in the years of 2016-2020 : [[ 10791127.08695168]\n",
      " [ 11356456.74678666]\n",
      " [ 11941292.30405476]\n",
      " [ 12545963.57653564]\n",
      " [ 13170800.38200895]]\n",
      "Total Error is  [[  6.35768969e+11]]\n"
     ]
    }
   ],
   "source": [
    "BaseYear = 1966\n",
    "degree=3\n",
    "\n",
    "x = np.matrix(df_arac.Year[0:]).T-BaseYear\n",
    "y = np.matrix(df_arac.Car[0:]).T\n",
    "A = np.hstack((np.power(x,i) for i in range(degree+1)))\n",
    "ws,E,rank,sigma = np.linalg.lstsq(A, y)\n",
    "f = A*ws\n",
    "\n",
    "\n",
    "#Prediction of 2016-2020\n",
    "TargetYear=np.matrix([2016,2017,2018,2019,2020])\n",
    "x_prediction=np.matrix(TargetYear-BaseYear).T\n",
    "A2 = np.hstack((np.power(x_prediction,i) for i in range(degree+1)))\n",
    "f2=A2*ws\n",
    "\n",
    "\n",
    "#Graphs\n",
    "plt.plot(x+BaseYear, y, 'o-')\n",
    "plt.plot(x+BaseYear, f, 'r')\n",
    "plt.plot(x_prediction+BaseYear,f2,'ro')\n",
    "plt.xlabel('Year')\n",
    "plt.ylabel('Number of Cars')\n",
    "plt.show()\n",
    "\n",
    "#Total Error and Prediction\n",
    "print('Prediction of vehicles in the years of 2016-2020 :',f2)\n",
    "\n",
    "e = y - f\n",
    "print('Total Error is ', e.T*e/2)\n"
   ]
  },
  {
   "cell_type": "markdown",
   "metadata": {},
   "source": [
    "***---------------------------------------MINIBUS---------------------------------------***"
   ]
  },
  {
   "cell_type": "code",
   "execution_count": 137,
   "metadata": {
    "collapsed": false
   },
   "outputs": [
    {
     "data": {
      "image/png": "[encoded data removed]",
      "text/plain": [
       "<matplotlib.figure.Figure at 0x7c2a9f0>"
      ]
     },
     "metadata": {},
     "output_type": "display_data"
    },
    {
     "name": "stdout",
     "output_type": "stream",
     "text": [
      "Prediction of vehicles in the years of 2016-2020 : [[ 478346.16280939]\n",
      " [ 495310.0056793 ]\n",
      " [ 512498.98461795]\n",
      " [ 529908.40895889]\n",
      " [ 547533.58803568]]\n",
      "Total Error is  [[  4.83601934e+09]]\n"
     ]
    }
   ],
   "source": [
    "BaseYear = 1966\n",
    "degree=3\n",
    "\n",
    "x = np.matrix(df_arac.Year[0:]).T-BaseYear\n",
    "y = np.matrix(df_arac.Minibus[0:]).T\n",
    "A = np.hstack((np.power(x,i) for i in range(degree+1)))\n",
    "ws,E,rank,sigma = np.linalg.lstsq(A, y)\n",
    "f = A*ws\n",
    "\n",
    "\n",
    "#Prediction of 2016-2020\n",
    "TargetYear=np.matrix([2016,2017,2018,2019,2020])\n",
    "x_prediction=np.matrix(TargetYear-BaseYear).T\n",
    "A2 = np.hstack((np.power(x_prediction,i) for i in range(degree+1)))\n",
    "f2=A2*ws\n",
    "\n",
    "\n",
    "#Graphs\n",
    "plt.plot(x+BaseYear, y, 'o-')\n",
    "plt.plot(x+BaseYear, f, 'r')\n",
    "plt.plot(x_prediction+BaseYear,f2,'ro')\n",
    "plt.xlabel('Year')\n",
    "plt.ylabel('Number of Minibus')\n",
    "plt.show()\n",
    "\n",
    "#Total Error and Prediction\n",
    "print('Prediction of vehicles in the years of 2016-2020 :',f2)\n",
    "\n",
    "e = y - f\n",
    "print('Total Error is ', e.T*e/2)\n"
   ]
  },
  {
   "cell_type": "markdown",
   "metadata": {},
   "source": [
    "***---------------------------------------BUS---------------------------------------***"
   ]
  },
  {
   "cell_type": "code",
   "execution_count": 138,
   "metadata": {
    "collapsed": false
   },
   "outputs": [
    {
     "data": {
      "image/png": "[encoded data removed]",
      "text/plain": [
       "<matplotlib.figure.Figure at 0x8162cd0>"
      ]
     },
     "metadata": {},
     "output_type": "display_data"
    },
    {
     "name": "stdout",
     "output_type": "stream",
     "text": [
      "Prediction of vehicles in the years of 2016-2020 : [[ 250684.75354756]\n",
      " [ 260030.12990449]\n",
      " [ 269525.79351963]\n",
      " [ 279169.84233279]\n",
      " [ 288960.37428382]]\n",
      "Total Error is  [[  1.83982436e+09]]\n"
     ]
    }
   ],
   "source": [
    "BaseYear = 1966\n",
    "degree=3\n",
    "\n",
    "x = np.matrix(df_arac.Year[0:]).T-BaseYear\n",
    "y = np.matrix(df_arac.Bus[0:]).T\n",
    "A = np.hstack((np.power(x,i) for i in range(degree+1)))\n",
    "ws,E,rank,sigma = np.linalg.lstsq(A, y)\n",
    "f = A*ws\n",
    "\n",
    "\n",
    "#Prediction of 2016-2020\n",
    "TargetYear=np.matrix([2016,2017,2018,2019,2020])\n",
    "x_prediction=np.matrix(TargetYear-BaseYear).T\n",
    "A2 = np.hstack((np.power(x_prediction,i) for i in range(degree+1)))\n",
    "f2=A2*ws\n",
    "\n",
    "\n",
    "#Graphs\n",
    "plt.plot(x+BaseYear, y, 'o-')\n",
    "plt.plot(x+BaseYear, f, 'r')\n",
    "plt.plot(x_prediction+BaseYear,f2,'ro')\n",
    "plt.xlabel('Year')\n",
    "plt.ylabel('Number of Bus')\n",
    "plt.show()\n",
    "\n",
    "#Total Error and Prediction\n",
    "print('Prediction of vehicles in the years of 2016-2020 :',f2)\n",
    "\n",
    "e = y - f\n",
    "print('Total Error is ', e.T*e/2)\n"
   ]
  },
  {
   "cell_type": "markdown",
   "metadata": {},
   "source": [
    "***---------------------------------------SMALL TRUCK---------------------------------------***"
   ]
  },
  {
   "cell_type": "code",
   "execution_count": 139,
   "metadata": {
    "collapsed": false
   },
   "outputs": [
    {
     "data": {
      "image/png": "[encoded data removed]",
      "text/plain": [
       "<matplotlib.figure.Figure at 0x8162a50>"
      ]
     },
     "metadata": {},
     "output_type": "display_data"
    },
    {
     "name": "stdout",
     "output_type": "stream",
     "text": [
      "Prediction of vehicles in the years of 2016-2020 : [[ 3732353.60316962]\n",
      " [ 4024579.24047007]\n",
      " [ 4332282.49098286]\n",
      " [ 4655864.65968401]\n",
      " [ 4995727.05154948]]\n",
      "Total Error is  [[  1.52769899e+11]]\n"
     ]
    }
   ],
   "source": [
    "BaseYear = 1966\n",
    "degree=3\n",
    "\n",
    "x = np.matrix(df_arac.Year[0:]).T-BaseYear\n",
    "y = np.matrix(df_arac.SmallTruck[0:]).T\n",
    "A = np.hstack((np.power(x,i) for i in range(degree+1)))\n",
    "ws,E,rank,sigma = np.linalg.lstsq(A, y)\n",
    "f = A*ws\n",
    "\n",
    "\n",
    "#Prediction of 2016-2020\n",
    "TargetYear=np.matrix([2016,2017,2018,2019,2020])\n",
    "x_prediction=np.matrix(TargetYear-BaseYear).T\n",
    "A2 = np.hstack((np.power(x_prediction,i) for i in range(degree+1)))\n",
    "f2=A2*ws\n",
    "\n",
    "\n",
    "#Graphs\n",
    "plt.plot(x+BaseYear, y, 'o-')\n",
    "plt.plot(x+BaseYear, f, 'r')\n",
    "plt.plot(x_prediction+BaseYear,f2,'ro')\n",
    "plt.xlabel('Year')\n",
    "plt.ylabel('Number of SmallTruck')\n",
    "plt.show()\n",
    "\n",
    "#Total Error and Prediction\n",
    "print('Prediction of vehicles in the years of 2016-2020 :',f2)\n",
    "\n",
    "e = y - f\n",
    "print('Total Error is ', e.T*e/2)\n"
   ]
  },
  {
   "cell_type": "markdown",
   "metadata": {},
   "source": [
    "***---------------------------------------TRUCK---------------------------------------***"
   ]
  },
  {
   "cell_type": "code",
   "execution_count": 140,
   "metadata": {
    "collapsed": false
   },
   "outputs": [
    {
     "data": {
      "image/png": "[encoded data removed]",
      "text/plain": [
       "<matplotlib.figure.Figure at 0x980b710>"
      ]
     },
     "metadata": {},
     "output_type": "display_data"
    },
    {
     "name": "stdout",
     "output_type": "stream",
     "text": [
      "Prediction of vehicles in the years of 2016-2020 : [[  899554.09343897]\n",
      " [  935219.28057467]\n",
      " [  971823.19734308]\n",
      " [ 1009377.25756459]\n",
      " [ 1047892.87505958]]\n",
      "Total Error is  [[  5.53361521e+10]]\n"
     ]
    }
   ],
   "source": [
    "BaseYear = 1966\n",
    "degree=3\n",
    "\n",
    "x = np.matrix(df_arac.Year[0:]).T-BaseYear\n",
    "y = np.matrix(df_arac.Truck[0:]).T\n",
    "A = np.hstack((np.power(x,i) for i in range(degree+1)))\n",
    "ws,E,rank,sigma = np.linalg.lstsq(A, y)\n",
    "f = A*ws\n",
    "\n",
    "\n",
    "#Prediction of 2016-2020\n",
    "TargetYear=np.matrix([2016,2017,2018,2019,2020])\n",
    "x_prediction=np.matrix(TargetYear-BaseYear).T\n",
    "A2 = np.hstack((np.power(x_prediction,i) for i in range(degree+1)))\n",
    "f2=A2*ws\n",
    "\n",
    "\n",
    "#Graphs\n",
    "plt.plot(x+BaseYear, y, 'o-')\n",
    "plt.plot(x+BaseYear, f, 'r')\n",
    "plt.plot(x_prediction+BaseYear,f2,'ro')\n",
    "plt.xlabel('Year')\n",
    "plt.ylabel('Number of Truck')\n",
    "plt.show()\n",
    "\n",
    "#Total Error and Prediction\n",
    "print('Prediction of vehicles in the years of 2016-2020 :',f2)\n",
    "\n",
    "e = y - f\n",
    "print('Total Error is ', e.T*e/2)\n"
   ]
  },
  {
   "cell_type": "markdown",
   "metadata": {},
   "source": [
    "***---------------------------------------MOTORCYCLE---------------------------------------***"
   ]
  },
  {
   "cell_type": "code",
   "execution_count": 141,
   "metadata": {
    "collapsed": false
   },
   "outputs": [
    {
     "data": {
      "image/png": "[encoded data removed]",
      "text/plain": [
       "<matplotlib.figure.Figure at 0x94c62b0>"
      ]
     },
     "metadata": {},
     "output_type": "display_data"
    },
    {
     "name": "stdout",
     "output_type": "stream",
     "text": [
      "Prediction of vehicles in the years of 2016-2020 : [[ 3281572.99891857]\n",
      " [ 3479311.29359813]\n",
      " [ 3685362.74991174]\n",
      " [ 3899907.61599511]\n",
      " [ 4123126.13998397]]\n",
      "Total Error is  [[  2.74117881e+11]]\n"
     ]
    }
   ],
   "source": [
    "BaseYear = 1966\n",
    "degree=3\n",
    "\n",
    "x = np.matrix(df_arac.Year[0:]).T-BaseYear\n",
    "y = np.matrix(df_arac.Motorcycle[0:]).T\n",
    "A = np.hstack((np.power(x,i) for i in range(degree+1)))\n",
    "ws,E,rank,sigma = np.linalg.lstsq(A, y)\n",
    "f = A*ws\n",
    "\n",
    "\n",
    "#Prediction of 2016-2020\n",
    "TargetYear=np.matrix([2016,2017,2018,2019,2020])\n",
    "x_prediction=np.matrix(TargetYear-BaseYear).T\n",
    "A2 = np.hstack((np.power(x_prediction,i) for i in range(degree+1)))\n",
    "f2=A2*ws\n",
    "\n",
    "\n",
    "#Graphs\n",
    "plt.plot(x+BaseYear, y, 'o-')\n",
    "plt.plot(x+BaseYear, f, 'r')\n",
    "plt.plot(x_prediction+BaseYear,f2,'ro')\n",
    "plt.xlabel('Year')\n",
    "plt.ylabel('Number of Motorcycle')\n",
    "plt.show()\n",
    "\n",
    "#Total Error and Prediction\n",
    "print('Prediction of vehicles in the years of 2016-2020 :',f2)\n",
    "\n",
    "e = y - f\n",
    "print('Total Error is ', e.T*e/2)\n"
   ]
  },
  {
   "cell_type": "markdown",
   "metadata": {},
   "source": [
    "***---------------------------------------SPECIAL VEHICLES---------------------------------------***"
   ]
  },
  {
   "cell_type": "code",
   "execution_count": 142,
   "metadata": {
    "collapsed": false
   },
   "outputs": [
    {
     "data": {
      "image/png": "[encoded data removed]",
      "text/plain": [
       "<matplotlib.figure.Figure at 0x8125df0>"
      ]
     },
     "metadata": {},
     "output_type": "display_data"
    },
    {
     "name": "stdout",
     "output_type": "stream",
     "text": [
      "Prediction of vehicles in the years of 2016-2020 : [[ 27715.46302216]\n",
      " [ 24325.23345714]\n",
      " [ 20577.74034428]\n",
      " [ 16461.04492302]\n",
      " [ 11963.2084328 ]]\n",
      "Total Error is  [[  1.11784777e+09]]\n"
     ]
    }
   ],
   "source": [
    "BaseYear = 1966\n",
    "degree=3\n",
    "\n",
    "x = np.matrix(df_arac.Year[0:]).T-BaseYear\n",
    "y = np.matrix(df_arac.SpecialVehicles[0:]).T\n",
    "A = np.hstack((np.power(x,i) for i in range(degree+1)))\n",
    "ws,E,rank,sigma = np.linalg.lstsq(A, y)\n",
    "f = A*ws\n",
    "\n",
    "\n",
    "#Prediction of 2016-2020\n",
    "TargetYear=np.matrix([2016,2017,2018,2019,2020])\n",
    "x_prediction=np.matrix(TargetYear-BaseYear).T\n",
    "A2 = np.hstack((np.power(x_prediction,i) for i in range(degree+1)))\n",
    "f2=A2*ws\n",
    "\n",
    "\n",
    "#Graphs\n",
    "plt.plot(x+BaseYear, y, 'o-')\n",
    "plt.plot(x+BaseYear, f, 'r')\n",
    "plt.plot(x_prediction+BaseYear,f2,'ro')\n",
    "plt.xlabel('Year')\n",
    "plt.ylabel('Number of SpecialVehicles')\n",
    "plt.show()\n",
    "\n",
    "#Total Error and Prediction\n",
    "print('Prediction of vehicles in the years of 2016-2020 :',f2)\n",
    "\n",
    "e = y - f\n",
    "print('Total Error is ', e.T*e/2)\n"
   ]
  },
  {
   "cell_type": "markdown",
   "metadata": {},
   "source": [
    "***---------------------------------------MACHINERY---------------------------------------***"
   ]
  },
  {
   "cell_type": "code",
   "execution_count": 143,
   "metadata": {
    "collapsed": false
   },
   "outputs": [
    {
     "data": {
      "image/png": "[encoded data removed]",
      "text/plain": [
       "<matplotlib.figure.Figure at 0x7c6b4b0>"
      ]
     },
     "metadata": {},
     "output_type": "display_data"
    },
    {
     "name": "stdout",
     "output_type": "stream",
     "text": [
      "Prediction of vehicles in the years of 2016-2020 : [[ 260601.45125931]\n",
      " [ 270791.12700671]\n",
      " [ 281178.50971764]\n",
      " [ 291763.63215732]\n",
      " [ 302546.52709093]]\n",
      "Total Error is  [[  1.32789639e+08]]\n"
     ]
    }
   ],
   "source": [
    "BaseYear = 1966\n",
    "degree=3\n",
    "\n",
    "x = np.matrix(df_arac.Year[0:37]).T-BaseYear\n",
    "y = np.matrix(df_arac.Machinery[0:37]).T\n",
    "A = np.hstack((np.power(x,i) for i in range(degree+1)))\n",
    "ws,E,rank,sigma = np.linalg.lstsq(A, y)\n",
    "f = A*ws\n",
    "\n",
    "\n",
    "#Prediction of 2016-2020\n",
    "TargetYear=np.matrix([2016,2017,2018,2019,2020])\n",
    "x_prediction=np.matrix(TargetYear-BaseYear).T\n",
    "A2 = np.hstack((np.power(x_prediction,i) for i in range(degree+1)))\n",
    "f2=A2*ws\n",
    "\n",
    "\n",
    "#Graphs\n",
    "plt.plot(x+BaseYear, y, 'o-')\n",
    "plt.plot(x+BaseYear, f, 'r')\n",
    "plt.plot(x_prediction+BaseYear,f2,'ro')\n",
    "plt.xlabel('Year')\n",
    "plt.ylabel('Number of Machinery')\n",
    "plt.show()\n",
    "\n",
    "#Total Error and Prediction\n",
    "print('Prediction of vehicles in the years of 2016-2020 :',f2)\n",
    "\n",
    "e = y - f\n",
    "print('Total Error is ', e.T*e/2)\n"
   ]
  },
  {
   "cell_type": "markdown",
   "metadata": {},
   "source": [
    "***---------------------------------------TRACTOR---------------------------------------***"
   ]
  },
  {
   "cell_type": "code",
   "execution_count": 144,
   "metadata": {
    "collapsed": false
   },
   "outputs": [
    {
     "data": {
      "image/png": "[encoded data removed]",
      "text/plain": [
       "<matplotlib.figure.Figure at 0x94a2eb0>"
      ]
     },
     "metadata": {},
     "output_type": "display_data"
    },
    {
     "name": "stdout",
     "output_type": "stream",
     "text": [
      "Prediction of vehicles in the years of 2016-2020 : [[ 1677420.8346583 ]\n",
      " [ 1719057.19022132]\n",
      " [ 1761889.79582885]\n",
      " [ 1805996.58091606]\n",
      " [ 1851455.47491809]]\n",
      "Total Error is  [[  1.80390659e+10]]\n"
     ]
    }
   ],
   "source": [
    "BaseYear = 1979\n",
    "degree=3\n",
    "\n",
    "x = np.matrix(df_arac.Year[13:]).T-BaseYear\n",
    "y = np.matrix(df_arac.Tractor[13:]).T\n",
    "A = np.hstack((np.power(x,i) for i in range(degree+1)))\n",
    "ws,E,rank,sigma = np.linalg.lstsq(A, y)\n",
    "f = A*ws\n",
    "\n",
    "\n",
    "#Prediction of 2016-2020\n",
    "TargetYear=np.matrix([2016,2017,2018,2019,2020])\n",
    "x_prediction=np.matrix(TargetYear-BaseYear).T\n",
    "A2 = np.hstack((np.power(x_prediction,i) for i in range(degree+1)))\n",
    "f2=A2*ws\n",
    "\n",
    "\n",
    "#Graphs\n",
    "plt.plot(x+BaseYear, y, 'o-')\n",
    "plt.plot(x+BaseYear, f, 'r')\n",
    "plt.plot(x_prediction+BaseYear,f2,'ro')\n",
    "plt.xlabel('Year')\n",
    "plt.ylabel('Number of Tractor')\n",
    "plt.show()\n",
    "\n",
    "#Total Error and Prediction\n",
    "print('Prediction of vehicles in the years of 2016-2020 :',f2)\n",
    "\n",
    "e = y - f\n",
    "print('Total Error is ', e.T*e/2)\n"
   ]
  },
  {
   "cell_type": "markdown",
   "metadata": {},
   "source": [
    "**Fit an AR model to each data sequence**\n",
    "\n",
    "Assume degree=1"
   ]
  },
  {
   "cell_type": "markdown",
   "metadata": {},
   "source": [
    "***---------------------------------------CAR---------------------------------------***"
   ]
  },
  {
   "cell_type": "markdown",
   "metadata": {
    "collapsed": true
   },
   "source": [
    "# FITTING A-R MODEL"
   ]
  },
  {
   "cell_type": "code",
   "execution_count": 145,
   "metadata": {
    "collapsed": false
   },
   "outputs": [
    {
     "name": "stdout",
     "output_type": "stream",
     "text": [
      "2016 Projection =  [[ 11161409.9128974]]\n",
      "2017 Projection =  [[ 11851363.8176934]]\n",
      "2018 Projection =  [[ 12581310.9072117]]\n",
      "2019 Projection =  [[ 13353569.38678908]]\n",
      "2020 Projection =  [[ 14170591.83655695]]\n",
      "Total Error is  [[  2.40205399e+11]]\n"
     ]
    },
    {
     "data": {
      "image/png": "[encoded data removed]",
      "text/plain": [
       "<matplotlib.figure.Figure at 0x94f5bf0>"
      ]
     },
     "metadata": {},
     "output_type": "display_data"
    }
   ],
   "source": [
    "BaseYear = 1966\n",
    "degree=1\n",
    "\n",
    "x = np.matrix(df_arac.Car[0:48]).T\n",
    "y = np.matrix(df_arac.Car[1:49]).T\n",
    "A = np.hstack((np.power(x,i) for i in range(degree+1)))\n",
    "ws,E,rank,sigma = np.linalg.lstsq(A, y)\n",
    "f = A*ws\n",
    "\n",
    "\n",
    "#Graphs\n",
    "plt.plot(x, y, 'o-')\n",
    "plt.plot(x, f, 'r')\n",
    "plt.xlabel('Number of Cars')\n",
    "plt.ylabel('Number of Cars (corresponds 1month later)')\n",
    "\n",
    "\n",
    "\n",
    "#Prediction of 2016-2020\n",
    "\n",
    "#2016\n",
    "x_prediction=np.matrix(df_arac.Car[49:])\n",
    "A2=np.hstack((np.power(x_prediction,i) for i in range(degree+1)))              \n",
    "projection2016=A2*ws\n",
    "print('2016 Projection = ', projection2016)\n",
    "plt.plot(x_prediction,projection2016,'ro')             \n",
    "                \n",
    "#2017           \n",
    "A2 = np.hstack((np.power(projection2016,i) for i in range(degree+1)))\n",
    "projection2017=A2*ws\n",
    "print('2017 Projection = ', projection2017)               \n",
    "plt.plot(projection2016,projection2017,'ro')    \n",
    "\n",
    "\n",
    "#2018           \n",
    "A2 = np.hstack((np.power(projection2017,i) for i in range(degree+1)))\n",
    "projection2018=A2*ws\n",
    "print('2018 Projection = ', projection2018)\n",
    "plt.plot(projection2017,projection2018,'ro')\n",
    "\n",
    "\n",
    "#2019        \n",
    "A2 = np.hstack((np.power(projection2018,i) for i in range(degree+1)))\n",
    "projection2019=A2*ws\n",
    "print('2019 Projection = ', projection2019)\n",
    "plt.plot(projection2018,projection2019,'ro')\n",
    "\n",
    "\n",
    "#2020           \n",
    "A2 = np.hstack((np.power(projection2019,i) for i in range(degree+1)))\n",
    "projection2020=A2*ws\n",
    "print('2020 Projection = ', projection2020)\n",
    "plt.plot(projection2019,projection2020,'ro')\n",
    "\n",
    "e = y - f\n",
    "print('Total Error is ', e.T*e/2)\n",
    "plt.show()"
   ]
  },
  {
   "cell_type": "markdown",
   "metadata": {},
   "source": [
    "***---------------------------------------MINIBUS---------------------------------------***"
   ]
  },
  {
   "cell_type": "code",
   "execution_count": 146,
   "metadata": {
    "collapsed": false
   },
   "outputs": [
    {
     "name": "stdout",
     "output_type": "stream",
     "text": [
      "2016 Projection =  [[ 462414.52011569]]\n",
      "2017 Projection =  [[ 478385.44482352]]\n",
      "2018 Projection =  [[ 494743.9573751]]\n",
      "2019 Projection =  [[ 511499.46388431]]\n",
      "2020 Projection =  [[ 528661.59873582]]\n",
      "Total Error is  [[  2.59875061e+09]]\n"
     ]
    },
    {
     "data": {
      "image/png": "[encoded data removed]",
      "text/plain": [
       "<matplotlib.figure.Figure at 0x94f7f70>"
      ]
     },
     "metadata": {},
     "output_type": "display_data"
    }
   ],
   "source": [
    "BaseYear = 1966\n",
    "degree=1\n",
    "\n",
    "x = np.matrix(df_arac.Minibus[0:48]).T\n",
    "y = np.matrix(df_arac.Minibus[1:49]).T\n",
    "A = np.hstack((np.power(x,i) for i in range(degree+1)))\n",
    "ws,E,rank,sigma = np.linalg.lstsq(A, y)\n",
    "f = A*ws\n",
    "\n",
    "\n",
    "#Graphs\n",
    "plt.plot(x, y, 'o-')\n",
    "plt.plot(x, f, 'r')\n",
    "plt.xlabel('Number of Minibus')\n",
    "plt.ylabel('Number of Minibus (corresponds 1month later)')\n",
    "\n",
    "\n",
    "\n",
    "#Prediction of 2016-2020\n",
    "\n",
    "#2016\n",
    "x_prediction=np.matrix(df_arac.Minibus[49:])\n",
    "A2=np.hstack((np.power(x_prediction,i) for i in range(degree+1)))              \n",
    "projection2016=A2*ws\n",
    "print('2016 Projection = ', projection2016)\n",
    "plt.plot(x_prediction,projection2016,'ro')             \n",
    "                \n",
    "#2017           \n",
    "A2 = np.hstack((np.power(projection2016,i) for i in range(degree+1)))\n",
    "projection2017=A2*ws\n",
    "print('2017 Projection = ', projection2017)               \n",
    "plt.plot(projection2016,projection2017,'ro')    \n",
    "\n",
    "\n",
    "#2018           \n",
    "A2 = np.hstack((np.power(projection2017,i) for i in range(degree+1)))\n",
    "projection2018=A2*ws\n",
    "print('2018 Projection = ', projection2018)\n",
    "plt.plot(projection2017,projection2018,'ro')\n",
    "\n",
    "\n",
    "#2019        \n",
    "A2 = np.hstack((np.power(projection2018,i) for i in range(degree+1)))\n",
    "projection2019=A2*ws\n",
    "print('2019 Projection = ', projection2019)\n",
    "plt.plot(projection2018,projection2019,'ro')\n",
    "\n",
    "\n",
    "#2020           \n",
    "A2 = np.hstack((np.power(projection2019,i) for i in range(degree+1)))\n",
    "projection2020=A2*ws\n",
    "print('2020 Projection = ', projection2020)\n",
    "plt.plot(projection2019,projection2020,'ro')\n",
    "\n",
    "e = y - f\n",
    "print('Total Error is ', e.T*e/2)\n",
    "plt.show()"
   ]
  },
  {
   "cell_type": "markdown",
   "metadata": {},
   "source": [
    "***---------------------------------------BUS---------------------------------------***"
   ]
  },
  {
   "cell_type": "code",
   "execution_count": 147,
   "metadata": {
    "collapsed": false
   },
   "outputs": [
    {
     "name": "stdout",
     "output_type": "stream",
     "text": [
      "2016 Projection =  [[ 223176.23604226]]\n",
      "2017 Projection =  [[ 229909.91749538]]\n",
      "2018 Projection =  [[ 236769.34968845]]\n",
      "2019 Projection =  [[ 243756.88100232]]\n",
      "2020 Projection =  [[ 250874.9036736]]\n",
      "Total Error is  [[  8.90400811e+08]]\n"
     ]
    },
    {
     "data": {
      "image/png": "[encoded data removed]",
      "text/plain": [
       "<matplotlib.figure.Figure at 0x7c1bdd0>"
      ]
     },
     "metadata": {},
     "output_type": "display_data"
    }
   ],
   "source": [
    "BaseYear = 1966\n",
    "degree=1\n",
    "\n",
    "x = np.matrix(df_arac.Bus[0:48]).T\n",
    "y = np.matrix(df_arac.Bus[1:49]).T\n",
    "A = np.hstack((np.power(x,i) for i in range(degree+1)))\n",
    "ws,E,rank,sigma = np.linalg.lstsq(A, y)\n",
    "f = A*ws\n",
    "\n",
    "\n",
    "#Graphs\n",
    "plt.plot(x, y, 'o-')\n",
    "plt.plot(x, f, 'r')\n",
    "plt.xlabel('Number of Bus')\n",
    "plt.ylabel('Number of Bus (corresponds 1month later)')\n",
    "\n",
    "\n",
    "\n",
    "#Prediction of 2016-2020\n",
    "\n",
    "#2016\n",
    "x_prediction=np.matrix(df_arac.Bus[49:])\n",
    "A2=np.hstack((np.power(x_prediction,i) for i in range(degree+1)))              \n",
    "projection2016=A2*ws\n",
    "print('2016 Projection = ', projection2016)\n",
    "plt.plot(x_prediction,projection2016,'ro')             \n",
    "                \n",
    "#2017           \n",
    "A2 = np.hstack((np.power(projection2016,i) for i in range(degree+1)))\n",
    "projection2017=A2*ws\n",
    "print('2017 Projection = ', projection2017)               \n",
    "plt.plot(projection2016,projection2017,'ro')    \n",
    "\n",
    "\n",
    "#2018           \n",
    "A2 = np.hstack((np.power(projection2017,i) for i in range(degree+1)))\n",
    "projection2018=A2*ws\n",
    "print('2018 Projection = ', projection2018)\n",
    "plt.plot(projection2017,projection2018,'ro')\n",
    "\n",
    "\n",
    "#2019        \n",
    "A2 = np.hstack((np.power(projection2018,i) for i in range(degree+1)))\n",
    "projection2019=A2*ws\n",
    "print('2019 Projection = ', projection2019)\n",
    "plt.plot(projection2018,projection2019,'ro')\n",
    "\n",
    "\n",
    "#2020           \n",
    "A2 = np.hstack((np.power(projection2019,i) for i in range(degree+1)))\n",
    "projection2020=A2*ws\n",
    "print('2020 Projection = ', projection2020)\n",
    "plt.plot(projection2019,projection2020,'ro')\n",
    "\n",
    "e = y - f\n",
    "print('Total Error is ', e.T*e/2)\n",
    "plt.show()"
   ]
  },
  {
   "cell_type": "markdown",
   "metadata": {},
   "source": [
    "***---------------------------------------SMALL TRUCK---------------------------------------***"
   ]
  },
  {
   "cell_type": "code",
   "execution_count": 148,
   "metadata": {
    "collapsed": false
   },
   "outputs": [
    {
     "name": "stdout",
     "output_type": "stream",
     "text": [
      "2016 Projection =  [[ 3490534.12531505]]\n",
      "2017 Projection =  [[ 3764893.19971448]]\n",
      "2018 Projection =  [[ 4059814.89680019]]\n",
      "2019 Projection =  [[ 4376840.34092778]]\n",
      "2020 Projection =  [[ 4717626.16040951]]\n",
      "Total Error is  [[  4.91033681e+10]]\n"
     ]
    },
    {
     "data": {
      "image/png": "[encoded data removed]",
      "text/plain": [
       "<matplotlib.figure.Figure at 0x985db70>"
      ]
     },
     "metadata": {},
     "output_type": "display_data"
    }
   ],
   "source": [
    "BaseYear = 1966\n",
    "degree=1\n",
    "\n",
    "x = np.matrix(df_arac.SmallTruck[0:48]).T\n",
    "y = np.matrix(df_arac.SmallTruck[1:49]).T\n",
    "A = np.hstack((np.power(x,i) for i in range(degree+1)))\n",
    "ws,E,rank,sigma = np.linalg.lstsq(A, y)\n",
    "f = A*ws\n",
    "\n",
    "\n",
    "#Graphs\n",
    "plt.plot(x, y, 'o-')\n",
    "plt.plot(x, f, 'r')\n",
    "plt.xlabel('Number of SmallTruck')\n",
    "plt.ylabel('Number of SmallTruck (corresponds 1month later)')\n",
    "\n",
    "\n",
    "\n",
    "#Prediction of 2016-2020\n",
    "\n",
    "#2016\n",
    "x_prediction=np.matrix(df_arac.SmallTruck[49:])\n",
    "A2=np.hstack((np.power(x_prediction,i) for i in range(degree+1)))              \n",
    "projection2016=A2*ws\n",
    "print('2016 Projection = ', projection2016)\n",
    "plt.plot(x_prediction,projection2016,'ro')             \n",
    "                \n",
    "#2017           \n",
    "A2 = np.hstack((np.power(projection2016,i) for i in range(degree+1)))\n",
    "projection2017=A2*ws\n",
    "print('2017 Projection = ', projection2017)               \n",
    "plt.plot(projection2016,projection2017,'ro')    \n",
    "\n",
    "\n",
    "#2018           \n",
    "A2 = np.hstack((np.power(projection2017,i) for i in range(degree+1)))\n",
    "projection2018=A2*ws\n",
    "print('2018 Projection = ', projection2018)\n",
    "plt.plot(projection2017,projection2018,'ro')\n",
    "\n",
    "\n",
    "#2019        \n",
    "A2 = np.hstack((np.power(projection2018,i) for i in range(degree+1)))\n",
    "projection2019=A2*ws\n",
    "print('2019 Projection = ', projection2019)\n",
    "plt.plot(projection2018,projection2019,'ro')\n",
    "\n",
    "\n",
    "#2020           \n",
    "A2 = np.hstack((np.power(projection2019,i) for i in range(degree+1)))\n",
    "projection2020=A2*ws\n",
    "print('2020 Projection = ', projection2020)\n",
    "plt.plot(projection2019,projection2020,'ro')\n",
    "\n",
    "e = y - f\n",
    "print('Total Error is ', e.T*e/2)\n",
    "plt.show()"
   ]
  },
  {
   "cell_type": "markdown",
   "metadata": {},
   "source": [
    "***---------------------------------------TRUCK---------------------------------------***"
   ]
  },
  {
   "cell_type": "code",
   "execution_count": 149,
   "metadata": {
    "collapsed": false
   },
   "outputs": [
    {
     "name": "stdout",
     "output_type": "stream",
     "text": [
      "2016 Projection =  [[ 824057.7656031]]\n",
      "2017 Projection =  [[ 845781.07975304]]\n",
      "2018 Projection =  [[ 867788.61303452]]\n",
      "2019 Projection =  [[ 890084.08405669]]\n",
      "2020 Projection =  [[ 912671.26008148]]\n",
      "Total Error is  [[  2.76408757e+10]]\n"
     ]
    },
    {
     "data": {
      "image/png": "[encoded data removed]",
      "text/plain": [
       "<matplotlib.figure.Figure at 0x8274d30>"
      ]
     },
     "metadata": {},
     "output_type": "display_data"
    }
   ],
   "source": [
    "BaseYear = 1966\n",
    "degree=1\n",
    "\n",
    "x = np.matrix(df_arac.Truck[0:48]).T\n",
    "y = np.matrix(df_arac.Truck[1:49]).T\n",
    "A = np.hstack((np.power(x,i) for i in range(degree+1)))\n",
    "ws,E,rank,sigma = np.linalg.lstsq(A, y)\n",
    "f = A*ws\n",
    "\n",
    "\n",
    "#Graphs\n",
    "plt.plot(x, y, 'o-')\n",
    "plt.plot(x, f, 'r')\n",
    "plt.xlabel('Number of Truck')\n",
    "plt.ylabel('Number of Truck (corresponds 1month later)')\n",
    "\n",
    "\n",
    "\n",
    "#Prediction of 2016-2020\n",
    "\n",
    "#2016\n",
    "x_prediction=np.matrix(df_arac.Truck[49:])\n",
    "A2=np.hstack((np.power(x_prediction,i) for i in range(degree+1)))              \n",
    "projection2016=A2*ws\n",
    "print('2016 Projection = ', projection2016)\n",
    "plt.plot(x_prediction,projection2016,'ro')             \n",
    "                \n",
    "#2017           \n",
    "A2 = np.hstack((np.power(projection2016,i) for i in range(degree+1)))\n",
    "projection2017=A2*ws\n",
    "print('2017 Projection = ', projection2017)               \n",
    "plt.plot(projection2016,projection2017,'ro')    \n",
    "\n",
    "\n",
    "#2018           \n",
    "A2 = np.hstack((np.power(projection2017,i) for i in range(degree+1)))\n",
    "projection2018=A2*ws\n",
    "print('2018 Projection = ', projection2018)\n",
    "plt.plot(projection2017,projection2018,'ro')\n",
    "\n",
    "\n",
    "#2019        \n",
    "A2 = np.hstack((np.power(projection2018,i) for i in range(degree+1)))\n",
    "projection2019=A2*ws\n",
    "print('2019 Projection = ', projection2019)\n",
    "plt.plot(projection2018,projection2019,'ro')\n",
    "\n",
    "\n",
    "#2020           \n",
    "A2 = np.hstack((np.power(projection2019,i) for i in range(degree+1)))\n",
    "projection2020=A2*ws\n",
    "print('2020 Projection = ', projection2020)\n",
    "plt.plot(projection2019,projection2020,'ro')\n",
    "\n",
    "e = y - f\n",
    "print('Total Error is ', e.T*e/2)\n",
    "plt.show()"
   ]
  },
  {
   "cell_type": "markdown",
   "metadata": {},
   "source": [
    "***---------------------------------------MOTORCYCLE---------------------------------------***"
   ]
  },
  {
   "cell_type": "code",
   "execution_count": 150,
   "metadata": {
    "collapsed": false
   },
   "outputs": [
    {
     "name": "stdout",
     "output_type": "stream",
     "text": [
      "2016 Projection =  [[ 3113465.33944727]]\n",
      "2017 Projection =  [[ 3297497.47737349]]\n",
      "2018 Projection =  [[ 3491422.04370575]]\n",
      "2019 Projection =  [[ 3695770.79415188]]\n",
      "2020 Projection =  [[ 3911104.06831453]]\n",
      "Total Error is  [[  7.42367240e+10]]\n"
     ]
    },
    {
     "data": {
      "image/png": "[encoded data removed]",
      "text/plain": [
       "<matplotlib.figure.Figure at 0x942bf90>"
      ]
     },
     "metadata": {},
     "output_type": "display_data"
    }
   ],
   "source": [
    "BaseYear = 1966\n",
    "degree=1\n",
    "\n",
    "x = np.matrix(df_arac.Motorcycle[0:48]).T\n",
    "y = np.matrix(df_arac.Motorcycle[1:49]).T\n",
    "A = np.hstack((np.power(x,i) for i in range(degree+1)))\n",
    "ws,E,rank,sigma = np.linalg.lstsq(A, y)\n",
    "f = A*ws\n",
    "\n",
    "\n",
    "#Graphs\n",
    "plt.plot(x, y, 'o-')\n",
    "plt.plot(x, f, 'r')\n",
    "plt.xlabel('Number of Motorcycle')\n",
    "plt.ylabel('Number of Motorcycle (corresponds 1month later)')\n",
    "\n",
    "\n",
    "\n",
    "#Prediction of 2016-2020\n",
    "\n",
    "#2016\n",
    "x_prediction=np.matrix(df_arac.Motorcycle[49:])\n",
    "A2=np.hstack((np.power(x_prediction,i) for i in range(degree+1)))              \n",
    "projection2016=A2*ws\n",
    "print('2016 Projection = ', projection2016)\n",
    "plt.plot(x_prediction,projection2016,'ro')             \n",
    "                \n",
    "#2017           \n",
    "A2 = np.hstack((np.power(projection2016,i) for i in range(degree+1)))\n",
    "projection2017=A2*ws\n",
    "print('2017 Projection = ', projection2017)               \n",
    "plt.plot(projection2016,projection2017,'ro')    \n",
    "\n",
    "\n",
    "#2018           \n",
    "A2 = np.hstack((np.power(projection2017,i) for i in range(degree+1)))\n",
    "projection2018=A2*ws\n",
    "print('2018 Projection = ', projection2018)\n",
    "plt.plot(projection2017,projection2018,'ro')\n",
    "\n",
    "\n",
    "#2019        \n",
    "A2 = np.hstack((np.power(projection2018,i) for i in range(degree+1)))\n",
    "projection2019=A2*ws\n",
    "print('2019 Projection = ', projection2019)\n",
    "plt.plot(projection2018,projection2019,'ro')\n",
    "\n",
    "\n",
    "#2020           \n",
    "A2 = np.hstack((np.power(projection2019,i) for i in range(degree+1)))\n",
    "projection2020=A2*ws\n",
    "print('2020 Projection = ', projection2020)\n",
    "plt.plot(projection2019,projection2020,'ro')\n",
    "\n",
    "e = y - f\n",
    "print('Total Error is ', e.T*e/2)\n",
    "plt.show()"
   ]
  },
  {
   "cell_type": "markdown",
   "metadata": {},
   "source": [
    "***---------------------------------------SPECIAL VEHICLES---------------------------------------***"
   ]
  },
  {
   "cell_type": "code",
   "execution_count": 151,
   "metadata": {
    "collapsed": false
   },
   "outputs": [
    {
     "name": "stdout",
     "output_type": "stream",
     "text": [
      "2016 Projection =  [[ 44769.41579677]]\n",
      "2017 Projection =  [[ 44422.23934331]]\n",
      "2018 Projection =  [[ 44095.22725549]]\n",
      "2019 Projection =  [[ 43787.2083662]]\n",
      "2020 Projection =  [[ 43497.07953093]]\n",
      "Total Error is  [[  6.02944275e+08]]\n"
     ]
    },
    {
     "data": {
      "image/png": "[encoded data removed]",
      "text/plain": [
       "<matplotlib.figure.Figure at 0x8274950>"
      ]
     },
     "metadata": {},
     "output_type": "display_data"
    }
   ],
   "source": [
    "BaseYear = 1966\n",
    "degree=1\n",
    "\n",
    "x = np.matrix(df_arac.SpecialVehicles[0:48]).T\n",
    "y = np.matrix(df_arac.SpecialVehicles[1:49]).T\n",
    "A = np.hstack((np.power(x,i) for i in range(degree+1)))\n",
    "ws,E,rank,sigma = np.linalg.lstsq(A, y)\n",
    "f = A*ws\n",
    "\n",
    "\n",
    "#Graphs\n",
    "plt.plot(x, y, 'o-')\n",
    "plt.plot(x, f, 'r')\n",
    "plt.xlabel('Number of SpecialVehicles')\n",
    "plt.ylabel('Number of SpecialVehicles (corresponds 1month later)')\n",
    "\n",
    "\n",
    "\n",
    "#Prediction of 2016-2020\n",
    "\n",
    "#2016\n",
    "x_prediction=np.matrix(df_arac.SpecialVehicles[49:])\n",
    "A2=np.hstack((np.power(x_prediction,i) for i in range(degree+1)))              \n",
    "projection2016=A2*ws\n",
    "print('2016 Projection = ', projection2016)\n",
    "plt.plot(x_prediction,projection2016,'ro')             \n",
    "                \n",
    "#2017           \n",
    "A2 = np.hstack((np.power(projection2016,i) for i in range(degree+1)))\n",
    "projection2017=A2*ws\n",
    "print('2017 Projection = ', projection2017)               \n",
    "plt.plot(projection2016,projection2017,'ro')    \n",
    "\n",
    "\n",
    "#2018           \n",
    "A2 = np.hstack((np.power(projection2017,i) for i in range(degree+1)))\n",
    "projection2018=A2*ws\n",
    "print('2018 Projection = ', projection2018)\n",
    "plt.plot(projection2017,projection2018,'ro')\n",
    "\n",
    "\n",
    "#2019        \n",
    "A2 = np.hstack((np.power(projection2018,i) for i in range(degree+1)))\n",
    "projection2019=A2*ws\n",
    "print('2019 Projection = ', projection2019)\n",
    "plt.plot(projection2018,projection2019,'ro')\n",
    "\n",
    "\n",
    "#2020           \n",
    "A2 = np.hstack((np.power(projection2019,i) for i in range(degree+1)))\n",
    "projection2020=A2*ws\n",
    "print('2020 Projection = ', projection2020)\n",
    "plt.plot(projection2019,projection2020,'ro')\n",
    "\n",
    "e = y - f\n",
    "print('Total Error is ', e.T*e/2)\n",
    "plt.show()"
   ]
  },
  {
   "cell_type": "markdown",
   "metadata": {},
   "source": [
    "***---------------------------------------MACHINERY---------------------------------------***"
   ]
  },
  {
   "cell_type": "code",
   "execution_count": 152,
   "metadata": {
    "collapsed": false
   },
   "outputs": [
    {
     "name": "stdout",
     "output_type": "stream",
     "text": [
      "Total Error is  [[ 95174021.04042491]]\n"
     ]
    },
    {
     "data": {
      "image/png": "[encoded data removed]",
      "text/plain": [
       "<matplotlib.figure.Figure at 0x9412f10>"
      ]
     },
     "metadata": {},
     "output_type": "display_data"
    }
   ],
   "source": [
    "BaseYear = 1966\n",
    "degree=1\n",
    "\n",
    "x = np.matrix(df_arac.Machinery[0:36]).T\n",
    "y = np.matrix(df_arac.Machinery[1:37]).T\n",
    "A = np.hstack((np.power(x,i) for i in range(degree+1)))\n",
    "ws,E,rank,sigma = np.linalg.lstsq(A, y)\n",
    "f = A*ws\n",
    "\n",
    "\n",
    "#Graphs\n",
    "plt.plot(x, y, 'o-')\n",
    "plt.plot(x, f, 'r')\n",
    "plt.xlabel('Number of Machinery')\n",
    "plt.ylabel('Number of Machinery (corresponds 1month later)')\n",
    "\n",
    "\n",
    "\n",
    "#No prediction for 2016-2020, because there is no Machinery anymore starting with 2004\n",
    "\n",
    "\n",
    "e = y - f\n",
    "print('Total Error is ', e.T*e/2)\n",
    "plt.show()"
   ]
  },
  {
   "cell_type": "markdown",
   "metadata": {},
   "source": [
    "***---------------------------------------TRACTOR---------------------------------------***"
   ]
  },
  {
   "cell_type": "code",
   "execution_count": 153,
   "metadata": {
    "collapsed": false
   },
   "outputs": [
    {
     "name": "stdout",
     "output_type": "stream",
     "text": [
      "2016 Projection =  [[ 1724801.1304135]]\n",
      "2017 Projection =  [[ 1762050.89708572]]\n",
      "2018 Projection =  [[ 1799294.30110367]]\n",
      "2019 Projection =  [[ 1836531.34355414]]\n",
      "2020 Projection =  [[ 1873762.02552376]]\n",
      "Total Error is  [[  4.62057266e+09]]\n"
     ]
    },
    {
     "data": {
      "image/png": "[encoded data removed]",
      "text/plain": [
       "<matplotlib.figure.Figure at 0x81ad1d0>"
      ]
     },
     "metadata": {},
     "output_type": "display_data"
    }
   ],
   "source": [
    "BaseYear = 1979\n",
    "degree=1\n",
    "\n",
    "x = np.matrix(df_arac.Tractor[13:48]).T\n",
    "y = np.matrix(df_arac.Tractor[14:49]).T\n",
    "A = np.hstack((np.power(x,i) for i in range(degree+1)))\n",
    "ws,E,rank,sigma = np.linalg.lstsq(A, y)\n",
    "f = A*ws\n",
    "\n",
    "\n",
    "#Graphs\n",
    "plt.plot(x, y, 'o-')\n",
    "plt.plot(x, f, 'r')\n",
    "plt.xlabel('Number of Tractor')\n",
    "plt.ylabel('Number of Tractor (corresponds 1month later)')\n",
    "\n",
    "\n",
    "\n",
    "#Prediction of 2016-2020\n",
    "\n",
    "#2016\n",
    "x_prediction=np.matrix(df_arac.Tractor[49:])\n",
    "A2=np.hstack((np.power(x_prediction,i) for i in range(degree+1)))              \n",
    "projection2016=A2*ws\n",
    "print('2016 Projection = ', projection2016)\n",
    "plt.plot(x_prediction,projection2016,'ro')             \n",
    "                \n",
    "#2017           \n",
    "A2 = np.hstack((np.power(projection2016,i) for i in range(degree+1)))\n",
    "projection2017=A2*ws\n",
    "print('2017 Projection = ', projection2017)               \n",
    "plt.plot(projection2016,projection2017,'ro')    \n",
    "\n",
    "\n",
    "#2018           \n",
    "A2 = np.hstack((np.power(projection2017,i) for i in range(degree+1)))\n",
    "projection2018=A2*ws\n",
    "print('2018 Projection = ', projection2018)\n",
    "plt.plot(projection2017,projection2018,'ro')\n",
    "\n",
    "\n",
    "#2019        \n",
    "A2 = np.hstack((np.power(projection2018,i) for i in range(degree+1)))\n",
    "projection2019=A2*ws\n",
    "print('2019 Projection = ', projection2019)\n",
    "plt.plot(projection2018,projection2019,'ro')\n",
    "\n",
    "\n",
    "#2020           \n",
    "A2 = np.hstack((np.power(projection2019,i) for i in range(degree+1)))\n",
    "projection2020=A2*ws\n",
    "print('2020 Projection = ', projection2020)\n",
    "plt.plot(projection2019,projection2020,'ro')\n",
    "\n",
    "e = y - f\n",
    "print('Total Error is ', e.T*e/2)\n",
    "plt.show()"
   ]
  },
  {
   "cell_type": "markdown",
   "metadata": {
    "collapsed": true
   },
   "source": [
    "# COMPARISON"
   ]
  },
  {
   "cell_type": "markdown",
   "metadata": {},
   "source": [
    "**Which model would you prefer? Polynomial or AR?**"
   ]
  },
  {
   "cell_type": "markdown",
   "metadata": {},
   "source": [
    "In each model for each column, we have also calculated the ***\"Total Error\"***, we should choose the model which has the minimum Total Error.\n",
    "\n",
    "For example, for **\"Car\"** column, when we compare the 3rd degree Polynomial and AR Model, I would prefer AR model, since its Total Error is less than Polynomial Model.\n",
    "\n",
    "On the other hand, if we would change the degree level, we might be chosing the Polynomial Model if we achieve to get  the decreased Total Error."
   ]
  },
  {
   "cell_type": "markdown",
   "metadata": {
    "collapsed": true
   },
   "source": [
    "# BONUS"
   ]
  },
  {
   "cell_type": "markdown",
   "metadata": {},
   "source": [
    "**Use cross validation for finding the best polynomial order and describe your approach.**"
   ]
  },
  {
   "cell_type": "markdown",
   "metadata": {},
   "source": [
    "For each column, we will calculate the **\"Total Error\"** by changing the Polynomial degree, once we get the minimum total error, we will assume it as the best polynomial order."
   ]
  },
  {
   "cell_type": "markdown",
   "metadata": {},
   "source": [
    "***---------------------------------------CAR---------------------------------------***\n",
    "\n",
    "Best polynomial degree is: **2**"
   ]
  },
  {
   "cell_type": "code",
   "execution_count": 154,
   "metadata": {
    "collapsed": false
   },
   "outputs": [
    {
     "name": "stdout",
     "output_type": "stream",
     "text": [
      "Degree: 0 , Total Error: [[  2.23157084e+14]]\n",
      "Degree: 1 , Total Error: [[  2.61567689e+13]]\n",
      "Degree: 2 , Total Error: [[  1.05496018e+12]]\n",
      "Degree: 3 , Total Error: [[  6.35768969e+11]]\n",
      "Degree: 4 , Total Error: [[  6.27993231e+11]]\n",
      "Degree: 5 , Total Error: [[  4.37851219e+11]]\n",
      "Degree: 6 , Total Error: [[  3.41099055e+11]]\n",
      "Degree: 7 , Total Error: [[  2.60497581e+11]]\n",
      "Degree: 8 , Total Error: [[  2.29903189e+11]]\n",
      "Degree: 9 , Total Error: [[  1.79160178e+11]]\n",
      "Degree: 10 , Total Error: [[  1.98723496e+11]]\n",
      "Degree: 11 , Total Error: [[  1.95504170e+11]]\n",
      "Degree: 12 , Total Error: [[  2.92736671e+11]]\n",
      "Degree: 13 , Total Error: [[  2.54217589e+11]]\n",
      "Degree: 14 , Total Error: [[  2.53347132e+11]]\n",
      "Degree: 15 , Total Error: [[  2.51124662e+11]]\n",
      "Degree: 16 , Total Error: [[  2.51173333e+11]]\n",
      "Degree: 17 , Total Error: [[  2.42118481e+11]]\n",
      "Degree: 18 , Total Error: [[  2.41988545e+11]]\n",
      "Degree: 19 , Total Error: [[  2.29665201e+11]]\n",
      "Degree: 20 , Total Error: [[  2.20322576e+11]]\n",
      "Degree: 21 , Total Error: [[  6.11575116e+11]]\n",
      "Degree: 22 , Total Error: [[  1.87286496e+11]]\n",
      "Degree: 23 , Total Error: [[  1.70370282e+11]]\n",
      "Degree: 24 , Total Error: [[  1.58627801e+11]]\n",
      "Degree: 25 , Total Error: [[  1.49300542e+11]]\n",
      "Degree: 26 , Total Error: [[  1.39906190e+11]]\n",
      "Degree: 27 , Total Error: [[  1.32160940e+11]]\n",
      "Degree: 28 , Total Error: [[  1.32030311e+11]]\n",
      "Degree: 29 , Total Error: [[  1.32050319e+11]]\n",
      "Degree: 30 , Total Error: [[  1.32047241e+11]]\n",
      "Degree: 31 , Total Error: [[  1.32049456e+11]]\n",
      "Degree: 32 , Total Error: [[  1.33771019e+11]]\n",
      "Degree: 33 , Total Error: [[  1.45059502e+11]]\n",
      "Degree: 34 , Total Error: [[  1.32816794e+11]]\n",
      "Degree: 35 , Total Error: [[  1.51467868e+11]]\n",
      "Degree: 36 , Total Error: [[  1.41044629e+11]]\n",
      "Degree: 37 , Total Error: [[  1.32049649e+11]]\n",
      "Degree: 38 , Total Error: [[  1.44174563e+11]]\n",
      "Degree: 39 , Total Error: [[  1.49962982e+11]]\n",
      "Degree: 40 , Total Error: [[  1.32049182e+11]]\n",
      "Degree: 41 , Total Error: [[  1.33446177e+11]]\n",
      "Degree: 42 , Total Error: [[  1.32050679e+11]]\n",
      "Degree: 43 , Total Error: [[  1.57255942e+11]]\n",
      "Degree: 44 , Total Error: [[  1.33349180e+11]]\n",
      "Degree: 45 , Total Error: [[  1.35916516e+11]]\n",
      "Degree: 46 , Total Error: [[  1.32049750e+11]]\n",
      "Degree: 47 , Total Error: [[  1.32159191e+11]]\n",
      "Degree: 48 , Total Error: [[  1.40344056e+11]]\n",
      "Degree: 49 , Total Error: [[  1.32049956e+11]]\n"
     ]
    }
   ],
   "source": [
    "BaseYear = 1966\n",
    "x = np.matrix(df_arac.Year[0:]).T-BaseYear\n",
    "y = np.matrix(df_arac.Car[0:]).T\n",
    "\n",
    "\n",
    "for degree in range (50):\n",
    "    A = np.hstack((np.power(x,i) for i in range(degree+1)))\n",
    "    ws,E,rank,sigma = np.linalg.lstsq(A, y)\n",
    "    f = A*ws\n",
    "    e = y - f\n",
    "    Total_Error=e.T*e/2\n",
    "    print('Degree:',degree,', Total Error:',Total_Error)\n"
   ]
  },
  {
   "cell_type": "markdown",
   "metadata": {},
   "source": [
    "***---------------------------------------MINIBUS---------------------------------------***\n",
    "\n",
    "Best polynomial degree is: **21**"
   ]
  },
  {
   "cell_type": "code",
   "execution_count": 155,
   "metadata": {
    "collapsed": false
   },
   "outputs": [
    {
     "name": "stdout",
     "output_type": "stream",
     "text": [
      "Degree: 0 , Total Error: [[  4.69267687e+11]]\n",
      "Degree: 1 , Total Error: [[  3.13668333e+10]]\n",
      "Degree: 2 , Total Error: [[  4.92080710e+09]]\n",
      "Degree: 3 , Total Error: [[  4.83601934e+09]]\n",
      "Degree: 4 , Total Error: [[  3.54630641e+09]]\n",
      "Degree: 5 , Total Error: [[  2.96430866e+09]]\n",
      "Degree: 6 , Total Error: [[  2.96388564e+09]]\n",
      "Degree: 7 , Total Error: [[  2.76098661e+09]]\n",
      "Degree: 8 , Total Error: [[  2.22385055e+09]]\n",
      "Degree: 9 , Total Error: [[  1.83154876e+09]]\n",
      "Degree: 10 , Total Error: [[  2.27472506e+09]]\n",
      "Degree: 11 , Total Error: [[  2.32813957e+09]]\n",
      "Degree: 12 , Total Error: [[  4.38892493e+09]]\n",
      "Degree: 13 , Total Error: [[  4.24960351e+09]]\n",
      "Degree: 14 , Total Error: [[  4.22300102e+09]]\n",
      "Degree: 15 , Total Error: [[  4.09835396e+09]]\n",
      "Degree: 16 , Total Error: [[  4.04301595e+09]]\n",
      "Degree: 17 , Total Error: [[  3.83162937e+09]]\n",
      "Degree: 18 , Total Error: [[  3.66360921e+09]]\n",
      "Degree: 19 , Total Error: [[  3.58234154e+09]]\n",
      "Degree: 20 , Total Error: [[  3.48053642e+09]]\n",
      "Degree: 21 , Total Error: [[  1.21572354e+10]]\n",
      "Degree: 22 , Total Error: [[  2.75116111e+09]]\n",
      "Degree: 23 , Total Error: [[  2.44810754e+09]]\n",
      "Degree: 24 , Total Error: [[  2.20372946e+09]]\n",
      "Degree: 25 , Total Error: [[  1.99014797e+09]]\n",
      "Degree: 26 , Total Error: [[  1.78038924e+09]]\n",
      "Degree: 27 , Total Error: [[  1.60153345e+09]]\n",
      "Degree: 28 , Total Error: [[  1.60080651e+09]]\n",
      "Degree: 29 , Total Error: [[  1.60071326e+09]]\n",
      "Degree: 30 , Total Error: [[  1.60065371e+09]]\n",
      "Degree: 31 , Total Error: [[  1.60062990e+09]]\n",
      "Degree: 32 , Total Error: [[  1.69195102e+09]]\n",
      "Degree: 33 , Total Error: [[  1.83920434e+09]]\n",
      "Degree: 34 , Total Error: [[  1.60738709e+09]]\n",
      "Degree: 35 , Total Error: [[  1.73079187e+09]]\n",
      "Degree: 36 , Total Error: [[  1.81591346e+09]]\n",
      "Degree: 37 , Total Error: [[  1.60062478e+09]]\n",
      "Degree: 38 , Total Error: [[  1.86335649e+09]]\n",
      "Degree: 39 , Total Error: [[  2.07832658e+09]]\n",
      "Degree: 40 , Total Error: [[  1.60059485e+09]]\n",
      "Degree: 41 , Total Error: [[  1.90628342e+09]]\n",
      "Degree: 42 , Total Error: [[  1.73733296e+09]]\n",
      "Degree: 43 , Total Error: [[  1.82278017e+09]]\n",
      "Degree: 44 , Total Error: [[  1.87832011e+09]]\n",
      "Degree: 45 , Total Error: [[  1.75158248e+09]]\n",
      "Degree: 46 , Total Error: [[  1.60062094e+09]]\n",
      "Degree: 47 , Total Error: [[  1.60095730e+09]]\n",
      "Degree: 48 , Total Error: [[  1.74758788e+09]]\n",
      "Degree: 49 , Total Error: [[  1.60140160e+09]]\n"
     ]
    }
   ],
   "source": [
    "BaseYear = 1966\n",
    "x = np.matrix(df_arac.Year[0:]).T-BaseYear\n",
    "y = np.matrix(df_arac.Minibus[0:]).T\n",
    "\n",
    "\n",
    "for degree in range (50):\n",
    "    A = np.hstack((np.power(x,i) for i in range(degree+1)))\n",
    "    ws,E,rank,sigma = np.linalg.lstsq(A, y)\n",
    "    f = A*ws\n",
    "    e = y - f\n",
    "    Total_Error=e.T*e/2\n",
    "    print('Degree:',degree,', Total Error:',Total_Error)\n"
   ]
  },
  {
   "cell_type": "markdown",
   "metadata": {},
   "source": [
    "***---------------------------------------BUS---------------------------------------***\n",
    "\n",
    "Best polynomial degree is: **1**"
   ]
  },
  {
   "cell_type": "code",
   "execution_count": 156,
   "metadata": {
    "collapsed": false
   },
   "outputs": [
    {
     "name": "stdout",
     "output_type": "stream",
     "text": [
      "Degree: 0 , Total Error: [[  1.23226434e+11]]\n",
      "Degree: 1 , Total Error: [[  1.05770062e+10]]\n",
      "Degree: 2 , Total Error: [[  1.85376595e+09]]\n",
      "Degree: 3 , Total Error: [[  1.83982436e+09]]\n",
      "Degree: 4 , Total Error: [[  1.41197871e+09]]\n",
      "Degree: 5 , Total Error: [[  9.55329690e+08]]\n",
      "Degree: 6 , Total Error: [[  6.03868390e+08]]\n",
      "Degree: 7 , Total Error: [[  5.31168132e+08]]\n",
      "Degree: 8 , Total Error: [[  5.06141248e+08]]\n",
      "Degree: 9 , Total Error: [[  4.08683037e+08]]\n",
      "Degree: 10 , Total Error: [[  7.82779045e+08]]\n",
      "Degree: 11 , Total Error: [[  9.82300525e+08]]\n",
      "Degree: 12 , Total Error: [[  1.53723392e+09]]\n",
      "Degree: 13 , Total Error: [[  1.49667280e+09]]\n",
      "Degree: 14 , Total Error: [[  1.49566409e+09]]\n",
      "Degree: 15 , Total Error: [[  1.46116278e+09]]\n",
      "Degree: 16 , Total Error: [[  1.46124917e+09]]\n",
      "Degree: 17 , Total Error: [[  1.43787897e+09]]\n",
      "Degree: 18 , Total Error: [[  1.37262467e+09]]\n",
      "Degree: 19 , Total Error: [[  1.30310928e+09]]\n",
      "Degree: 20 , Total Error: [[  1.30327978e+09]]\n",
      "Degree: 21 , Total Error: [[  2.39762581e+09]]\n",
      "Degree: 22 , Total Error: [[  1.15353964e+09]]\n",
      "Degree: 23 , Total Error: [[  9.89232395e+08]]\n",
      "Degree: 24 , Total Error: [[  8.43941974e+08]]\n",
      "Degree: 25 , Total Error: [[  7.18817406e+08]]\n",
      "Degree: 26 , Total Error: [[  5.98829377e+08]]\n",
      "Degree: 27 , Total Error: [[  5.01706304e+08]]\n",
      "Degree: 28 , Total Error: [[  5.01611787e+08]]\n",
      "Degree: 29 , Total Error: [[  5.01564045e+08]]\n",
      "Degree: 30 , Total Error: [[  5.01612105e+08]]\n",
      "Degree: 31 , Total Error: [[  5.01603080e+08]]\n",
      "Degree: 32 , Total Error: [[  6.29980083e+08]]\n",
      "Degree: 33 , Total Error: [[  5.74390725e+08]]\n",
      "Degree: 34 , Total Error: [[  5.01599312e+08]]\n",
      "Degree: 35 , Total Error: [[  5.98503258e+08]]\n",
      "Degree: 36 , Total Error: [[  5.71072129e+08]]\n",
      "Degree: 37 , Total Error: [[  5.01605613e+08]]\n",
      "Degree: 38 , Total Error: [[  5.01601902e+08]]\n",
      "Degree: 39 , Total Error: [[  5.54502789e+08]]\n",
      "Degree: 40 , Total Error: [[  5.23920938e+08]]\n",
      "Degree: 41 , Total Error: [[  5.51168280e+08]]\n",
      "Degree: 42 , Total Error: [[  5.05689345e+08]]\n",
      "Degree: 43 , Total Error: [[  7.15825109e+08]]\n",
      "Degree: 44 , Total Error: [[  5.56478880e+08]]\n",
      "Degree: 45 , Total Error: [[  1.18303355e+09]]\n",
      "Degree: 46 , Total Error: [[  5.01531127e+08]]\n",
      "Degree: 47 , Total Error: [[  5.01601801e+08]]\n",
      "Degree: 48 , Total Error: [[  7.40977319e+08]]\n",
      "Degree: 49 , Total Error: [[  5.02681257e+08]]\n"
     ]
    }
   ],
   "source": [
    "BaseYear = 1966\n",
    "x = np.matrix(df_arac.Year[0:]).T-BaseYear\n",
    "y = np.matrix(df_arac.Bus[0:]).T\n",
    "\n",
    "\n",
    "for degree in range (50):\n",
    "    A = np.hstack((np.power(x,i) for i in range(degree+1)))\n",
    "    ws,E,rank,sigma = np.linalg.lstsq(A, y)\n",
    "    f = A*ws\n",
    "    e = y - f\n",
    "    Total_Error=e.T*e/2\n",
    "    print('Degree:',degree,', Total Error:',Total_Error)\n"
   ]
  },
  {
   "cell_type": "markdown",
   "metadata": {},
   "source": [
    "***---------------------------------------SMALL TRUCK---------------------------------------***\n",
    "\n",
    "Best polynomial degree is: **4**"
   ]
  },
  {
   "cell_type": "code",
   "execution_count": 157,
   "metadata": {
    "collapsed": false
   },
   "outputs": [
    {
     "name": "stdout",
     "output_type": "stream",
     "text": [
      "Degree: 0 , Total Error: [[  2.20097432e+13]]\n",
      "Degree: 1 , Total Error: [[  5.85324549e+12]]\n",
      "Degree: 2 , Total Error: [[  7.73371842e+11]]\n",
      "Degree: 3 , Total Error: [[  1.52769899e+11]]\n",
      "Degree: 4 , Total Error: [[  1.44404238e+11]]\n",
      "Degree: 5 , Total Error: [[  5.07536558e+10]]\n",
      "Degree: 6 , Total Error: [[  3.15987201e+10]]\n",
      "Degree: 7 , Total Error: [[  3.15203915e+10]]\n",
      "Degree: 8 , Total Error: [[  2.95781056e+10]]\n",
      "Degree: 9 , Total Error: [[  2.44268281e+10]]\n",
      "Degree: 10 , Total Error: [[  2.72272502e+10]]\n",
      "Degree: 11 , Total Error: [[  2.81842461e+10]]\n",
      "Degree: 12 , Total Error: [[  2.72044939e+10]]\n",
      "Degree: 13 , Total Error: [[  2.66638807e+10]]\n",
      "Degree: 14 , Total Error: [[  2.66609318e+10]]\n",
      "Degree: 15 , Total Error: [[  2.58829982e+10]]\n",
      "Degree: 16 , Total Error: [[  2.58960064e+10]]\n",
      "Degree: 17 , Total Error: [[  2.54778320e+10]]\n",
      "Degree: 18 , Total Error: [[  2.50948840e+10]]\n",
      "Degree: 19 , Total Error: [[  2.39849612e+10]]\n",
      "Degree: 20 , Total Error: [[  2.39618951e+10]]\n",
      "Degree: 21 , Total Error: [[  3.02234969e+10]]\n",
      "Degree: 22 , Total Error: [[  2.33278774e+10]]\n",
      "Degree: 23 , Total Error: [[  2.14412309e+10]]\n",
      "Degree: 24 , Total Error: [[  1.98351582e+10]]\n",
      "Degree: 25 , Total Error: [[  1.85032886e+10]]\n",
      "Degree: 26 , Total Error: [[  1.73256456e+10]]\n",
      "Degree: 27 , Total Error: [[  1.63806643e+10]]\n",
      "Degree: 28 , Total Error: [[  1.63812334e+10]]\n",
      "Degree: 29 , Total Error: [[  1.63832979e+10]]\n",
      "Degree: 30 , Total Error: [[  1.63827892e+10]]\n",
      "Degree: 31 , Total Error: [[  1.63825562e+10]]\n",
      "Degree: 32 , Total Error: [[  1.67961581e+10]]\n",
      "Degree: 33 , Total Error: [[  1.67597184e+10]]\n",
      "Degree: 34 , Total Error: [[  1.63826851e+10]]\n",
      "Degree: 35 , Total Error: [[  1.96228473e+10]]\n",
      "Degree: 36 , Total Error: [[  1.68165805e+10]]\n",
      "Degree: 37 , Total Error: [[  1.63826366e+10]]\n",
      "Degree: 38 , Total Error: [[  1.63824939e+10]]\n",
      "Degree: 39 , Total Error: [[  1.68573049e+10]]\n",
      "Degree: 40 , Total Error: [[  1.67447140e+10]]\n",
      "Degree: 41 , Total Error: [[  1.68126674e+10]]\n",
      "Degree: 42 , Total Error: [[  1.63826113e+10]]\n",
      "Degree: 43 , Total Error: [[  1.77981328e+10]]\n",
      "Degree: 44 , Total Error: [[  1.70106413e+10]]\n",
      "Degree: 45 , Total Error: [[  2.48756249e+10]]\n",
      "Degree: 46 , Total Error: [[  1.63991412e+10]]\n",
      "Degree: 47 , Total Error: [[  1.63825642e+10]]\n",
      "Degree: 48 , Total Error: [[  1.79059496e+10]]\n",
      "Degree: 49 , Total Error: [[  1.64372493e+10]]\n"
     ]
    }
   ],
   "source": [
    "BaseYear = 1966\n",
    "x = np.matrix(df_arac.Year[0:]).T-BaseYear\n",
    "y = np.matrix(df_arac.SmallTruck[0:]).T\n",
    "\n",
    "\n",
    "for degree in range (50):\n",
    "    A = np.hstack((np.power(x,i) for i in range(degree+1)))\n",
    "    ws,E,rank,sigma = np.linalg.lstsq(A, y)\n",
    "    f = A*ws\n",
    "    e = y - f\n",
    "    Total_Error=e.T*e/2\n",
    "    print('Degree:',degree,', Total Error:',Total_Error)\n"
   ]
  },
  {
   "cell_type": "markdown",
   "metadata": {},
   "source": [
    "***---------------------------------------TRUCK---------------------------------------***\n",
    "\n",
    "Best polynomial degree is: **1**"
   ]
  },
  {
   "cell_type": "code",
   "execution_count": 158,
   "metadata": {
    "collapsed": false
   },
   "outputs": [
    {
     "name": "stdout",
     "output_type": "stream",
     "text": [
      "Degree: 0 , Total Error: [[  1.47243589e+12]]\n",
      "Degree: 1 , Total Error: [[  1.43516499e+11]]\n",
      "Degree: 2 , Total Error: [[  5.58381780e+10]]\n",
      "Degree: 3 , Total Error: [[  5.53361521e+10]]\n",
      "Degree: 4 , Total Error: [[  4.57766947e+10]]\n",
      "Degree: 5 , Total Error: [[  3.26432561e+10]]\n",
      "Degree: 6 , Total Error: [[  3.22005556e+10]]\n",
      "Degree: 7 , Total Error: [[  2.91869650e+10]]\n",
      "Degree: 8 , Total Error: [[  2.32424080e+10]]\n",
      "Degree: 9 , Total Error: [[  1.98833256e+10]]\n",
      "Degree: 10 , Total Error: [[  2.59345239e+10]]\n",
      "Degree: 11 , Total Error: [[  2.62092657e+10]]\n",
      "Degree: 12 , Total Error: [[  4.58097747e+10]]\n",
      "Degree: 13 , Total Error: [[  4.47478689e+10]]\n",
      "Degree: 14 , Total Error: [[  4.39725491e+10]]\n",
      "Degree: 15 , Total Error: [[  4.36382842e+10]]\n",
      "Degree: 16 , Total Error: [[  4.33004615e+10]]\n",
      "Degree: 17 , Total Error: [[  4.19072686e+10]]\n",
      "Degree: 18 , Total Error: [[  3.97960758e+10]]\n",
      "Degree: 19 , Total Error: [[  3.95921678e+10]]\n",
      "Degree: 20 , Total Error: [[  3.88896903e+10]]\n",
      "Degree: 21 , Total Error: [[  6.35875801e+10]]\n",
      "Degree: 22 , Total Error: [[  3.23593232e+10]]\n",
      "Degree: 23 , Total Error: [[  2.94488235e+10]]\n",
      "Degree: 24 , Total Error: [[  2.68084282e+10]]\n",
      "Degree: 25 , Total Error: [[  2.43637038e+10]]\n",
      "Degree: 26 , Total Error: [[  2.19633542e+10]]\n",
      "Degree: 27 , Total Error: [[  2.00148242e+10]]\n",
      "Degree: 28 , Total Error: [[  2.00054542e+10]]\n",
      "Degree: 29 , Total Error: [[  2.00035852e+10]]\n",
      "Degree: 30 , Total Error: [[  2.00040719e+10]]\n",
      "Degree: 31 , Total Error: [[  2.00040491e+10]]\n",
      "Degree: 32 , Total Error: [[  2.28753954e+10]]\n",
      "Degree: 33 , Total Error: [[  2.12419880e+10]]\n",
      "Degree: 34 , Total Error: [[  2.00047343e+10]]\n",
      "Degree: 35 , Total Error: [[  2.11831288e+10]]\n",
      "Degree: 36 , Total Error: [[  2.05934484e+10]]\n",
      "Degree: 37 , Total Error: [[  2.00043342e+10]]\n",
      "Degree: 38 , Total Error: [[  2.00343276e+10]]\n",
      "Degree: 39 , Total Error: [[  2.00042346e+10]]\n",
      "Degree: 40 , Total Error: [[  2.01265949e+10]]\n",
      "Degree: 41 , Total Error: [[  2.64954464e+10]]\n",
      "Degree: 42 , Total Error: [[  2.10183922e+10]]\n",
      "Degree: 43 , Total Error: [[  2.14445599e+10]]\n",
      "Degree: 44 , Total Error: [[  2.44358214e+10]]\n",
      "Degree: 45 , Total Error: [[  2.42014121e+10]]\n",
      "Degree: 46 , Total Error: [[  2.00039745e+10]]\n",
      "Degree: 47 , Total Error: [[  2.00050057e+10]]\n",
      "Degree: 48 , Total Error: [[  2.20054382e+10]]\n",
      "Degree: 49 , Total Error: [[  2.01838328e+10]]\n"
     ]
    }
   ],
   "source": [
    "BaseYear = 1966\n",
    "x = np.matrix(df_arac.Year[0:]).T-BaseYear\n",
    "y = np.matrix(df_arac.Truck[0:]).T\n",
    "\n",
    "\n",
    "for degree in range (50):\n",
    "    A = np.hstack((np.power(x,i) for i in range(degree+1)))\n",
    "    ws,E,rank,sigma = np.linalg.lstsq(A, y)\n",
    "    f = A*ws\n",
    "    e = y - f\n",
    "    Total_Error=e.T*e/2\n",
    "    print('Degree:',degree,', Total Error:',Total_Error)\n"
   ]
  },
  {
   "cell_type": "markdown",
   "metadata": {},
   "source": [
    "***---------------------------------------MOTORCYCLE---------------------------------------***\n",
    "\n",
    "Best polynomial degree is: **8**"
   ]
  },
  {
   "cell_type": "code",
   "execution_count": 159,
   "metadata": {
    "collapsed": false
   },
   "outputs": [
    {
     "name": "stdout",
     "output_type": "stream",
     "text": [
      "Degree: 0 , Total Error: [[  1.94995761e+13]]\n",
      "Degree: 1 , Total Error: [[  3.10817978e+12]]\n",
      "Degree: 2 , Total Error: [[  3.99318249e+11]]\n",
      "Degree: 3 , Total Error: [[  2.74117881e+11]]\n",
      "Degree: 4 , Total Error: [[  2.71378945e+11]]\n",
      "Degree: 5 , Total Error: [[  2.47262840e+11]]\n",
      "Degree: 6 , Total Error: [[  1.40420886e+11]]\n",
      "Degree: 7 , Total Error: [[  1.18187126e+11]]\n",
      "Degree: 8 , Total Error: [[  1.00526626e+11]]\n",
      "Degree: 9 , Total Error: [[  5.77837466e+10]]\n",
      "Degree: 10 , Total Error: [[  5.45598458e+10]]\n",
      "Degree: 11 , Total Error: [[  5.47390442e+10]]\n",
      "Degree: 12 , Total Error: [[  4.20235207e+10]]\n",
      "Degree: 13 , Total Error: [[  4.17115917e+10]]\n",
      "Degree: 14 , Total Error: [[  4.17115883e+10]]\n",
      "Degree: 15 , Total Error: [[  4.17048397e+10]]\n",
      "Degree: 16 , Total Error: [[  4.16701696e+10]]\n",
      "Degree: 17 , Total Error: [[  4.15783067e+10]]\n",
      "Degree: 18 , Total Error: [[  4.09100499e+10]]\n",
      "Degree: 19 , Total Error: [[  4.00122154e+10]]\n",
      "Degree: 20 , Total Error: [[  4.00157428e+10]]\n",
      "Degree: 21 , Total Error: [[  1.56329477e+11]]\n",
      "Degree: 22 , Total Error: [[  3.74533545e+10]]\n",
      "Degree: 23 , Total Error: [[  3.47285788e+10]]\n",
      "Degree: 24 , Total Error: [[  3.23888934e+10]]\n",
      "Degree: 25 , Total Error: [[  3.05613509e+10]]\n",
      "Degree: 26 , Total Error: [[  2.91651956e+10]]\n",
      "Degree: 27 , Total Error: [[  2.80629213e+10]]\n",
      "Degree: 28 , Total Error: [[  2.80587293e+10]]\n",
      "Degree: 29 , Total Error: [[  2.80579887e+10]]\n",
      "Degree: 30 , Total Error: [[  2.80584279e+10]]\n",
      "Degree: 31 , Total Error: [[  2.80585454e+10]]\n",
      "Degree: 32 , Total Error: [[  2.88408789e+10]]\n",
      "Degree: 33 , Total Error: [[  2.83695149e+10]]\n",
      "Degree: 34 , Total Error: [[  2.80581899e+10]]\n",
      "Degree: 35 , Total Error: [[  2.82546447e+10]]\n",
      "Degree: 36 , Total Error: [[  2.84770677e+10]]\n",
      "Degree: 37 , Total Error: [[  2.80585190e+10]]\n",
      "Degree: 38 , Total Error: [[  2.81722622e+10]]\n",
      "Degree: 39 , Total Error: [[  2.80585642e+10]]\n",
      "Degree: 40 , Total Error: [[  2.84196728e+10]]\n",
      "Degree: 41 , Total Error: [[  3.08249295e+10]]\n",
      "Degree: 42 , Total Error: [[  2.97470230e+10]]\n",
      "Degree: 43 , Total Error: [[  2.83775840e+10]]\n",
      "Degree: 44 , Total Error: [[  2.87536701e+10]]\n",
      "Degree: 45 , Total Error: [[  2.97122087e+10]]\n",
      "Degree: 46 , Total Error: [[  2.80583748e+10]]\n",
      "Degree: 47 , Total Error: [[  2.80588793e+10]]\n",
      "Degree: 48 , Total Error: [[  3.22189683e+10]]\n",
      "Degree: 49 , Total Error: [[  2.80711085e+10]]\n"
     ]
    }
   ],
   "source": [
    "BaseYear = 1966\n",
    "x = np.matrix(df_arac.Year[0:]).T-BaseYear\n",
    "y = np.matrix(df_arac.Motorcycle[0:]).T\n",
    "\n",
    "\n",
    "for degree in range (50):\n",
    "    A = np.hstack((np.power(x,i) for i in range(degree+1)))\n",
    "    ws,E,rank,sigma = np.linalg.lstsq(A, y)\n",
    "    f = A*ws\n",
    "    e = y - f\n",
    "    Total_Error=e.T*e/2\n",
    "    print('Degree:',degree,', Total Error:',Total_Error)\n"
   ]
  },
  {
   "cell_type": "markdown",
   "metadata": {},
   "source": [
    "***---------------------------------------SPECIALVEHICLES---------------------------------------***\n",
    "\n",
    "Best polynomial degree is: **4**"
   ]
  },
  {
   "cell_type": "code",
   "execution_count": 160,
   "metadata": {
    "collapsed": false
   },
   "outputs": [
    {
     "name": "stdout",
     "output_type": "stream",
     "text": [
      "Degree: 0 , Total Error: [[  6.85867907e+09]]\n",
      "Degree: 1 , Total Error: [[  2.02916969e+09]]\n",
      "Degree: 2 , Total Error: [[  1.66711353e+09]]\n",
      "Degree: 3 , Total Error: [[  1.11784777e+09]]\n",
      "Degree: 4 , Total Error: [[  1.08691981e+09]]\n",
      "Degree: 5 , Total Error: [[  6.81468156e+08]]\n",
      "Degree: 6 , Total Error: [[  5.35162663e+08]]\n",
      "Degree: 7 , Total Error: [[  5.24546767e+08]]\n",
      "Degree: 8 , Total Error: [[  4.49677007e+08]]\n",
      "Degree: 9 , Total Error: [[  4.34539993e+08]]\n",
      "Degree: 10 , Total Error: [[  4.80372179e+08]]\n",
      "Degree: 11 , Total Error: [[  4.93493120e+08]]\n",
      "Degree: 12 , Total Error: [[  4.97146926e+08]]\n",
      "Degree: 13 , Total Error: [[  4.94241560e+08]]\n",
      "Degree: 14 , Total Error: [[  4.92578967e+08]]\n",
      "Degree: 15 , Total Error: [[  4.78956484e+08]]\n",
      "Degree: 16 , Total Error: [[  4.75044608e+08]]\n",
      "Degree: 17 , Total Error: [[  4.76442577e+08]]\n",
      "Degree: 18 , Total Error: [[  4.68021980e+08]]\n",
      "Degree: 19 , Total Error: [[  4.48303229e+08]]\n",
      "Degree: 20 , Total Error: [[  4.54448263e+08]]\n",
      "Degree: 21 , Total Error: [[  8.63628731e+08]]\n",
      "Degree: 22 , Total Error: [[  5.05048748e+08]]\n",
      "Degree: 23 , Total Error: [[  4.88905963e+08]]\n",
      "Degree: 24 , Total Error: [[  4.74626769e+08]]\n",
      "Degree: 25 , Total Error: [[  4.61997310e+08]]\n",
      "Degree: 26 , Total Error: [[  4.51612411e+08]]\n",
      "Degree: 27 , Total Error: [[  4.43432931e+08]]\n",
      "Degree: 28 , Total Error: [[  4.43468150e+08]]\n",
      "Degree: 29 , Total Error: [[  4.43494119e+08]]\n",
      "Degree: 30 , Total Error: [[  4.43483671e+08]]\n",
      "Degree: 31 , Total Error: [[  4.43484799e+08]]\n",
      "Degree: 32 , Total Error: [[  4.57716350e+08]]\n",
      "Degree: 33 , Total Error: [[  4.53017256e+08]]\n",
      "Degree: 34 , Total Error: [[  4.43504454e+08]]\n",
      "Degree: 35 , Total Error: [[  4.45911122e+08]]\n",
      "Degree: 36 , Total Error: [[  4.47108073e+08]]\n",
      "Degree: 37 , Total Error: [[  4.43490751e+08]]\n",
      "Degree: 38 , Total Error: [[  4.51932719e+08]]\n",
      "Degree: 39 , Total Error: [[  4.69205713e+08]]\n",
      "Degree: 40 , Total Error: [[  4.43489126e+08]]\n",
      "Degree: 41 , Total Error: [[  4.44338516e+08]]\n",
      "Degree: 42 , Total Error: [[  4.65577833e+08]]\n",
      "Degree: 43 , Total Error: [[  4.96194543e+08]]\n",
      "Degree: 44 , Total Error: [[  4.43491274e+08]]\n",
      "Degree: 45 , Total Error: [[  5.36613775e+08]]\n",
      "Degree: 46 , Total Error: [[  4.43952068e+08]]\n",
      "Degree: 47 , Total Error: [[  4.43486786e+08]]\n",
      "Degree: 48 , Total Error: [[  5.94799921e+08]]\n",
      "Degree: 49 , Total Error: [[  4.46306159e+08]]\n"
     ]
    }
   ],
   "source": [
    "BaseYear = 1966\n",
    "x = np.matrix(df_arac.Year[0:]).T-BaseYear\n",
    "y = np.matrix(df_arac.SpecialVehicles[0:]).T\n",
    "\n",
    "\n",
    "for degree in range (50):\n",
    "    A = np.hstack((np.power(x,i) for i in range(degree+1)))\n",
    "    ws,E,rank,sigma = np.linalg.lstsq(A, y)\n",
    "    f = A*ws\n",
    "    e = y - f\n",
    "    Total_Error=e.T*e/2\n",
    "    print('Degree:',degree,', Total Error:',Total_Error)\n"
   ]
  },
  {
   "cell_type": "markdown",
   "metadata": {},
   "source": [
    "***---------------------------------------MACHINERY---------------------------------------***\n",
    "\n",
    "Best polynomial degree is: **21**"
   ]
  },
  {
   "cell_type": "code",
   "execution_count": 161,
   "metadata": {
    "collapsed": false
   },
   "outputs": [
    {
     "name": "stdout",
     "output_type": "stream",
     "text": [
      "Degree: 0 , Total Error: [[  3.21723131e+10]]\n",
      "Degree: 1 , Total Error: [[  1.98776743e+09]]\n",
      "Degree: 2 , Total Error: [[  1.32790139e+08]]\n",
      "Degree: 3 , Total Error: [[  1.32789639e+08]]\n",
      "Degree: 4 , Total Error: [[  1.32747667e+08]]\n",
      "Degree: 5 , Total Error: [[  1.26528502e+08]]\n",
      "Degree: 6 , Total Error: [[ 77407971.04947418]]\n",
      "Degree: 7 , Total Error: [[ 48731560.52342627]]\n",
      "Degree: 8 , Total Error: [[ 47784846.87506359]]\n",
      "Degree: 9 , Total Error: [[ 39064839.91659933]]\n",
      "Degree: 10 , Total Error: [[ 29916944.94340088]]\n",
      "Degree: 11 , Total Error: [[ 59561481.7959125]]\n",
      "Degree: 12 , Total Error: [[ 71281171.17329876]]\n",
      "Degree: 13 , Total Error: [[ 63651383.00416564]]\n",
      "Degree: 14 , Total Error: [[  1.36949280e+08]]\n",
      "Degree: 15 , Total Error: [[  1.31731705e+08]]\n",
      "Degree: 16 , Total Error: [[  1.23166256e+08]]\n",
      "Degree: 17 , Total Error: [[  1.22162171e+08]]\n",
      "Degree: 18 , Total Error: [[  1.14302710e+08]]\n",
      "Degree: 19 , Total Error: [[  1.10155790e+08]]\n",
      "Degree: 20 , Total Error: [[  1.09622879e+08]]\n",
      "Degree: 21 , Total Error: [[  1.07615039e+08]]\n",
      "Degree: 22 , Total Error: [[ 94994370.29459576]]\n",
      "Degree: 23 , Total Error: [[ 77648518.60791352]]\n",
      "Degree: 24 , Total Error: [[ 58136824.75477733]]\n",
      "Degree: 25 , Total Error: [[ 39535035.58411274]]\n",
      "Degree: 26 , Total Error: [[ 25478148.97206891]]\n",
      "Degree: 27 , Total Error: [[ 19960031.02768807]]\n",
      "Degree: 28 , Total Error: [[ 19961499.22454477]]\n",
      "Degree: 29 , Total Error: [[ 19958797.65816077]]\n",
      "Degree: 30 , Total Error: [[ 19948277.21629766]]\n",
      "Degree: 31 , Total Error: [[ 19952804.36602689]]\n",
      "Degree: 32 , Total Error: [[ 33808538.64353107]]\n",
      "Degree: 33 , Total Error: [[ 26261671.50032018]]\n",
      "Degree: 34 , Total Error: [[ 28588975.38473743]]\n",
      "Degree: 35 , Total Error: [[ 33377598.34714779]]\n",
      "Degree: 36 , Total Error: [[ 39175778.38923292]]\n",
      "Degree: 37 , Total Error: [[ 20199462.1734807]]\n",
      "Degree: 38 , Total Error: [[ 31046366.7978078]]\n",
      "Degree: 39 , Total Error: [[ 20002124.79007987]]\n",
      "Degree: 40 , Total Error: [[ 22964870.02276579]]\n",
      "Degree: 41 , Total Error: [[ 22907854.99151536]]\n",
      "Degree: 42 , Total Error: [[ 33993548.24976185]]\n",
      "Degree: 43 , Total Error: [[ 23405285.93714983]]\n",
      "Degree: 44 , Total Error: [[ 31263964.29294006]]\n",
      "Degree: 45 , Total Error: [[ 22080096.12124105]]\n",
      "Degree: 46 , Total Error: [[ 21218464.72947263]]\n",
      "Degree: 47 , Total Error: [[ 28476655.51164873]]\n",
      "Degree: 48 , Total Error: [[ 22749536.56566147]]\n",
      "Degree: 49 , Total Error: [[ 22356171.71726131]]\n"
     ]
    }
   ],
   "source": [
    "BaseYear = 1966\n",
    "x = np.matrix(df_arac.Year[0:37]).T-BaseYear\n",
    "y = np.matrix(df_arac.Machinery[0:37]).T\n",
    "\n",
    "\n",
    "for degree in range (50):\n",
    "    A = np.hstack((np.power(x,i) for i in range(degree+1)))\n",
    "    ws,E,rank,sigma = np.linalg.lstsq(A, y)\n",
    "    f = A*ws\n",
    "    e = y - f\n",
    "    Total_Error=e.T*e/2\n",
    "    print('Degree:',degree,', Total Error:',Total_Error)\n"
   ]
  },
  {
   "cell_type": "markdown",
   "metadata": {},
   "source": [
    "***---------------------------------------TRACTOR---------------------------------------***\n",
    "\n",
    "Best polynomial degree is: **27**"
   ]
  },
  {
   "cell_type": "code",
   "execution_count": 162,
   "metadata": {
    "collapsed": false
   },
   "outputs": [
    {
     "name": "stdout",
     "output_type": "stream",
     "text": [
      "Degree: 0 , Total Error: [[  2.84381143e+12]]\n",
      "Degree: 1 , Total Error: [[  2.71688509e+10]]\n",
      "Degree: 2 , Total Error: [[  2.08696229e+10]]\n",
      "Degree: 3 , Total Error: [[  1.80390659e+10]]\n",
      "Degree: 4 , Total Error: [[  5.52224747e+09]]\n",
      "Degree: 5 , Total Error: [[  5.52223935e+09]]\n",
      "Degree: 6 , Total Error: [[  5.48265276e+09]]\n",
      "Degree: 7 , Total Error: [[  5.06450067e+09]]\n",
      "Degree: 8 , Total Error: [[  5.04004233e+09]]\n",
      "Degree: 9 , Total Error: [[  3.43251378e+09]]\n",
      "Degree: 10 , Total Error: [[  3.77339603e+09]]\n",
      "Degree: 11 , Total Error: [[  2.77284159e+11]]\n",
      "Degree: 12 , Total Error: [[  4.16334696e+11]]\n",
      "Degree: 13 , Total Error: [[  4.13063924e+11]]\n",
      "Degree: 14 , Total Error: [[  7.83208994e+11]]\n",
      "Degree: 15 , Total Error: [[  7.80994289e+11]]\n",
      "Degree: 16 , Total Error: [[  7.48177125e+11]]\n",
      "Degree: 17 , Total Error: [[  7.44826519e+11]]\n",
      "Degree: 18 , Total Error: [[  7.16154775e+11]]\n",
      "Degree: 19 , Total Error: [[  6.47545326e+11]]\n",
      "Degree: 20 , Total Error: [[  6.39210055e+11]]\n",
      "Degree: 21 , Total Error: [[  6.32811233e+11]]\n",
      "Degree: 22 , Total Error: [[  5.57692811e+11]]\n",
      "Degree: 23 , Total Error: [[  4.59261682e+11]]\n",
      "Degree: 24 , Total Error: [[  3.56915396e+11]]\n",
      "Degree: 25 , Total Error: [[  2.66432991e+11]]\n",
      "Degree: 26 , Total Error: [[  1.86951999e+11]]\n",
      "Degree: 27 , Total Error: [[  1.14015326e+11]]\n",
      "Degree: 28 , Total Error: [[  1.14052902e+11]]\n",
      "Degree: 29 , Total Error: [[  1.14015670e+11]]\n",
      "Degree: 30 , Total Error: [[  1.13983399e+11]]\n",
      "Degree: 31 , Total Error: [[  1.14046147e+11]]\n",
      "Degree: 32 , Total Error: [[  3.53599317e+11]]\n",
      "Degree: 33 , Total Error: [[  2.86024582e+11]]\n",
      "Degree: 34 , Total Error: [[  2.12168949e+11]]\n",
      "Degree: 35 , Total Error: [[  2.97530522e+11]]\n",
      "Degree: 36 , Total Error: [[  2.98097521e+11]]\n",
      "Degree: 37 , Total Error: [[  1.14006927e+11]]\n",
      "Degree: 38 , Total Error: [[  3.06106068e+11]]\n",
      "Degree: 39 , Total Error: [[  1.13985339e+11]]\n",
      "Degree: 40 , Total Error: [[  2.39640037e+11]]\n",
      "Degree: 41 , Total Error: [[  1.62086329e+11]]\n",
      "Degree: 42 , Total Error: [[  1.78008108e+11]]\n",
      "Degree: 43 , Total Error: [[  1.52648942e+11]]\n",
      "Degree: 44 , Total Error: [[  2.43841406e+11]]\n",
      "Degree: 45 , Total Error: [[  1.46786485e+11]]\n",
      "Degree: 46 , Total Error: [[  1.35802214e+11]]\n",
      "Degree: 47 , Total Error: [[  1.87278459e+11]]\n",
      "Degree: 48 , Total Error: [[  1.47522949e+11]]\n",
      "Degree: 49 , Total Error: [[  1.22175461e+11]]\n"
     ]
    }
   ],
   "source": [
    "BaseYear = 1979\n",
    "x = np.matrix(df_arac.Year[13:]).T-BaseYear\n",
    "y = np.matrix(df_arac.Tractor[13:]).T\n",
    "\n",
    "\n",
    "for degree in range (50):\n",
    "    A = np.hstack((np.power(x,i) for i in range(degree+1)))\n",
    "    ws,E,rank,sigma = np.linalg.lstsq(A, y)\n",
    "    f = A*ws\n",
    "    e = y - f\n",
    "    Total_Error=e.T*e/2\n",
    "    print('Degree:',degree,', Total Error:',Total_Error)\n"
   ]
  },
  {
   "cell_type": "code",
   "execution_count": null,
   "metadata": {
    "collapsed": true
   },
   "outputs": [],
   "source": []
  }
 ],
 "metadata": {
  "kernelspec": {
   "display_name": "Python 3",
   "language": "python",
   "name": "python3"
  },
  "language_info": {
   "codemirror_mode": {
    "name": "ipython",
    "version": 3
   },
   "file_extension": ".py",
   "mimetype": "text/x-python",
   "name": "python",
   "nbconvert_exporter": "python",
   "pygments_lexer": "ipython3",
   "version": "3.5.1"
  }
 },
 "nbformat": 4,
 "nbformat_minor": 0
}
