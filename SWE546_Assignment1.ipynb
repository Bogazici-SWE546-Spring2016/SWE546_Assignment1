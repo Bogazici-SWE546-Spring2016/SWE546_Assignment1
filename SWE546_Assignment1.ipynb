{
 "cells": [
  {
   "cell_type": "markdown",
   "metadata": {},
   "source": [
    "# NİHAL ER | 2015719069"
   ]
  },
  {
   "cell_type": "code",
   "execution_count": 29,
   "metadata": {
    "collapsed": false
   },
   "outputs": [],
   "source": [
    "import numpy as np\n",
    "import pandas as pd\n",
    "import matplotlib.pylab as plt\n",
    "\n",
    "df_arac = pd.read_csv(u'data/arac.csv',sep=';')"
   ]
  },
  {
   "cell_type": "markdown",
   "metadata": {},
   "source": [
    "**What are the Data Columns**"
   ]
  },
  {
   "cell_type": "code",
   "execution_count": 30,
   "metadata": {
    "collapsed": false
   },
   "outputs": [
    {
     "data": {
      "text/html": [
       "<div>\n",
       "<table border=\"1\" class=\"dataframe\">\n",
       "  <thead>\n",
       "    <tr style=\"text-align: right;\">\n",
       "      <th></th>\n",
       "      <th>Year</th>\n",
       "      <th>All</th>\n",
       "      <th>Car</th>\n",
       "      <th>Minibus</th>\n",
       "      <th>Bus</th>\n",
       "      <th>SmallTruck</th>\n",
       "      <th>Truck</th>\n",
       "      <th>Motorcycle</th>\n",
       "      <th>SpecialVehicles</th>\n",
       "      <th>Machinery</th>\n",
       "      <th>Tractor</th>\n",
       "    </tr>\n",
       "  </thead>\n",
       "  <tbody>\n",
       "  </tbody>\n",
       "</table>\n",
       "</div>"
      ],
      "text/plain": [
       "Empty DataFrame\n",
       "Columns: [Year, All, Car, Minibus, Bus, SmallTruck, Truck, Motorcycle, SpecialVehicles, Machinery, Tractor]\n",
       "Index: []"
      ]
     },
     "execution_count": 30,
     "metadata": {},
     "output_type": "execute_result"
    }
   ],
   "source": [
    "df_arac[0:0]"
   ]
  },
  {
   "cell_type": "markdown",
   "metadata": {},
   "source": [
    "# FITTING A POLYNOMIAL"
   ]
  },
  {
   "cell_type": "markdown",
   "metadata": {},
   "source": [
    "**Question :\n",
    "Fit a polynomial of degree K to all columns of the following dataset to predict number of vehicles in the years of 2016 | 2017 | 2018 | 2019 | 2020.**\n",
    "\n",
    "Assume k=3"
   ]
  },
  {
   "cell_type": "markdown",
   "metadata": {},
   "source": [
    "***---------------------------------------CAR---------------------------------------***"
   ]
  },
  {
   "cell_type": "code",
   "execution_count": 31,
   "metadata": {
    "collapsed": false
   },
   "outputs": [
    {
     "name": "stdout",
     "output_type": "stream",
     "text": [
      "Prediction of vehicles in the years of 2016-2020 : [[ 10791127.08695183]\n",
      " [ 11356456.74678682]\n",
      " [ 11941292.30405493]\n",
      " [ 12545963.57653582]\n",
      " [ 13170800.38200914]]\n",
      "Total Error is  [[  6.35768969e+11]]\n"
     ]
    }
   ],
   "source": [
    "BaseYear = 1966\n",
    "degree=3\n",
    "\n",
    "x = np.matrix(df_arac.Year[0:]).T-BaseYear\n",
    "y = np.matrix(df_arac.Car[0:]).T\n",
    "A = np.hstack((np.power(x,i) for i in range(degree+1)))\n",
    "ws,E,rank,sigma = np.linalg.lstsq(A, y)\n",
    "f = A*ws\n",
    "\n",
    "\n",
    "#Prediction of 2016-2020\n",
    "TargetYear=np.matrix([2016,2017,2018,2019,2020])\n",
    "x_prediction=np.matrix(TargetYear-BaseYear).T\n",
    "A2 = np.hstack((np.power(x_prediction,i) for i in range(degree+1)))\n",
    "f2=A2*ws\n",
    "\n",
    "\n",
    "#Graphs\n",
    "plt.plot(x+BaseYear, y, 'o-')\n",
    "plt.plot(x+BaseYear, f, 'r')\n",
    "plt.plot(x_prediction+BaseYear,f2,'ro')\n",
    "plt.xlabel('Year')\n",
    "plt.ylabel('Number of Cars')\n",
    "plt.show()\n",
    "\n",
    "#Total Error and Prediction\n",
    "print('Prediction of vehicles in the years of 2016-2020 :',f2)\n",
    "\n",
    "e = y - f\n",
    "print('Total Error is ', e.T*e/2)\n"
   ]
  },
  {
   "cell_type": "markdown",
   "metadata": {},
   "source": [
    "***---------------------------------------MINIBUS---------------------------------------***"
   ]
  },
  {
   "cell_type": "code",
   "execution_count": 32,
   "metadata": {
    "collapsed": false
   },
   "outputs": [
    {
     "name": "stdout",
     "output_type": "stream",
     "text": [
      "Prediction of vehicles in the years of 2016-2020 : [[ 478346.16280939]\n",
      " [ 495310.0056793 ]\n",
      " [ 512498.98461795]\n",
      " [ 529908.40895889]\n",
      " [ 547533.58803568]]\n",
      "Total Error is  [[  4.83601934e+09]]\n"
     ]
    }
   ],
   "source": [
    "BaseYear = 1966\n",
    "degree=3\n",
    "\n",
    "x = np.matrix(df_arac.Year[0:]).T-BaseYear\n",
    "y = np.matrix(df_arac.Minibus[0:]).T\n",
    "A = np.hstack((np.power(x,i) for i in range(degree+1)))\n",
    "ws,E,rank,sigma = np.linalg.lstsq(A, y)\n",
    "f = A*ws\n",
    "\n",
    "\n",
    "#Prediction of 2016-2020\n",
    "TargetYear=np.matrix([2016,2017,2018,2019,2020])\n",
    "x_prediction=np.matrix(TargetYear-BaseYear).T\n",
    "A2 = np.hstack((np.power(x_prediction,i) for i in range(degree+1)))\n",
    "f2=A2*ws\n",
    "\n",
    "\n",
    "#Graphs\n",
    "plt.plot(x+BaseYear, y, 'o-')\n",
    "plt.plot(x+BaseYear, f, 'r')\n",
    "plt.plot(x_prediction+BaseYear,f2,'ro')\n",
    "plt.xlabel('Year')\n",
    "plt.ylabel('Number of Minibus')\n",
    "plt.show()\n",
    "\n",
    "#Total Error and Prediction\n",
    "print('Prediction of vehicles in the years of 2016-2020 :',f2)\n",
    "\n",
    "e = y - f\n",
    "print('Total Error is ', e.T*e/2)\n"
   ]
  },
  {
   "cell_type": "markdown",
   "metadata": {},
   "source": [
    "***---------------------------------------BUS---------------------------------------***"
   ]
  },
  {
   "cell_type": "code",
   "execution_count": 33,
   "metadata": {
    "collapsed": false
   },
   "outputs": [
    {
     "name": "stdout",
     "output_type": "stream",
     "text": [
      "Prediction of vehicles in the years of 2016-2020 : [[ 250684.75354756]\n",
      " [ 260030.12990449]\n",
      " [ 269525.79351962]\n",
      " [ 279169.84233279]\n",
      " [ 288960.37428382]]\n",
      "Total Error is  [[  1.83982436e+09]]\n"
     ]
    }
   ],
   "source": [
    "BaseYear = 1966\n",
    "degree=3\n",
    "\n",
    "x = np.matrix(df_arac.Year[0:]).T-BaseYear\n",
    "y = np.matrix(df_arac.Bus[0:]).T\n",
    "A = np.hstack((np.power(x,i) for i in range(degree+1)))\n",
    "ws,E,rank,sigma = np.linalg.lstsq(A, y)\n",
    "f = A*ws\n",
    "\n",
    "\n",
    "#Prediction of 2016-2020\n",
    "TargetYear=np.matrix([2016,2017,2018,2019,2020])\n",
    "x_prediction=np.matrix(TargetYear-BaseYear).T\n",
    "A2 = np.hstack((np.power(x_prediction,i) for i in range(degree+1)))\n",
    "f2=A2*ws\n",
    "\n",
    "\n",
    "#Graphs\n",
    "plt.plot(x+BaseYear, y, 'o-')\n",
    "plt.plot(x+BaseYear, f, 'r')\n",
    "plt.plot(x_prediction+BaseYear,f2,'ro')\n",
    "plt.xlabel('Year')\n",
    "plt.ylabel('Number of Bus')\n",
    "plt.show()\n",
    "\n",
    "#Total Error and Prediction\n",
    "print('Prediction of vehicles in the years of 2016-2020 :',f2)\n",
    "\n",
    "e = y - f\n",
    "print('Total Error is ', e.T*e/2)\n"
   ]
  },
  {
   "cell_type": "markdown",
   "metadata": {},
   "source": [
    "***---------------------------------------SMALL TRUCK---------------------------------------***"
   ]
  },
  {
   "cell_type": "code",
   "execution_count": 34,
   "metadata": {
    "collapsed": false
   },
   "outputs": [
    {
     "name": "stdout",
     "output_type": "stream",
     "text": [
      "Prediction of vehicles in the years of 2016-2020 : [[ 3732353.60316924]\n",
      " [ 4024579.24046966]\n",
      " [ 4332282.49098243]\n",
      " [ 4655864.65968355]\n",
      " [ 4995727.05154899]]\n",
      "Total Error is  [[  1.52769899e+11]]\n"
     ]
    }
   ],
   "source": [
    "BaseYear = 1966\n",
    "degree=3\n",
    "\n",
    "x = np.matrix(df_arac.Year[0:]).T-BaseYear\n",
    "y = np.matrix(df_arac.SmallTruck[0:]).T\n",
    "A = np.hstack((np.power(x,i) for i in range(degree+1)))\n",
    "ws,E,rank,sigma = np.linalg.lstsq(A, y)\n",
    "f = A*ws\n",
    "\n",
    "\n",
    "#Prediction of 2016-2020\n",
    "TargetYear=np.matrix([2016,2017,2018,2019,2020])\n",
    "x_prediction=np.matrix(TargetYear-BaseYear).T\n",
    "A2 = np.hstack((np.power(x_prediction,i) for i in range(degree+1)))\n",
    "f2=A2*ws\n",
    "\n",
    "\n",
    "#Graphs\n",
    "plt.plot(x+BaseYear, y, 'o-')\n",
    "plt.plot(x+BaseYear, f, 'r')\n",
    "plt.plot(x_prediction+BaseYear,f2,'ro')\n",
    "plt.xlabel('Year')\n",
    "plt.ylabel('Number of SmallTruck')\n",
    "plt.show()\n",
    "\n",
    "#Total Error and Prediction\n",
    "print('Prediction of vehicles in the years of 2016-2020 :',f2)\n",
    "\n",
    "e = y - f\n",
    "print('Total Error is ', e.T*e/2)\n"
   ]
  },
  {
   "cell_type": "markdown",
   "metadata": {},
   "source": [
    "***---------------------------------------TRUCK---------------------------------------***"
   ]
  },
  {
   "cell_type": "code",
   "execution_count": 35,
   "metadata": {
    "collapsed": false
   },
   "outputs": [
    {
     "name": "stdout",
     "output_type": "stream",
     "text": [
      "Prediction of vehicles in the years of 2016-2020 : [[  899554.09343897]\n",
      " [  935219.28057467]\n",
      " [  971823.19734308]\n",
      " [ 1009377.25756459]\n",
      " [ 1047892.87505958]]\n",
      "Total Error is  [[  5.53361521e+10]]\n"
     ]
    }
   ],
   "source": [
    "BaseYear = 1966\n",
    "degree=3\n",
    "\n",
    "x = np.matrix(df_arac.Year[0:]).T-BaseYear\n",
    "y = np.matrix(df_arac.Truck[0:]).T\n",
    "A = np.hstack((np.power(x,i) for i in range(degree+1)))\n",
    "ws,E,rank,sigma = np.linalg.lstsq(A, y)\n",
    "f = A*ws\n",
    "\n",
    "\n",
    "#Prediction of 2016-2020\n",
    "TargetYear=np.matrix([2016,2017,2018,2019,2020])\n",
    "x_prediction=np.matrix(TargetYear-BaseYear).T\n",
    "A2 = np.hstack((np.power(x_prediction,i) for i in range(degree+1)))\n",
    "f2=A2*ws\n",
    "\n",
    "\n",
    "#Graphs\n",
    "plt.plot(x+BaseYear, y, 'o-')\n",
    "plt.plot(x+BaseYear, f, 'r')\n",
    "plt.plot(x_prediction+BaseYear,f2,'ro')\n",
    "plt.xlabel('Year')\n",
    "plt.ylabel('Number of Truck')\n",
    "plt.show()\n",
    "\n",
    "#Total Error and Prediction\n",
    "print('Prediction of vehicles in the years of 2016-2020 :',f2)\n",
    "\n",
    "e = y - f\n",
    "print('Total Error is ', e.T*e/2)\n"
   ]
  },
  {
   "cell_type": "markdown",
   "metadata": {},
   "source": [
    "***---------------------------------------MOTORCYCLE---------------------------------------***"
   ]
  },
  {
   "cell_type": "code",
   "execution_count": 36,
   "metadata": {
    "collapsed": false
   },
   "outputs": [
    {
     "name": "stdout",
     "output_type": "stream",
     "text": [
      "Prediction of vehicles in the years of 2016-2020 : [[ 3281572.99891879]\n",
      " [ 3479311.29359837]\n",
      " [ 3685362.74991199]\n",
      " [ 3899907.61599537]\n",
      " [ 4123126.13998425]]\n",
      "Total Error is  [[  2.74117881e+11]]\n"
     ]
    }
   ],
   "source": [
    "BaseYear = 1966\n",
    "degree=3\n",
    "\n",
    "x = np.matrix(df_arac.Year[0:]).T-BaseYear\n",
    "y = np.matrix(df_arac.Motorcycle[0:]).T\n",
    "A = np.hstack((np.power(x,i) for i in range(degree+1)))\n",
    "ws,E,rank,sigma = np.linalg.lstsq(A, y)\n",
    "f = A*ws\n",
    "\n",
    "\n",
    "#Prediction of 2016-2020\n",
    "TargetYear=np.matrix([2016,2017,2018,2019,2020])\n",
    "x_prediction=np.matrix(TargetYear-BaseYear).T\n",
    "A2 = np.hstack((np.power(x_prediction,i) for i in range(degree+1)))\n",
    "f2=A2*ws\n",
    "\n",
    "\n",
    "#Graphs\n",
    "plt.plot(x+BaseYear, y, 'o-')\n",
    "plt.plot(x+BaseYear, f, 'r')\n",
    "plt.plot(x_prediction+BaseYear,f2,'ro')\n",
    "plt.xlabel('Year')\n",
    "plt.ylabel('Number of Motorcycle')\n",
    "plt.show()\n",
    "\n",
    "#Total Error and Prediction\n",
    "print('Prediction of vehicles in the years of 2016-2020 :',f2)\n",
    "\n",
    "e = y - f\n",
    "print('Total Error is ', e.T*e/2)\n"
   ]
  },
  {
   "cell_type": "markdown",
   "metadata": {},
   "source": [
    "***---------------------------------------SPECIAL VEHICLES---------------------------------------***"
   ]
  },
  {
   "cell_type": "code",
   "execution_count": 37,
   "metadata": {
    "collapsed": false
   },
   "outputs": [
    {
     "name": "stdout",
     "output_type": "stream",
     "text": [
      "Prediction of vehicles in the years of 2016-2020 : [[ 27715.46302215]\n",
      " [ 24325.23345714]\n",
      " [ 20577.74034428]\n",
      " [ 16461.04492302]\n",
      " [ 11963.2084328 ]]\n",
      "Total Error is  [[  1.11784777e+09]]\n"
     ]
    }
   ],
   "source": [
    "BaseYear = 1966\n",
    "degree=3\n",
    "\n",
    "x = np.matrix(df_arac.Year[0:]).T-BaseYear\n",
    "y = np.matrix(df_arac.SpecialVehicles[0:]).T\n",
    "A = np.hstack((np.power(x,i) for i in range(degree+1)))\n",
    "ws,E,rank,sigma = np.linalg.lstsq(A, y)\n",
    "f = A*ws\n",
    "\n",
    "\n",
    "#Prediction of 2016-2020\n",
    "TargetYear=np.matrix([2016,2017,2018,2019,2020])\n",
    "x_prediction=np.matrix(TargetYear-BaseYear).T\n",
    "A2 = np.hstack((np.power(x_prediction,i) for i in range(degree+1)))\n",
    "f2=A2*ws\n",
    "\n",
    "\n",
    "#Graphs\n",
    "plt.plot(x+BaseYear, y, 'o-')\n",
    "plt.plot(x+BaseYear, f, 'r')\n",
    "plt.plot(x_prediction+BaseYear,f2,'ro')\n",
    "plt.xlabel('Year')\n",
    "plt.ylabel('Number of SpecialVehicles')\n",
    "plt.show()\n",
    "\n",
    "#Total Error and Prediction\n",
    "print('Prediction of vehicles in the years of 2016-2020 :',f2)\n",
    "\n",
    "e = y - f\n",
    "print('Total Error is ', e.T*e/2)\n"
   ]
  },
  {
   "cell_type": "markdown",
   "metadata": {},
   "source": [
    "***---------------------------------------MACHINERY---------------------------------------***"
   ]
  },
  {
   "cell_type": "code",
   "execution_count": 38,
   "metadata": {
    "collapsed": false
   },
   "outputs": [
    {
     "name": "stdout",
     "output_type": "stream",
     "text": [
      "Prediction of vehicles in the years of 2016-2020 : [[ 260601.45125931]\n",
      " [ 270791.12700671]\n",
      " [ 281178.50971764]\n",
      " [ 291763.63215732]\n",
      " [ 302546.52709094]]\n",
      "Total Error is  [[  1.32789639e+08]]\n"
     ]
    }
   ],
   "source": [
    "BaseYear = 1966\n",
    "degree=3\n",
    "\n",
    "x = np.matrix(df_arac.Year[0:37]).T-BaseYear\n",
    "y = np.matrix(df_arac.Machinery[0:37]).T\n",
    "A = np.hstack((np.power(x,i) for i in range(degree+1)))\n",
    "ws,E,rank,sigma = np.linalg.lstsq(A, y)\n",
    "f = A*ws\n",
    "\n",
    "\n",
    "#Prediction of 2016-2020\n",
    "TargetYear=np.matrix([2016,2017,2018,2019,2020])\n",
    "x_prediction=np.matrix(TargetYear-BaseYear).T\n",
    "A2 = np.hstack((np.power(x_prediction,i) for i in range(degree+1)))\n",
    "f2=A2*ws\n",
    "\n",
    "\n",
    "#Graphs\n",
    "plt.plot(x+BaseYear, y, 'o-')\n",
    "plt.plot(x+BaseYear, f, 'r')\n",
    "plt.plot(x_prediction+BaseYear,f2,'ro')\n",
    "plt.xlabel('Year')\n",
    "plt.ylabel('Number of Machinery')\n",
    "plt.show()\n",
    "\n",
    "#Total Error and Prediction\n",
    "print('Prediction of vehicles in the years of 2016-2020 :',f2)\n",
    "\n",
    "e = y - f\n",
    "print('Total Error is ', e.T*e/2)\n"
   ]
  },
  {
   "cell_type": "markdown",
   "metadata": {},
   "source": [
    "***---------------------------------------TRACTOR---------------------------------------***"
   ]
  },
  {
   "cell_type": "code",
   "execution_count": 39,
   "metadata": {
    "collapsed": false
   },
   "outputs": [
    {
     "name": "stdout",
     "output_type": "stream",
     "text": [
      "Prediction of vehicles in the years of 2016-2020 : [[ 1677420.83465827]\n",
      " [ 1719057.19022128]\n",
      " [ 1761889.79582882]\n",
      " [ 1805996.58091602]\n",
      " [ 1851455.47491805]]\n",
      "Total Error is  [[  1.80390659e+10]]\n"
     ]
    }
   ],
   "source": [
    "BaseYear = 1979\n",
    "degree=3\n",
    "\n",
    "x = np.matrix(df_arac.Year[13:]).T-BaseYear\n",
    "y = np.matrix(df_arac.Tractor[13:]).T\n",
    "A = np.hstack((np.power(x,i) for i in range(degree+1)))\n",
    "ws,E,rank,sigma = np.linalg.lstsq(A, y)\n",
    "f = A*ws\n",
    "\n",
    "\n",
    "#Prediction of 2016-2020\n",
    "TargetYear=np.matrix([2016,2017,2018,2019,2020])\n",
    "x_prediction=np.matrix(TargetYear-BaseYear).T\n",
    "A2 = np.hstack((np.power(x_prediction,i) for i in range(degree+1)))\n",
    "f2=A2*ws\n",
    "\n",
    "\n",
    "#Graphs\n",
    "plt.plot(x+BaseYear, y, 'o-')\n",
    "plt.plot(x+BaseYear, f, 'r')\n",
    "plt.plot(x_prediction+BaseYear,f2,'ro')\n",
    "plt.xlabel('Year')\n",
    "plt.ylabel('Number of Tractor')\n",
    "plt.show()\n",
    "\n",
    "#Total Error and Prediction\n",
    "print('Prediction of vehicles in the years of 2016-2020 :',f2)\n",
    "\n",
    "e = y - f\n",
    "print('Total Error is ', e.T*e/2)\n"
   ]
  },
  {
   "cell_type": "markdown",
   "metadata": {},
   "source": [
    "**Fit an AR model to each data sequence**\n",
    "\n",
    "Assume degree=1"
   ]
  },
  {
   "cell_type": "markdown",
   "metadata": {},
   "source": [
    "***---------------------------------------CAR---------------------------------------***"
   ]
  },
  {
   "cell_type": "markdown",
   "metadata": {
    "collapsed": true
   },
   "source": [
    "# FITTING A-R MODEL"
   ]
  },
  {
   "cell_type": "code",
   "execution_count": 40,
   "metadata": {
    "collapsed": false
   },
   "outputs": [
    {
     "name": "stdout",
     "output_type": "stream",
     "text": [
      "2016 Projection =  [[ 11161409.9128974]]\n",
      "2017 Projection =  [[ 11851363.8176934]]\n",
      "2018 Projection =  [[ 12581310.9072117]]\n",
      "2019 Projection =  [[ 13353569.38678908]]\n",
      "2020 Projection =  [[ 14170591.83655695]]\n",
      "Total Error is  [[  2.40205399e+11]]\n"
     ]
    }
   ],
   "source": [
    "BaseYear = 1966\n",
    "degree=1\n",
    "\n",
    "x = np.matrix(df_arac.Car[0:48]).T\n",
    "y = np.matrix(df_arac.Car[1:49]).T\n",
    "A = np.hstack((np.power(x,i) for i in range(degree+1)))\n",
    "ws,E,rank,sigma = np.linalg.lstsq(A, y)\n",
    "f = A*ws\n",
    "\n",
    "\n",
    "#Graphs\n",
    "plt.plot(x, y, 'o-')\n",
    "plt.plot(x, f, 'r')\n",
    "plt.xlabel('Number of Cars')\n",
    "plt.ylabel('Number of Cars (corresponds 1month later)')\n",
    "plt.show()\n",
    "\n",
    "\n",
    "#Prediction of 2016-2020\n",
    "\n",
    "#2016\n",
    "x_prediction=np.matrix(df_arac.Car[49:])\n",
    "A2=np.hstack((np.power(x_prediction,i) for i in range(degree+1)))              \n",
    "projection2016=A2*ws\n",
    "print('2016 Projection = ', projection2016)\n",
    "plt.plot(x_prediction,projection2016,'ro')             \n",
    "                \n",
    "#2017           \n",
    "A2 = np.hstack((np.power(projection2016,i) for i in range(degree+1)))\n",
    "projection2017=A2*ws\n",
    "print('2017 Projection = ', projection2017)               \n",
    "plt.plot(projection2016,projection2017,'ro')    \n",
    "\n",
    "\n",
    "#2018           \n",
    "A2 = np.hstack((np.power(projection2017,i) for i in range(degree+1)))\n",
    "projection2018=A2*ws\n",
    "print('2018 Projection = ', projection2018)\n",
    "plt.plot(projection2017,projection2018,'ro')\n",
    "\n",
    "\n",
    "#2019        \n",
    "A2 = np.hstack((np.power(projection2018,i) for i in range(degree+1)))\n",
    "projection2019=A2*ws\n",
    "print('2019 Projection = ', projection2019)\n",
    "plt.plot(projection2018,projection2019,'ro')\n",
    "\n",
    "\n",
    "#2020           \n",
    "A2 = np.hstack((np.power(projection2019,i) for i in range(degree+1)))\n",
    "projection2020=A2*ws\n",
    "print('2020 Projection = ', projection2020)\n",
    "plt.plot(projection2019,projection2020,'ro')\n",
    "\n",
    "e = y - f\n",
    "print('Total Error is ', e.T*e/2)"
   ]
  },
  {
   "cell_type": "markdown",
   "metadata": {},
   "source": [
    "***---------------------------------------MINIBUS---------------------------------------***"
   ]
  },
  {
   "cell_type": "code",
   "execution_count": 41,
   "metadata": {
    "collapsed": false
   },
   "outputs": [
    {
     "name": "stdout",
     "output_type": "stream",
     "text": [
      "2016 Projection =  [[ 462414.52011569]]\n",
      "2017 Projection =  [[ 478385.44482352]]\n",
      "2018 Projection =  [[ 494743.9573751]]\n",
      "2019 Projection =  [[ 511499.46388431]]\n",
      "2020 Projection =  [[ 528661.59873582]]\n",
      "Total Error is  [[  2.59875061e+09]]\n"
     ]
    }
   ],
   "source": [
    "BaseYear = 1966\n",
    "degree=1\n",
    "\n",
    "x = np.matrix(df_arac.Minibus[0:48]).T\n",
    "y = np.matrix(df_arac.Minibus[1:49]).T\n",
    "A = np.hstack((np.power(x,i) for i in range(degree+1)))\n",
    "ws,E,rank,sigma = np.linalg.lstsq(A, y)\n",
    "f = A*ws\n",
    "\n",
    "\n",
    "#Graphs\n",
    "plt.plot(x, y, 'o-')\n",
    "plt.plot(x, f, 'r')\n",
    "plt.xlabel('Number of Minibus')\n",
    "plt.ylabel('Number of Minibus (corresponds 1month later)')\n",
    "plt.show()\n",
    "\n",
    "\n",
    "#Prediction of 2016-2020\n",
    "\n",
    "#2016\n",
    "x_prediction=np.matrix(df_arac.Minibus[49:])\n",
    "A2=np.hstack((np.power(x_prediction,i) for i in range(degree+1)))              \n",
    "projection2016=A2*ws\n",
    "print('2016 Projection = ', projection2016)\n",
    "plt.plot(x_prediction,projection2016,'ro')             \n",
    "                \n",
    "#2017           \n",
    "A2 = np.hstack((np.power(projection2016,i) for i in range(degree+1)))\n",
    "projection2017=A2*ws\n",
    "print('2017 Projection = ', projection2017)               \n",
    "plt.plot(projection2016,projection2017,'ro')    \n",
    "\n",
    "\n",
    "#2018           \n",
    "A2 = np.hstack((np.power(projection2017,i) for i in range(degree+1)))\n",
    "projection2018=A2*ws\n",
    "print('2018 Projection = ', projection2018)\n",
    "plt.plot(projection2017,projection2018,'ro')\n",
    "\n",
    "\n",
    "#2019        \n",
    "A2 = np.hstack((np.power(projection2018,i) for i in range(degree+1)))\n",
    "projection2019=A2*ws\n",
    "print('2019 Projection = ', projection2019)\n",
    "plt.plot(projection2018,projection2019,'ro')\n",
    "\n",
    "\n",
    "#2020           \n",
    "A2 = np.hstack((np.power(projection2019,i) for i in range(degree+1)))\n",
    "projection2020=A2*ws\n",
    "print('2020 Projection = ', projection2020)\n",
    "plt.plot(projection2019,projection2020,'ro')\n",
    "\n",
    "e = y - f\n",
    "print('Total Error is ', e.T*e/2)"
   ]
  },
  {
   "cell_type": "markdown",
   "metadata": {},
   "source": [
    "***---------------------------------------BUS---------------------------------------***"
   ]
  },
  {
   "cell_type": "code",
   "execution_count": 42,
   "metadata": {
    "collapsed": false
   },
   "outputs": [
    {
     "name": "stdout",
     "output_type": "stream",
     "text": [
      "2016 Projection =  [[ 223176.23604226]]\n",
      "2017 Projection =  [[ 229909.91749538]]\n",
      "2018 Projection =  [[ 236769.34968845]]\n",
      "2019 Projection =  [[ 243756.88100232]]\n",
      "2020 Projection =  [[ 250874.9036736]]\n",
      "Total Error is  [[  8.90400811e+08]]\n"
     ]
    }
   ],
   "source": [
    "BaseYear = 1966\n",
    "degree=1\n",
    "\n",
    "x = np.matrix(df_arac.Bus[0:48]).T\n",
    "y = np.matrix(df_arac.Bus[1:49]).T\n",
    "A = np.hstack((np.power(x,i) for i in range(degree+1)))\n",
    "ws,E,rank,sigma = np.linalg.lstsq(A, y)\n",
    "f = A*ws\n",
    "\n",
    "\n",
    "#Graphs\n",
    "plt.plot(x, y, 'o-')\n",
    "plt.plot(x, f, 'r')\n",
    "plt.xlabel('Number of Bus')\n",
    "plt.ylabel('Number of Bus (corresponds 1month later)')\n",
    "plt.show()\n",
    "\n",
    "\n",
    "#Prediction of 2016-2020\n",
    "\n",
    "#2016\n",
    "x_prediction=np.matrix(df_arac.Bus[49:])\n",
    "A2=np.hstack((np.power(x_prediction,i) for i in range(degree+1)))              \n",
    "projection2016=A2*ws\n",
    "print('2016 Projection = ', projection2016)\n",
    "plt.plot(x_prediction,projection2016,'ro')             \n",
    "                \n",
    "#2017           \n",
    "A2 = np.hstack((np.power(projection2016,i) for i in range(degree+1)))\n",
    "projection2017=A2*ws\n",
    "print('2017 Projection = ', projection2017)               \n",
    "plt.plot(projection2016,projection2017,'ro')    \n",
    "\n",
    "\n",
    "#2018           \n",
    "A2 = np.hstack((np.power(projection2017,i) for i in range(degree+1)))\n",
    "projection2018=A2*ws\n",
    "print('2018 Projection = ', projection2018)\n",
    "plt.plot(projection2017,projection2018,'ro')\n",
    "\n",
    "\n",
    "#2019        \n",
    "A2 = np.hstack((np.power(projection2018,i) for i in range(degree+1)))\n",
    "projection2019=A2*ws\n",
    "print('2019 Projection = ', projection2019)\n",
    "plt.plot(projection2018,projection2019,'ro')\n",
    "\n",
    "\n",
    "#2020           \n",
    "A2 = np.hstack((np.power(projection2019,i) for i in range(degree+1)))\n",
    "projection2020=A2*ws\n",
    "print('2020 Projection = ', projection2020)\n",
    "plt.plot(projection2019,projection2020,'ro')\n",
    "\n",
    "e = y - f\n",
    "print('Total Error is ', e.T*e/2)"
   ]
  },
  {
   "cell_type": "markdown",
   "metadata": {},
   "source": [
    "***---------------------------------------SMALL TRUCK---------------------------------------***"
   ]
  },
  {
   "cell_type": "code",
   "execution_count": 43,
   "metadata": {
    "collapsed": false
   },
   "outputs": [
    {
     "name": "stdout",
     "output_type": "stream",
     "text": [
      "2016 Projection =  [[ 3490534.12531505]]\n",
      "2017 Projection =  [[ 3764893.19971448]]\n",
      "2018 Projection =  [[ 4059814.89680019]]\n",
      "2019 Projection =  [[ 4376840.34092778]]\n",
      "2020 Projection =  [[ 4717626.16040951]]\n",
      "Total Error is  [[  4.91033681e+10]]\n"
     ]
    }
   ],
   "source": [
    "BaseYear = 1966\n",
    "degree=1\n",
    "\n",
    "x = np.matrix(df_arac.SmallTruck[0:48]).T\n",
    "y = np.matrix(df_arac.SmallTruck[1:49]).T\n",
    "A = np.hstack((np.power(x,i) for i in range(degree+1)))\n",
    "ws,E,rank,sigma = np.linalg.lstsq(A, y)\n",
    "f = A*ws\n",
    "\n",
    "\n",
    "#Graphs\n",
    "plt.plot(x, y, 'o-')\n",
    "plt.plot(x, f, 'r')\n",
    "plt.xlabel('Number of SmallTruck')\n",
    "plt.ylabel('Number of SmallTruck (corresponds 1month later)')\n",
    "plt.show()\n",
    "\n",
    "\n",
    "#Prediction of 2016-2020\n",
    "\n",
    "#2016\n",
    "x_prediction=np.matrix(df_arac.SmallTruck[49:])\n",
    "A2=np.hstack((np.power(x_prediction,i) for i in range(degree+1)))              \n",
    "projection2016=A2*ws\n",
    "print('2016 Projection = ', projection2016)\n",
    "plt.plot(x_prediction,projection2016,'ro')             \n",
    "                \n",
    "#2017           \n",
    "A2 = np.hstack((np.power(projection2016,i) for i in range(degree+1)))\n",
    "projection2017=A2*ws\n",
    "print('2017 Projection = ', projection2017)               \n",
    "plt.plot(projection2016,projection2017,'ro')    \n",
    "\n",
    "\n",
    "#2018           \n",
    "A2 = np.hstack((np.power(projection2017,i) for i in range(degree+1)))\n",
    "projection2018=A2*ws\n",
    "print('2018 Projection = ', projection2018)\n",
    "plt.plot(projection2017,projection2018,'ro')\n",
    "\n",
    "\n",
    "#2019        \n",
    "A2 = np.hstack((np.power(projection2018,i) for i in range(degree+1)))\n",
    "projection2019=A2*ws\n",
    "print('2019 Projection = ', projection2019)\n",
    "plt.plot(projection2018,projection2019,'ro')\n",
    "\n",
    "\n",
    "#2020           \n",
    "A2 = np.hstack((np.power(projection2019,i) for i in range(degree+1)))\n",
    "projection2020=A2*ws\n",
    "print('2020 Projection = ', projection2020)\n",
    "plt.plot(projection2019,projection2020,'ro')\n",
    "\n",
    "e = y - f\n",
    "print('Total Error is ', e.T*e/2)"
   ]
  },
  {
   "cell_type": "markdown",
   "metadata": {},
   "source": [
    "***---------------------------------------TRUCK---------------------------------------***"
   ]
  },
  {
   "cell_type": "code",
   "execution_count": 44,
   "metadata": {
    "collapsed": false
   },
   "outputs": [
    {
     "name": "stdout",
     "output_type": "stream",
     "text": [
      "2016 Projection =  [[ 824057.7656031]]\n",
      "2017 Projection =  [[ 845781.07975304]]\n",
      "2018 Projection =  [[ 867788.61303452]]\n",
      "2019 Projection =  [[ 890084.08405669]]\n",
      "2020 Projection =  [[ 912671.26008148]]\n",
      "Total Error is  [[  2.76408757e+10]]\n"
     ]
    }
   ],
   "source": [
    "BaseYear = 1966\n",
    "degree=1\n",
    "\n",
    "x = np.matrix(df_arac.Truck[0:48]).T\n",
    "y = np.matrix(df_arac.Truck[1:49]).T\n",
    "A = np.hstack((np.power(x,i) for i in range(degree+1)))\n",
    "ws,E,rank,sigma = np.linalg.lstsq(A, y)\n",
    "f = A*ws\n",
    "\n",
    "\n",
    "#Graphs\n",
    "plt.plot(x, y, 'o-')\n",
    "plt.plot(x, f, 'r')\n",
    "plt.xlabel('Number of Truck')\n",
    "plt.ylabel('Number of Truck (corresponds 1month later)')\n",
    "plt.show()\n",
    "\n",
    "\n",
    "#Prediction of 2016-2020\n",
    "\n",
    "#2016\n",
    "x_prediction=np.matrix(df_arac.Truck[49:])\n",
    "A2=np.hstack((np.power(x_prediction,i) for i in range(degree+1)))              \n",
    "projection2016=A2*ws\n",
    "print('2016 Projection = ', projection2016)\n",
    "plt.plot(x_prediction,projection2016,'ro')             \n",
    "                \n",
    "#2017           \n",
    "A2 = np.hstack((np.power(projection2016,i) for i in range(degree+1)))\n",
    "projection2017=A2*ws\n",
    "print('2017 Projection = ', projection2017)               \n",
    "plt.plot(projection2016,projection2017,'ro')    \n",
    "\n",
    "\n",
    "#2018           \n",
    "A2 = np.hstack((np.power(projection2017,i) for i in range(degree+1)))\n",
    "projection2018=A2*ws\n",
    "print('2018 Projection = ', projection2018)\n",
    "plt.plot(projection2017,projection2018,'ro')\n",
    "\n",
    "\n",
    "#2019        \n",
    "A2 = np.hstack((np.power(projection2018,i) for i in range(degree+1)))\n",
    "projection2019=A2*ws\n",
    "print('2019 Projection = ', projection2019)\n",
    "plt.plot(projection2018,projection2019,'ro')\n",
    "\n",
    "\n",
    "#2020           \n",
    "A2 = np.hstack((np.power(projection2019,i) for i in range(degree+1)))\n",
    "projection2020=A2*ws\n",
    "print('2020 Projection = ', projection2020)\n",
    "plt.plot(projection2019,projection2020,'ro')\n",
    "\n",
    "e = y - f\n",
    "print('Total Error is ', e.T*e/2)"
   ]
  },
  {
   "cell_type": "markdown",
   "metadata": {},
   "source": [
    "***---------------------------------------MOTORCYCLE---------------------------------------***"
   ]
  },
  {
   "cell_type": "code",
   "execution_count": 45,
   "metadata": {
    "collapsed": false
   },
   "outputs": [
    {
     "name": "stdout",
     "output_type": "stream",
     "text": [
      "2016 Projection =  [[ 3113465.33944727]]\n",
      "2017 Projection =  [[ 3297497.47737349]]\n",
      "2018 Projection =  [[ 3491422.04370575]]\n",
      "2019 Projection =  [[ 3695770.79415188]]\n",
      "2020 Projection =  [[ 3911104.06831453]]\n",
      "Total Error is  [[  7.42367240e+10]]\n"
     ]
    }
   ],
   "source": [
    "BaseYear = 1966\n",
    "degree=1\n",
    "\n",
    "x = np.matrix(df_arac.Motorcycle[0:48]).T\n",
    "y = np.matrix(df_arac.Motorcycle[1:49]).T\n",
    "A = np.hstack((np.power(x,i) for i in range(degree+1)))\n",
    "ws,E,rank,sigma = np.linalg.lstsq(A, y)\n",
    "f = A*ws\n",
    "\n",
    "\n",
    "#Graphs\n",
    "plt.plot(x, y, 'o-')\n",
    "plt.plot(x, f, 'r')\n",
    "plt.xlabel('Number of Motorcycle')\n",
    "plt.ylabel('Number of Motorcycle (corresponds 1month later)')\n",
    "plt.show()\n",
    "\n",
    "\n",
    "#Prediction of 2016-2020\n",
    "\n",
    "#2016\n",
    "x_prediction=np.matrix(df_arac.Motorcycle[49:])\n",
    "A2=np.hstack((np.power(x_prediction,i) for i in range(degree+1)))              \n",
    "projection2016=A2*ws\n",
    "print('2016 Projection = ', projection2016)\n",
    "plt.plot(x_prediction,projection2016,'ro')             \n",
    "                \n",
    "#2017           \n",
    "A2 = np.hstack((np.power(projection2016,i) for i in range(degree+1)))\n",
    "projection2017=A2*ws\n",
    "print('2017 Projection = ', projection2017)               \n",
    "plt.plot(projection2016,projection2017,'ro')    \n",
    "\n",
    "\n",
    "#2018           \n",
    "A2 = np.hstack((np.power(projection2017,i) for i in range(degree+1)))\n",
    "projection2018=A2*ws\n",
    "print('2018 Projection = ', projection2018)\n",
    "plt.plot(projection2017,projection2018,'ro')\n",
    "\n",
    "\n",
    "#2019        \n",
    "A2 = np.hstack((np.power(projection2018,i) for i in range(degree+1)))\n",
    "projection2019=A2*ws\n",
    "print('2019 Projection = ', projection2019)\n",
    "plt.plot(projection2018,projection2019,'ro')\n",
    "\n",
    "\n",
    "#2020           \n",
    "A2 = np.hstack((np.power(projection2019,i) for i in range(degree+1)))\n",
    "projection2020=A2*ws\n",
    "print('2020 Projection = ', projection2020)\n",
    "plt.plot(projection2019,projection2020,'ro')\n",
    "\n",
    "e = y - f\n",
    "print('Total Error is ', e.T*e/2)"
   ]
  },
  {
   "cell_type": "markdown",
   "metadata": {},
   "source": [
    "***---------------------------------------SPECIAL VEHICLES---------------------------------------***"
   ]
  },
  {
   "cell_type": "code",
   "execution_count": 46,
   "metadata": {
    "collapsed": false
   },
   "outputs": [
    {
     "name": "stdout",
     "output_type": "stream",
     "text": [
      "2016 Projection =  [[ 44769.41579677]]\n",
      "2017 Projection =  [[ 44422.23934331]]\n",
      "2018 Projection =  [[ 44095.22725549]]\n",
      "2019 Projection =  [[ 43787.2083662]]\n",
      "2020 Projection =  [[ 43497.07953093]]\n",
      "Total Error is  [[  6.02944275e+08]]\n"
     ]
    }
   ],
   "source": [
    "BaseYear = 1966\n",
    "degree=1\n",
    "\n",
    "x = np.matrix(df_arac.SpecialVehicles[0:48]).T\n",
    "y = np.matrix(df_arac.SpecialVehicles[1:49]).T\n",
    "A = np.hstack((np.power(x,i) for i in range(degree+1)))\n",
    "ws,E,rank,sigma = np.linalg.lstsq(A, y)\n",
    "f = A*ws\n",
    "\n",
    "\n",
    "#Graphs\n",
    "plt.plot(x, y, 'o-')\n",
    "plt.plot(x, f, 'r')\n",
    "plt.xlabel('Number of SpecialVehicles')\n",
    "plt.ylabel('Number of SpecialVehicles (corresponds 1month later)')\n",
    "plt.show()\n",
    "\n",
    "\n",
    "#Prediction of 2016-2020\n",
    "\n",
    "#2016\n",
    "x_prediction=np.matrix(df_arac.SpecialVehicles[49:])\n",
    "A2=np.hstack((np.power(x_prediction,i) for i in range(degree+1)))              \n",
    "projection2016=A2*ws\n",
    "print('2016 Projection = ', projection2016)\n",
    "plt.plot(x_prediction,projection2016,'ro')             \n",
    "                \n",
    "#2017           \n",
    "A2 = np.hstack((np.power(projection2016,i) for i in range(degree+1)))\n",
    "projection2017=A2*ws\n",
    "print('2017 Projection = ', projection2017)               \n",
    "plt.plot(projection2016,projection2017,'ro')    \n",
    "\n",
    "\n",
    "#2018           \n",
    "A2 = np.hstack((np.power(projection2017,i) for i in range(degree+1)))\n",
    "projection2018=A2*ws\n",
    "print('2018 Projection = ', projection2018)\n",
    "plt.plot(projection2017,projection2018,'ro')\n",
    "\n",
    "\n",
    "#2019        \n",
    "A2 = np.hstack((np.power(projection2018,i) for i in range(degree+1)))\n",
    "projection2019=A2*ws\n",
    "print('2019 Projection = ', projection2019)\n",
    "plt.plot(projection2018,projection2019,'ro')\n",
    "\n",
    "\n",
    "#2020           \n",
    "A2 = np.hstack((np.power(projection2019,i) for i in range(degree+1)))\n",
    "projection2020=A2*ws\n",
    "print('2020 Projection = ', projection2020)\n",
    "plt.plot(projection2019,projection2020,'ro')\n",
    "\n",
    "e = y - f\n",
    "print('Total Error is ', e.T*e/2)"
   ]
  },
  {
   "cell_type": "markdown",
   "metadata": {},
   "source": [
    "***---------------------------------------MACHINERY---------------------------------------***"
   ]
  },
  {
   "cell_type": "code",
   "execution_count": 47,
   "metadata": {
    "collapsed": false
   },
   "outputs": [
    {
     "name": "stdout",
     "output_type": "stream",
     "text": [
      "Total Error is  [[ 95174021.04042491]]\n"
     ]
    }
   ],
   "source": [
    "BaseYear = 1966\n",
    "degree=1\n",
    "\n",
    "x = np.matrix(df_arac.Machinery[0:36]).T\n",
    "y = np.matrix(df_arac.Machinery[1:37]).T\n",
    "A = np.hstack((np.power(x,i) for i in range(degree+1)))\n",
    "ws,E,rank,sigma = np.linalg.lstsq(A, y)\n",
    "f = A*ws\n",
    "\n",
    "\n",
    "#Graphs\n",
    "plt.plot(x, y, 'o-')\n",
    "plt.plot(x, f, 'r')\n",
    "plt.xlabel('Number of Machinery')\n",
    "plt.ylabel('Number of Machinery (corresponds 1month later)')\n",
    "plt.show()\n",
    "\n",
    "\n",
    "#No prediction for 2016-2020, because there is no Machinery anymore starting with 2004\n",
    "\n",
    "\n",
    "e = y - f\n",
    "print('Total Error is ', e.T*e/2)"
   ]
  },
  {
   "cell_type": "markdown",
   "metadata": {},
   "source": [
    "***---------------------------------------TRACTOR---------------------------------------***"
   ]
  },
  {
   "cell_type": "code",
   "execution_count": 48,
   "metadata": {
    "collapsed": false
   },
   "outputs": [
    {
     "name": "stdout",
     "output_type": "stream",
     "text": [
      "2016 Projection =  [[ 1724801.1304135]]\n",
      "2017 Projection =  [[ 1762050.89708572]]\n",
      "2018 Projection =  [[ 1799294.30110367]]\n",
      "2019 Projection =  [[ 1836531.34355414]]\n",
      "2020 Projection =  [[ 1873762.02552376]]\n",
      "Total Error is  [[  4.62057266e+09]]\n"
     ]
    }
   ],
   "source": [
    "BaseYear = 1979\n",
    "degree=1\n",
    "\n",
    "x = np.matrix(df_arac.Tractor[13:48]).T\n",
    "y = np.matrix(df_arac.Tractor[14:49]).T\n",
    "A = np.hstack((np.power(x,i) for i in range(degree+1)))\n",
    "ws,E,rank,sigma = np.linalg.lstsq(A, y)\n",
    "f = A*ws\n",
    "\n",
    "\n",
    "#Graphs\n",
    "plt.plot(x, y, 'o-')\n",
    "plt.plot(x, f, 'r')\n",
    "plt.xlabel('Number of Tractor')\n",
    "plt.ylabel('Number of Tractor (corresponds 1month later)')\n",
    "plt.show()\n",
    "\n",
    "\n",
    "#Prediction of 2016-2020\n",
    "\n",
    "#2016\n",
    "x_prediction=np.matrix(df_arac.Tractor[49:])\n",
    "A2=np.hstack((np.power(x_prediction,i) for i in range(degree+1)))              \n",
    "projection2016=A2*ws\n",
    "print('2016 Projection = ', projection2016)\n",
    "plt.plot(x_prediction,projection2016,'ro')             \n",
    "                \n",
    "#2017           \n",
    "A2 = np.hstack((np.power(projection2016,i) for i in range(degree+1)))\n",
    "projection2017=A2*ws\n",
    "print('2017 Projection = ', projection2017)               \n",
    "plt.plot(projection2016,projection2017,'ro')    \n",
    "\n",
    "\n",
    "#2018           \n",
    "A2 = np.hstack((np.power(projection2017,i) for i in range(degree+1)))\n",
    "projection2018=A2*ws\n",
    "print('2018 Projection = ', projection2018)\n",
    "plt.plot(projection2017,projection2018,'ro')\n",
    "\n",
    "\n",
    "#2019        \n",
    "A2 = np.hstack((np.power(projection2018,i) for i in range(degree+1)))\n",
    "projection2019=A2*ws\n",
    "print('2019 Projection = ', projection2019)\n",
    "plt.plot(projection2018,projection2019,'ro')\n",
    "\n",
    "\n",
    "#2020           \n",
    "A2 = np.hstack((np.power(projection2019,i) for i in range(degree+1)))\n",
    "projection2020=A2*ws\n",
    "print('2020 Projection = ', projection2020)\n",
    "plt.plot(projection2019,projection2020,'ro')\n",
    "\n",
    "e = y - f\n",
    "print('Total Error is ', e.T*e/2)"
   ]
  },
  {
   "cell_type": "markdown",
   "metadata": {
    "collapsed": true
   },
   "source": [
    "# COMPARISON"
   ]
  },
  {
   "cell_type": "markdown",
   "metadata": {},
   "source": [
    "**Which model would you prefer? Polynomial or AR?**"
   ]
  },
  {
   "cell_type": "markdown",
   "metadata": {},
   "source": [
    "In each model for each column, we have also calculated the ***\"Total Error\"***, we should choose the model which has the minimum Total Error.\n",
    "\n",
    "For example, for **\"Car\"** column, when we compare the 3rd degree Polynomial and AR Model, I would prefer AR model, since its Total Error is less than Polynomial Model.\n",
    "\n",
    "On the other hand, if we would change the degree level, we might be chosing the Polynomial Model if we achieve to get  the decreased Total Error."
   ]
  },
  {
   "cell_type": "markdown",
   "metadata": {
    "collapsed": true
   },
   "source": [
    "# BONUS"
   ]
  },
  {
   "cell_type": "markdown",
   "metadata": {},
   "source": [
    "**Use cross validation for finding the best polynomial order and describe your approach.**"
   ]
  },
  {
   "cell_type": "markdown",
   "metadata": {},
   "source": [
    "For each column, we will calculate the **\"Total Error\"** by changing the Polynomial degree, once we get the minimum total error, we will assume it as the best polynomial order."
   ]
  },
  {
   "cell_type": "markdown",
   "metadata": {},
   "source": [
    "***---------------------------------------CAR---------------------------------------***\n",
    "\n",
    "Best polynomial degree is: **2**"
   ]
  },
  {
   "cell_type": "code",
   "execution_count": 49,
   "metadata": {
    "collapsed": false
   },
   "outputs": [
    {
     "name": "stdout",
     "output_type": "stream",
     "text": [
      "Degree: 0 , Total Error: [[  2.23157084e+14]]\n",
      "Degree: 1 , Total Error: [[  2.61567689e+13]]\n",
      "Degree: 2 , Total Error: [[  1.05496018e+12]]\n",
      "Degree: 3 , Total Error: [[  6.35768969e+11]]\n",
      "Degree: 4 , Total Error: [[  6.27993231e+11]]\n",
      "Degree: 5 , Total Error: [[  4.37851219e+11]]\n",
      "Degree: 6 , Total Error: [[  3.41099055e+11]]\n",
      "Degree: 7 , Total Error: [[  2.60497581e+11]]\n",
      "Degree: 8 , Total Error: [[  2.29903137e+11]]\n",
      "Degree: 9 , Total Error: [[  1.79160178e+11]]\n",
      "Degree: 10 , Total Error: [[  1.98723497e+11]]\n",
      "Degree: 11 , Total Error: [[  1.95504162e+11]]\n",
      "Degree: 12 , Total Error: [[  2.92736671e+11]]\n",
      "Degree: 13 , Total Error: [[  2.54217257e+11]]\n",
      "Degree: 14 , Total Error: [[  2.53339267e+11]]\n",
      "Degree: 15 , Total Error: [[  2.51087907e+11]]\n",
      "Degree: 16 , Total Error: [[  2.48011008e+11]]\n",
      "Degree: 17 , Total Error: [[  2.43632647e+11]]\n",
      "Degree: 18 , Total Error: [[  2.46013822e+11]]\n",
      "Degree: 19 , Total Error: [[  2.27661477e+11]]\n",
      "Degree: 20 , Total Error: [[  2.18101301e+11]]\n",
      "Degree: 21 , Total Error: [[  4.93232891e+11]]\n",
      "Degree: 22 , Total Error: [[  1.87286324e+11]]\n",
      "Degree: 23 , Total Error: [[  1.70370308e+11]]\n",
      "Degree: 24 , Total Error: [[  1.58627527e+11]]\n",
      "Degree: 25 , Total Error: [[  1.49301008e+11]]\n",
      "Degree: 26 , Total Error: [[  1.39905643e+11]]\n",
      "Degree: 27 , Total Error: [[  1.32071578e+11]]\n",
      "Degree: 28 , Total Error: [[  1.32051090e+11]]\n",
      "Degree: 29 , Total Error: [[  1.32055217e+11]]\n",
      "Degree: 30 , Total Error: [[  1.32048715e+11]]\n",
      "Degree: 31 , Total Error: [[  1.32050181e+11]]\n",
      "Degree: 32 , Total Error: [[  1.32386594e+11]]\n",
      "Degree: 33 , Total Error: [[  1.32051037e+11]]\n",
      "Degree: 34 , Total Error: [[  1.50485101e+11]]\n",
      "Degree: 35 , Total Error: [[  1.33085572e+11]]\n",
      "Degree: 36 , Total Error: [[  1.32239234e+11]]\n",
      "Degree: 37 , Total Error: [[  1.38473425e+11]]\n",
      "Degree: 38 , Total Error: [[  1.46868889e+11]]\n",
      "Degree: 39 , Total Error: [[  1.68925661e+11]]\n",
      "Degree: 40 , Total Error: [[  1.48282061e+11]]\n",
      "Degree: 41 , Total Error: [[  1.70152674e+11]]\n",
      "Degree: 42 , Total Error: [[  1.37798811e+11]]\n",
      "Degree: 43 , Total Error: [[  1.50539550e+11]]\n",
      "Degree: 44 , Total Error: [[  1.37013179e+11]]\n",
      "Degree: 45 , Total Error: [[  1.34396251e+11]]\n",
      "Degree: 46 , Total Error: [[  1.57283671e+11]]\n",
      "Degree: 47 , Total Error: [[  1.32078469e+11]]\n",
      "Degree: 48 , Total Error: [[  1.42264273e+11]]\n",
      "Degree: 49 , Total Error: [[  4.42337793e+12]]\n"
     ]
    }
   ],
   "source": [
    "BaseYear = 1966\n",
    "x = np.matrix(df_arac.Year[0:]).T-BaseYear\n",
    "y = np.matrix(df_arac.Car[0:]).T\n",
    "\n",
    "\n",
    "for degree in range (50):\n",
    "    A = np.hstack((np.power(x,i) for i in range(degree+1)))\n",
    "    ws,E,rank,sigma = np.linalg.lstsq(A, y)\n",
    "    f = A*ws\n",
    "    e = y - f\n",
    "    Total_Error=e.T*e/2\n",
    "    print('Degree:',degree,', Total Error:',Total_Error)\n"
   ]
  },
  {
   "cell_type": "markdown",
   "metadata": {},
   "source": [
    "***---------------------------------------MINIBUS---------------------------------------***\n",
    "\n",
    "Best polynomial degree is: **21**"
   ]
  },
  {
   "cell_type": "code",
   "execution_count": 50,
   "metadata": {
    "collapsed": false
   },
   "outputs": [
    {
     "name": "stdout",
     "output_type": "stream",
     "text": [
      "Degree: 0 , Total Error: [[  4.69267687e+11]]\n",
      "Degree: 1 , Total Error: [[  3.13668333e+10]]\n",
      "Degree: 2 , Total Error: [[  4.92080710e+09]]\n",
      "Degree: 3 , Total Error: [[  4.83601934e+09]]\n",
      "Degree: 4 , Total Error: [[  3.54630641e+09]]\n",
      "Degree: 5 , Total Error: [[  2.96430866e+09]]\n",
      "Degree: 6 , Total Error: [[  2.96388564e+09]]\n",
      "Degree: 7 , Total Error: [[  2.76098661e+09]]\n",
      "Degree: 8 , Total Error: [[  2.22384938e+09]]\n",
      "Degree: 9 , Total Error: [[  1.83154876e+09]]\n",
      "Degree: 10 , Total Error: [[  2.27472449e+09]]\n",
      "Degree: 11 , Total Error: [[  2.32814734e+09]]\n",
      "Degree: 12 , Total Error: [[  4.38892493e+09]]\n",
      "Degree: 13 , Total Error: [[  4.24960301e+09]]\n",
      "Degree: 14 , Total Error: [[  4.22300102e+09]]\n",
      "Degree: 15 , Total Error: [[  4.09765913e+09]]\n",
      "Degree: 16 , Total Error: [[  4.04301595e+09]]\n",
      "Degree: 17 , Total Error: [[  3.84920923e+09]]\n",
      "Degree: 18 , Total Error: [[  3.62867450e+09]]\n",
      "Degree: 19 , Total Error: [[  3.56378318e+09]]\n",
      "Degree: 20 , Total Error: [[  3.48154311e+09]]\n",
      "Degree: 21 , Total Error: [[  1.07240054e+10]]\n",
      "Degree: 22 , Total Error: [[  2.75116212e+09]]\n",
      "Degree: 23 , Total Error: [[  2.44810804e+09]]\n",
      "Degree: 24 , Total Error: [[  2.20372906e+09]]\n",
      "Degree: 25 , Total Error: [[  1.99014797e+09]]\n",
      "Degree: 26 , Total Error: [[  1.78038372e+09]]\n",
      "Degree: 27 , Total Error: [[  1.60001011e+09]]\n",
      "Degree: 28 , Total Error: [[  1.60083836e+09]]\n",
      "Degree: 29 , Total Error: [[  1.60052007e+09]]\n",
      "Degree: 30 , Total Error: [[  1.60058797e+09]]\n",
      "Degree: 31 , Total Error: [[  1.60061587e+09]]\n",
      "Degree: 32 , Total Error: [[  1.83976613e+09]]\n",
      "Degree: 33 , Total Error: [[  1.61241330e+09]]\n",
      "Degree: 34 , Total Error: [[  1.76139428e+09]]\n",
      "Degree: 35 , Total Error: [[  1.61644521e+09]]\n",
      "Degree: 36 , Total Error: [[  1.61135298e+09]]\n",
      "Degree: 37 , Total Error: [[  1.67087720e+09]]\n",
      "Degree: 38 , Total Error: [[  1.87852950e+09]]\n",
      "Degree: 39 , Total Error: [[  1.89603962e+09]]\n",
      "Degree: 40 , Total Error: [[  1.63044941e+09]]\n",
      "Degree: 41 , Total Error: [[  1.79674074e+09]]\n",
      "Degree: 42 , Total Error: [[  1.73547786e+09]]\n",
      "Degree: 43 , Total Error: [[  1.81149719e+09]]\n",
      "Degree: 44 , Total Error: [[  2.01767435e+09]]\n",
      "Degree: 45 , Total Error: [[  1.77872916e+09]]\n",
      "Degree: 46 , Total Error: [[  1.98617169e+09]]\n",
      "Degree: 47 , Total Error: [[  1.60061457e+09]]\n",
      "Degree: 48 , Total Error: [[  1.83940709e+09]]\n",
      "Degree: 49 , Total Error: [[  1.80176972e+09]]\n"
     ]
    }
   ],
   "source": [
    "BaseYear = 1966\n",
    "x = np.matrix(df_arac.Year[0:]).T-BaseYear\n",
    "y = np.matrix(df_arac.Minibus[0:]).T\n",
    "\n",
    "\n",
    "for degree in range (50):\n",
    "    A = np.hstack((np.power(x,i) for i in range(degree+1)))\n",
    "    ws,E,rank,sigma = np.linalg.lstsq(A, y)\n",
    "    f = A*ws\n",
    "    e = y - f\n",
    "    Total_Error=e.T*e/2\n",
    "    print('Degree:',degree,', Total Error:',Total_Error)\n"
   ]
  },
  {
   "cell_type": "markdown",
   "metadata": {},
   "source": [
    "***---------------------------------------BUS---------------------------------------***\n",
    "\n",
    "Best polynomial degree is: **1**"
   ]
  },
  {
   "cell_type": "code",
   "execution_count": 51,
   "metadata": {
    "collapsed": false
   },
   "outputs": [
    {
     "name": "stdout",
     "output_type": "stream",
     "text": [
      "Degree: 0 , Total Error: [[  1.23226434e+11]]\n",
      "Degree: 1 , Total Error: [[  1.05770062e+10]]\n",
      "Degree: 2 , Total Error: [[  1.85376595e+09]]\n",
      "Degree: 3 , Total Error: [[  1.83982436e+09]]\n",
      "Degree: 4 , Total Error: [[  1.41197871e+09]]\n",
      "Degree: 5 , Total Error: [[  9.55329690e+08]]\n",
      "Degree: 6 , Total Error: [[  6.03868390e+08]]\n",
      "Degree: 7 , Total Error: [[  5.31168132e+08]]\n",
      "Degree: 8 , Total Error: [[  5.06141631e+08]]\n",
      "Degree: 9 , Total Error: [[  4.08683037e+08]]\n",
      "Degree: 10 , Total Error: [[  7.82779088e+08]]\n",
      "Degree: 11 , Total Error: [[  9.82298313e+08]]\n",
      "Degree: 12 , Total Error: [[  1.53723392e+09]]\n",
      "Degree: 13 , Total Error: [[  1.49667268e+09]]\n",
      "Degree: 14 , Total Error: [[  1.49566628e+09]]\n",
      "Degree: 15 , Total Error: [[  1.46116278e+09]]\n",
      "Degree: 16 , Total Error: [[  1.46059032e+09]]\n",
      "Degree: 17 , Total Error: [[  1.43532430e+09]]\n",
      "Degree: 18 , Total Error: [[  1.34436779e+09]]\n",
      "Degree: 19 , Total Error: [[  1.30409639e+09]]\n",
      "Degree: 20 , Total Error: [[  1.29529561e+09]]\n",
      "Degree: 21 , Total Error: [[  1.94183389e+09]]\n",
      "Degree: 22 , Total Error: [[  1.15353933e+09]]\n",
      "Degree: 23 , Total Error: [[  9.89232357e+08]]\n",
      "Degree: 24 , Total Error: [[  8.43941999e+08]]\n",
      "Degree: 25 , Total Error: [[  7.18818700e+08]]\n",
      "Degree: 26 , Total Error: [[  5.98829063e+08]]\n",
      "Degree: 27 , Total Error: [[  5.01583812e+08]]\n",
      "Degree: 28 , Total Error: [[  5.01588267e+08]]\n",
      "Degree: 29 , Total Error: [[  5.01637074e+08]]\n",
      "Degree: 30 , Total Error: [[  5.01601417e+08]]\n",
      "Degree: 31 , Total Error: [[  5.01601469e+08]]\n",
      "Degree: 32 , Total Error: [[  5.59108030e+08]]\n",
      "Degree: 33 , Total Error: [[  5.09745413e+08]]\n",
      "Degree: 34 , Total Error: [[  6.29734521e+08]]\n",
      "Degree: 35 , Total Error: [[  5.11970603e+08]]\n",
      "Degree: 36 , Total Error: [[  5.11147826e+08]]\n",
      "Degree: 37 , Total Error: [[  5.86460055e+08]]\n",
      "Degree: 38 , Total Error: [[  8.40033190e+08]]\n",
      "Degree: 39 , Total Error: [[  6.50932232e+08]]\n",
      "Degree: 40 , Total Error: [[  6.83098938e+08]]\n",
      "Degree: 41 , Total Error: [[  7.97594075e+08]]\n",
      "Degree: 42 , Total Error: [[  6.72095053e+08]]\n",
      "Degree: 43 , Total Error: [[  6.33133678e+08]]\n",
      "Degree: 44 , Total Error: [[  6.82730324e+08]]\n",
      "Degree: 45 , Total Error: [[  7.72609753e+08]]\n",
      "Degree: 46 , Total Error: [[  8.39132084e+08]]\n",
      "Degree: 47 , Total Error: [[  5.01599336e+08]]\n",
      "Degree: 48 , Total Error: [[  5.56708241e+08]]\n",
      "Degree: 49 , Total Error: [[  2.38150706e+09]]\n"
     ]
    }
   ],
   "source": [
    "BaseYear = 1966\n",
    "x = np.matrix(df_arac.Year[0:]).T-BaseYear\n",
    "y = np.matrix(df_arac.Bus[0:]).T\n",
    "\n",
    "\n",
    "for degree in range (50):\n",
    "    A = np.hstack((np.power(x,i) for i in range(degree+1)))\n",
    "    ws,E,rank,sigma = np.linalg.lstsq(A, y)\n",
    "    f = A*ws\n",
    "    e = y - f\n",
    "    Total_Error=e.T*e/2\n",
    "    print('Degree:',degree,', Total Error:',Total_Error)\n"
   ]
  },
  {
   "cell_type": "markdown",
   "metadata": {},
   "source": [
    "***---------------------------------------SMALL TRUCK---------------------------------------***\n",
    "\n",
    "Best polynomial degree is: **4**"
   ]
  },
  {
   "cell_type": "code",
   "execution_count": 52,
   "metadata": {
    "collapsed": false
   },
   "outputs": [
    {
     "name": "stdout",
     "output_type": "stream",
     "text": [
      "Degree: 0 , Total Error: [[  2.20097432e+13]]\n",
      "Degree: 1 , Total Error: [[  5.85324549e+12]]\n",
      "Degree: 2 , Total Error: [[  7.73371842e+11]]\n",
      "Degree: 3 , Total Error: [[  1.52769899e+11]]\n",
      "Degree: 4 , Total Error: [[  1.44404238e+11]]\n",
      "Degree: 5 , Total Error: [[  5.07536558e+10]]\n",
      "Degree: 6 , Total Error: [[  3.15987201e+10]]\n",
      "Degree: 7 , Total Error: [[  3.15203915e+10]]\n",
      "Degree: 8 , Total Error: [[  2.95781053e+10]]\n",
      "Degree: 9 , Total Error: [[  2.44268281e+10]]\n",
      "Degree: 10 , Total Error: [[  2.72272501e+10]]\n",
      "Degree: 11 , Total Error: [[  2.81842536e+10]]\n",
      "Degree: 12 , Total Error: [[  2.72044939e+10]]\n",
      "Degree: 13 , Total Error: [[  2.66638807e+10]]\n",
      "Degree: 14 , Total Error: [[  2.66607717e+10]]\n",
      "Degree: 15 , Total Error: [[  2.58836556e+10]]\n",
      "Degree: 16 , Total Error: [[  2.58960069e+10]]\n",
      "Degree: 17 , Total Error: [[  2.55725845e+10]]\n",
      "Degree: 18 , Total Error: [[  2.52797303e+10]]\n",
      "Degree: 19 , Total Error: [[  2.41241634e+10]]\n",
      "Degree: 20 , Total Error: [[  2.40753210e+10]]\n",
      "Degree: 21 , Total Error: [[  6.87003726e+10]]\n",
      "Degree: 22 , Total Error: [[  2.33278728e+10]]\n",
      "Degree: 23 , Total Error: [[  2.14412311e+10]]\n",
      "Degree: 24 , Total Error: [[  1.98351587e+10]]\n",
      "Degree: 25 , Total Error: [[  1.85033544e+10]]\n",
      "Degree: 26 , Total Error: [[  1.73256324e+10]]\n",
      "Degree: 27 , Total Error: [[  1.63756642e+10]]\n",
      "Degree: 28 , Total Error: [[  1.63814086e+10]]\n",
      "Degree: 29 , Total Error: [[  1.63826030e+10]]\n",
      "Degree: 30 , Total Error: [[  1.63822267e+10]]\n",
      "Degree: 31 , Total Error: [[  1.63824004e+10]]\n",
      "Degree: 32 , Total Error: [[  1.68635909e+10]]\n",
      "Degree: 33 , Total Error: [[  1.65263526e+10]]\n",
      "Degree: 34 , Total Error: [[  1.75073334e+10]]\n",
      "Degree: 35 , Total Error: [[  1.64445317e+10]]\n",
      "Degree: 36 , Total Error: [[  1.64593777e+10]]\n",
      "Degree: 37 , Total Error: [[  1.69528638e+10]]\n",
      "Degree: 38 , Total Error: [[  1.80884332e+10]]\n",
      "Degree: 39 , Total Error: [[  1.84436518e+10]]\n",
      "Degree: 40 , Total Error: [[  1.72636417e+10]]\n",
      "Degree: 41 , Total Error: [[  1.82918926e+10]]\n",
      "Degree: 42 , Total Error: [[  1.76410573e+10]]\n",
      "Degree: 43 , Total Error: [[  1.70696081e+10]]\n",
      "Degree: 44 , Total Error: [[  1.86488095e+10]]\n",
      "Degree: 45 , Total Error: [[  1.82441226e+10]]\n",
      "Degree: 46 , Total Error: [[  1.84652832e+10]]\n",
      "Degree: 47 , Total Error: [[  1.63825217e+10]]\n",
      "Degree: 48 , Total Error: [[  1.76078060e+10]]\n",
      "Degree: 49 , Total Error: [[  1.63830954e+10]]\n"
     ]
    }
   ],
   "source": [
    "BaseYear = 1966\n",
    "x = np.matrix(df_arac.Year[0:]).T-BaseYear\n",
    "y = np.matrix(df_arac.SmallTruck[0:]).T\n",
    "\n",
    "\n",
    "for degree in range (50):\n",
    "    A = np.hstack((np.power(x,i) for i in range(degree+1)))\n",
    "    ws,E,rank,sigma = np.linalg.lstsq(A, y)\n",
    "    f = A*ws\n",
    "    e = y - f\n",
    "    Total_Error=e.T*e/2\n",
    "    print('Degree:',degree,', Total Error:',Total_Error)\n"
   ]
  },
  {
   "cell_type": "markdown",
   "metadata": {},
   "source": [
    "***---------------------------------------TRUCK---------------------------------------***\n",
    "\n",
    "Best polynomial degree is: **1**"
   ]
  },
  {
   "cell_type": "code",
   "execution_count": 53,
   "metadata": {
    "collapsed": false
   },
   "outputs": [
    {
     "name": "stdout",
     "output_type": "stream",
     "text": [
      "Degree: 0 , Total Error: [[  1.47243589e+12]]\n",
      "Degree: 1 , Total Error: [[  1.43516499e+11]]\n",
      "Degree: 2 , Total Error: [[  5.58381780e+10]]\n",
      "Degree: 3 , Total Error: [[  5.53361521e+10]]\n",
      "Degree: 4 , Total Error: [[  4.57766947e+10]]\n",
      "Degree: 5 , Total Error: [[  3.26432561e+10]]\n",
      "Degree: 6 , Total Error: [[  3.22005556e+10]]\n",
      "Degree: 7 , Total Error: [[  2.91869650e+10]]\n",
      "Degree: 8 , Total Error: [[  2.32424101e+10]]\n",
      "Degree: 9 , Total Error: [[  1.98833256e+10]]\n",
      "Degree: 10 , Total Error: [[  2.59345310e+10]]\n",
      "Degree: 11 , Total Error: [[  2.62092193e+10]]\n",
      "Degree: 12 , Total Error: [[  4.58097747e+10]]\n",
      "Degree: 13 , Total Error: [[  4.47478708e+10]]\n",
      "Degree: 14 , Total Error: [[  4.39725491e+10]]\n",
      "Degree: 15 , Total Error: [[  4.36382842e+10]]\n",
      "Degree: 16 , Total Error: [[  4.33004615e+10]]\n",
      "Degree: 17 , Total Error: [[  4.19072686e+10]]\n",
      "Degree: 18 , Total Error: [[  4.03448282e+10]]\n",
      "Degree: 19 , Total Error: [[  3.95660696e+10]]\n",
      "Degree: 20 , Total Error: [[  3.90976902e+10]]\n",
      "Degree: 21 , Total Error: [[  4.95637387e+10]]\n",
      "Degree: 22 , Total Error: [[  3.23593219e+10]]\n",
      "Degree: 23 , Total Error: [[  2.94488207e+10]]\n",
      "Degree: 24 , Total Error: [[  2.68083929e+10]]\n",
      "Degree: 25 , Total Error: [[  2.43634637e+10]]\n",
      "Degree: 26 , Total Error: [[  2.19632409e+10]]\n",
      "Degree: 27 , Total Error: [[  2.00007139e+10]]\n",
      "Degree: 28 , Total Error: [[  2.00038250e+10]]\n",
      "Degree: 29 , Total Error: [[  2.00059081e+10]]\n",
      "Degree: 30 , Total Error: [[  2.00037449e+10]]\n",
      "Degree: 31 , Total Error: [[  2.00041370e+10]]\n",
      "Degree: 32 , Total Error: [[  2.08077208e+10]]\n",
      "Degree: 33 , Total Error: [[  2.50898786e+10]]\n",
      "Degree: 34 , Total Error: [[  2.00039571e+10]]\n",
      "Degree: 35 , Total Error: [[  2.00309928e+10]]\n",
      "Degree: 36 , Total Error: [[  2.00473304e+10]]\n",
      "Degree: 37 , Total Error: [[  2.11723345e+10]]\n",
      "Degree: 38 , Total Error: [[  2.15597598e+10]]\n",
      "Degree: 39 , Total Error: [[  2.48690917e+10]]\n",
      "Degree: 40 , Total Error: [[  2.30278381e+10]]\n",
      "Degree: 41 , Total Error: [[  2.74966346e+10]]\n",
      "Degree: 42 , Total Error: [[  2.00041488e+10]]\n",
      "Degree: 43 , Total Error: [[  2.57305164e+10]]\n",
      "Degree: 44 , Total Error: [[  2.05036265e+10]]\n",
      "Degree: 45 , Total Error: [[  2.17910787e+10]]\n",
      "Degree: 46 , Total Error: [[  2.00042162e+10]]\n",
      "Degree: 47 , Total Error: [[  2.28212713e+10]]\n",
      "Degree: 48 , Total Error: [[  2.42213129e+10]]\n",
      "Degree: 49 , Total Error: [[  1.95723466e+11]]\n"
     ]
    }
   ],
   "source": [
    "BaseYear = 1966\n",
    "x = np.matrix(df_arac.Year[0:]).T-BaseYear\n",
    "y = np.matrix(df_arac.Truck[0:]).T\n",
    "\n",
    "\n",
    "for degree in range (50):\n",
    "    A = np.hstack((np.power(x,i) for i in range(degree+1)))\n",
    "    ws,E,rank,sigma = np.linalg.lstsq(A, y)\n",
    "    f = A*ws\n",
    "    e = y - f\n",
    "    Total_Error=e.T*e/2\n",
    "    print('Degree:',degree,', Total Error:',Total_Error)\n"
   ]
  },
  {
   "cell_type": "markdown",
   "metadata": {},
   "source": [
    "***---------------------------------------MOTORCYCLE---------------------------------------***\n",
    "\n",
    "Best polynomial degree is: **8**"
   ]
  },
  {
   "cell_type": "code",
   "execution_count": 54,
   "metadata": {
    "collapsed": false
   },
   "outputs": [
    {
     "name": "stdout",
     "output_type": "stream",
     "text": [
      "Degree: 0 , Total Error: [[  1.94995761e+13]]\n",
      "Degree: 1 , Total Error: [[  3.10817978e+12]]\n",
      "Degree: 2 , Total Error: [[  3.99318249e+11]]\n",
      "Degree: 3 , Total Error: [[  2.74117881e+11]]\n",
      "Degree: 4 , Total Error: [[  2.71378945e+11]]\n",
      "Degree: 5 , Total Error: [[  2.47262840e+11]]\n",
      "Degree: 6 , Total Error: [[  1.40420886e+11]]\n",
      "Degree: 7 , Total Error: [[  1.18187126e+11]]\n",
      "Degree: 8 , Total Error: [[  1.00526520e+11]]\n",
      "Degree: 9 , Total Error: [[  5.77837466e+10]]\n",
      "Degree: 10 , Total Error: [[  5.45598451e+10]]\n",
      "Degree: 11 , Total Error: [[  5.47390646e+10]]\n",
      "Degree: 12 , Total Error: [[  4.20235207e+10]]\n",
      "Degree: 13 , Total Error: [[  4.17115997e+10]]\n",
      "Degree: 14 , Total Error: [[  4.17115205e+10]]\n",
      "Degree: 15 , Total Error: [[  4.17094832e+10]]\n",
      "Degree: 16 , Total Error: [[  4.17044266e+10]]\n",
      "Degree: 17 , Total Error: [[  4.15912509e+10]]\n",
      "Degree: 18 , Total Error: [[  4.07812275e+10]]\n",
      "Degree: 19 , Total Error: [[  3.99004335e+10]]\n",
      "Degree: 20 , Total Error: [[  3.99367737e+10]]\n",
      "Degree: 21 , Total Error: [[  2.27042912e+11]]\n",
      "Degree: 22 , Total Error: [[  3.74533040e+10]]\n",
      "Degree: 23 , Total Error: [[  3.47285780e+10]]\n",
      "Degree: 24 , Total Error: [[  3.23889006e+10]]\n",
      "Degree: 25 , Total Error: [[  3.05613509e+10]]\n",
      "Degree: 26 , Total Error: [[  2.91651155e+10]]\n",
      "Degree: 27 , Total Error: [[  2.80532697e+10]]\n",
      "Degree: 28 , Total Error: [[  2.80586230e+10]]\n",
      "Degree: 29 , Total Error: [[  2.80590226e+10]]\n",
      "Degree: 30 , Total Error: [[  2.80582197e+10]]\n",
      "Degree: 31 , Total Error: [[  2.80580322e+10]]\n",
      "Degree: 32 , Total Error: [[  2.92618475e+10]]\n",
      "Degree: 33 , Total Error: [[  2.80858761e+10]]\n",
      "Degree: 34 , Total Error: [[  3.53215503e+10]]\n",
      "Degree: 35 , Total Error: [[  2.83184319e+10]]\n",
      "Degree: 36 , Total Error: [[  2.80612238e+10]]\n",
      "Degree: 37 , Total Error: [[  2.86371864e+10]]\n",
      "Degree: 38 , Total Error: [[  2.92983121e+10]]\n",
      "Degree: 39 , Total Error: [[  2.89504979e+10]]\n",
      "Degree: 40 , Total Error: [[  2.86205915e+10]]\n",
      "Degree: 41 , Total Error: [[  2.81296240e+10]]\n",
      "Degree: 42 , Total Error: [[  2.94481666e+10]]\n",
      "Degree: 43 , Total Error: [[  2.89373960e+10]]\n",
      "Degree: 44 , Total Error: [[  2.84057491e+10]]\n",
      "Degree: 45 , Total Error: [[  3.23609445e+10]]\n",
      "Degree: 46 , Total Error: [[  2.94047084e+10]]\n",
      "Degree: 47 , Total Error: [[  3.02584713e+10]]\n",
      "Degree: 48 , Total Error: [[  2.80586375e+10]]\n",
      "Degree: 49 , Total Error: [[  2.82143576e+10]]\n"
     ]
    }
   ],
   "source": [
    "BaseYear = 1966\n",
    "x = np.matrix(df_arac.Year[0:]).T-BaseYear\n",
    "y = np.matrix(df_arac.Motorcycle[0:]).T\n",
    "\n",
    "\n",
    "for degree in range (50):\n",
    "    A = np.hstack((np.power(x,i) for i in range(degree+1)))\n",
    "    ws,E,rank,sigma = np.linalg.lstsq(A, y)\n",
    "    f = A*ws\n",
    "    e = y - f\n",
    "    Total_Error=e.T*e/2\n",
    "    print('Degree:',degree,', Total Error:',Total_Error)\n"
   ]
  },
  {
   "cell_type": "markdown",
   "metadata": {},
   "source": [
    "***---------------------------------------SPECIALVEHICLES---------------------------------------***\n",
    "\n",
    "Best polynomial degree is: **4**"
   ]
  },
  {
   "cell_type": "code",
   "execution_count": 55,
   "metadata": {
    "collapsed": false
   },
   "outputs": [
    {
     "name": "stdout",
     "output_type": "stream",
     "text": [
      "Degree: 0 , Total Error: [[  6.85867907e+09]]\n",
      "Degree: 1 , Total Error: [[  2.02916969e+09]]\n",
      "Degree: 2 , Total Error: [[  1.66711353e+09]]\n",
      "Degree: 3 , Total Error: [[  1.11784777e+09]]\n",
      "Degree: 4 , Total Error: [[  1.08691981e+09]]\n",
      "Degree: 5 , Total Error: [[  6.81468156e+08]]\n",
      "Degree: 6 , Total Error: [[  5.35162663e+08]]\n",
      "Degree: 7 , Total Error: [[  5.24546767e+08]]\n",
      "Degree: 8 , Total Error: [[  4.49677099e+08]]\n",
      "Degree: 9 , Total Error: [[  4.34539993e+08]]\n",
      "Degree: 10 , Total Error: [[  4.80372179e+08]]\n",
      "Degree: 11 , Total Error: [[  4.93493117e+08]]\n",
      "Degree: 12 , Total Error: [[  4.97146926e+08]]\n",
      "Degree: 13 , Total Error: [[  4.94241577e+08]]\n",
      "Degree: 14 , Total Error: [[  4.92579839e+08]]\n",
      "Degree: 15 , Total Error: [[  4.78940039e+08]]\n",
      "Degree: 16 , Total Error: [[  4.75434644e+08]]\n",
      "Degree: 17 , Total Error: [[  4.74740928e+08]]\n",
      "Degree: 18 , Total Error: [[  4.64238489e+08]]\n",
      "Degree: 19 , Total Error: [[  4.48303229e+08]]\n",
      "Degree: 20 , Total Error: [[  4.54448263e+08]]\n",
      "Degree: 21 , Total Error: [[  8.30059752e+08]]\n",
      "Degree: 22 , Total Error: [[  5.05048187e+08]]\n",
      "Degree: 23 , Total Error: [[  4.88905963e+08]]\n",
      "Degree: 24 , Total Error: [[  4.74626781e+08]]\n",
      "Degree: 25 , Total Error: [[  4.61997310e+08]]\n",
      "Degree: 26 , Total Error: [[  4.51612060e+08]]\n",
      "Degree: 27 , Total Error: [[  4.43524218e+08]]\n",
      "Degree: 28 , Total Error: [[  4.43460978e+08]]\n",
      "Degree: 29 , Total Error: [[  4.43479638e+08]]\n",
      "Degree: 30 , Total Error: [[  4.43481207e+08]]\n",
      "Degree: 31 , Total Error: [[  4.43483381e+08]]\n",
      "Degree: 32 , Total Error: [[  4.49814406e+08]]\n",
      "Degree: 33 , Total Error: [[  5.32913606e+08]]\n",
      "Degree: 34 , Total Error: [[  4.43484225e+08]]\n",
      "Degree: 35 , Total Error: [[  4.70415718e+08]]\n",
      "Degree: 36 , Total Error: [[  4.43543047e+08]]\n",
      "Degree: 37 , Total Error: [[  5.31033166e+08]]\n",
      "Degree: 38 , Total Error: [[  4.43825513e+08]]\n",
      "Degree: 39 , Total Error: [[  4.58602746e+08]]\n",
      "Degree: 40 , Total Error: [[  4.50240672e+08]]\n",
      "Degree: 41 , Total Error: [[  4.43484309e+08]]\n",
      "Degree: 42 , Total Error: [[  4.92301671e+08]]\n",
      "Degree: 43 , Total Error: [[  4.47944764e+08]]\n",
      "Degree: 44 , Total Error: [[  4.43509846e+08]]\n",
      "Degree: 45 , Total Error: [[  4.44814445e+08]]\n",
      "Degree: 46 , Total Error: [[  4.43486394e+08]]\n",
      "Degree: 47 , Total Error: [[  4.47156104e+08]]\n",
      "Degree: 48 , Total Error: [[  4.43483431e+08]]\n",
      "Degree: 49 , Total Error: [[  4.43725100e+08]]\n"
     ]
    }
   ],
   "source": [
    "BaseYear = 1966\n",
    "x = np.matrix(df_arac.Year[0:]).T-BaseYear\n",
    "y = np.matrix(df_arac.SpecialVehicles[0:]).T\n",
    "\n",
    "\n",
    "for degree in range (50):\n",
    "    A = np.hstack((np.power(x,i) for i in range(degree+1)))\n",
    "    ws,E,rank,sigma = np.linalg.lstsq(A, y)\n",
    "    f = A*ws\n",
    "    e = y - f\n",
    "    Total_Error=e.T*e/2\n",
    "    print('Degree:',degree,', Total Error:',Total_Error)\n"
   ]
  },
  {
   "cell_type": "markdown",
   "metadata": {},
   "source": [
    "***---------------------------------------MACHINERY---------------------------------------***\n",
    "\n",
    "Best polynomial degree is: **21**"
   ]
  },
  {
   "cell_type": "code",
   "execution_count": 56,
   "metadata": {
    "collapsed": false
   },
   "outputs": [
    {
     "name": "stdout",
     "output_type": "stream",
     "text": [
      "Degree: 0 , Total Error: [[  3.21723131e+10]]\n",
      "Degree: 1 , Total Error: [[  1.98776743e+09]]\n",
      "Degree: 2 , Total Error: [[  1.32790139e+08]]\n",
      "Degree: 3 , Total Error: [[  1.32789639e+08]]\n",
      "Degree: 4 , Total Error: [[  1.32747667e+08]]\n",
      "Degree: 5 , Total Error: [[  1.26528502e+08]]\n",
      "Degree: 6 , Total Error: [[ 77407971.04947418]]\n",
      "Degree: 7 , Total Error: [[ 48731560.52346072]]\n",
      "Degree: 8 , Total Error: [[ 47784846.87506359]]\n",
      "Degree: 9 , Total Error: [[ 39064099.20140827]]\n",
      "Degree: 10 , Total Error: [[ 29916944.94340088]]\n",
      "Degree: 11 , Total Error: [[ 59561481.77295225]]\n",
      "Degree: 12 , Total Error: [[ 71281185.46255758]]\n",
      "Degree: 13 , Total Error: [[ 63651383.00416564]]\n",
      "Degree: 14 , Total Error: [[  1.36949279e+08]]\n",
      "Degree: 15 , Total Error: [[  1.31731662e+08]]\n",
      "Degree: 16 , Total Error: [[  1.23166256e+08]]\n",
      "Degree: 17 , Total Error: [[  1.22230614e+08]]\n",
      "Degree: 18 , Total Error: [[  1.14308716e+08]]\n",
      "Degree: 19 , Total Error: [[  1.10066854e+08]]\n",
      "Degree: 20 , Total Error: [[  1.09656736e+08]]\n",
      "Degree: 21 , Total Error: [[  1.07555777e+08]]\n",
      "Degree: 22 , Total Error: [[ 95058141.47404437]]\n",
      "Degree: 23 , Total Error: [[ 77643337.19354942]]\n",
      "Degree: 24 , Total Error: [[ 58117571.78296614]]\n",
      "Degree: 25 , Total Error: [[ 39535835.93009568]]\n",
      "Degree: 26 , Total Error: [[ 25481532.62893549]]\n",
      "Degree: 27 , Total Error: [[ 19954512.09752351]]\n",
      "Degree: 28 , Total Error: [[ 19962354.97457039]]\n",
      "Degree: 29 , Total Error: [[ 20019665.17547919]]\n",
      "Degree: 30 , Total Error: [[ 19955270.42262651]]\n",
      "Degree: 31 , Total Error: [[ 19956724.97235172]]\n",
      "Degree: 32 , Total Error: [[ 29827224.55254535]]\n",
      "Degree: 33 , Total Error: [[ 24622711.17135028]]\n",
      "Degree: 34 , Total Error: [[ 22411370.93482169]]\n",
      "Degree: 35 , Total Error: [[ 20090734.52191757]]\n",
      "Degree: 36 , Total Error: [[ 20054076.52485876]]\n",
      "Degree: 37 , Total Error: [[ 20013423.25196283]]\n",
      "Degree: 38 , Total Error: [[ 22410307.16933946]]\n",
      "Degree: 39 , Total Error: [[ 20025318.67272183]]\n",
      "Degree: 40 , Total Error: [[ 23807313.87069653]]\n",
      "Degree: 41 , Total Error: [[ 25454572.34399183]]\n",
      "Degree: 42 , Total Error: [[ 23949569.65765297]]\n",
      "Degree: 43 , Total Error: [[ 23406813.93714983]]\n",
      "Degree: 44 , Total Error: [[ 31263964.29294006]]\n",
      "Degree: 45 , Total Error: [[ 22346720.6673978]]\n",
      "Degree: 46 , Total Error: [[ 21218616.72947263]]\n",
      "Degree: 47 , Total Error: [[ 24395486.80577477]]\n",
      "Degree: 48 , Total Error: [[ 22748652.56566147]]\n",
      "Degree: 49 , Total Error: [[ 21970434.92436206]]\n"
     ]
    }
   ],
   "source": [
    "BaseYear = 1966\n",
    "x = np.matrix(df_arac.Year[0:37]).T-BaseYear\n",
    "y = np.matrix(df_arac.Machinery[0:37]).T\n",
    "\n",
    "\n",
    "for degree in range (50):\n",
    "    A = np.hstack((np.power(x,i) for i in range(degree+1)))\n",
    "    ws,E,rank,sigma = np.linalg.lstsq(A, y)\n",
    "    f = A*ws\n",
    "    e = y - f\n",
    "    Total_Error=e.T*e/2\n",
    "    print('Degree:',degree,', Total Error:',Total_Error)\n"
   ]
  },
  {
   "cell_type": "markdown",
   "metadata": {},
   "source": [
    "***---------------------------------------TRACTOR---------------------------------------***\n",
    "\n",
    "Best polynomial degree is: **27**"
   ]
  },
  {
   "cell_type": "code",
   "execution_count": 57,
   "metadata": {
    "collapsed": false
   },
   "outputs": [
    {
     "name": "stdout",
     "output_type": "stream",
     "text": [
      "Degree: 0 , Total Error: [[  2.84381143e+12]]\n",
      "Degree: 1 , Total Error: [[  2.71688509e+10]]\n",
      "Degree: 2 , Total Error: [[  2.08696229e+10]]\n",
      "Degree: 3 , Total Error: [[  1.80390659e+10]]\n",
      "Degree: 4 , Total Error: [[  5.52224747e+09]]\n",
      "Degree: 5 , Total Error: [[  5.52223935e+09]]\n",
      "Degree: 6 , Total Error: [[  5.48265276e+09]]\n",
      "Degree: 7 , Total Error: [[  5.06450067e+09]]\n",
      "Degree: 8 , Total Error: [[  5.04004232e+09]]\n",
      "Degree: 9 , Total Error: [[  3.43251058e+09]]\n",
      "Degree: 10 , Total Error: [[  3.77339603e+09]]\n",
      "Degree: 11 , Total Error: [[  2.77284159e+11]]\n",
      "Degree: 12 , Total Error: [[  4.16334696e+11]]\n",
      "Degree: 13 , Total Error: [[  4.13063924e+11]]\n",
      "Degree: 14 , Total Error: [[  7.83208994e+11]]\n",
      "Degree: 15 , Total Error: [[  7.80994289e+11]]\n",
      "Degree: 16 , Total Error: [[  7.48177124e+11]]\n",
      "Degree: 17 , Total Error: [[  7.44715097e+11]]\n",
      "Degree: 18 , Total Error: [[  7.16511190e+11]]\n",
      "Degree: 19 , Total Error: [[  6.47085286e+11]]\n",
      "Degree: 20 , Total Error: [[  6.39524275e+11]]\n",
      "Degree: 21 , Total Error: [[  6.32730744e+11]]\n",
      "Degree: 22 , Total Error: [[  5.58221754e+11]]\n",
      "Degree: 23 , Total Error: [[  4.59251022e+11]]\n",
      "Degree: 24 , Total Error: [[  3.56807672e+11]]\n",
      "Degree: 25 , Total Error: [[  2.66370536e+11]]\n",
      "Degree: 26 , Total Error: [[  1.86998187e+11]]\n",
      "Degree: 27 , Total Error: [[  1.13991221e+11]]\n",
      "Degree: 28 , Total Error: [[  1.13984644e+11]]\n",
      "Degree: 29 , Total Error: [[  1.13996933e+11]]\n",
      "Degree: 30 , Total Error: [[  1.14034072e+11]]\n",
      "Degree: 31 , Total Error: [[  1.14060054e+11]]\n",
      "Degree: 32 , Total Error: [[  2.81150406e+11]]\n",
      "Degree: 33 , Total Error: [[  2.01444273e+11]]\n",
      "Degree: 34 , Total Error: [[  1.89457988e+11]]\n",
      "Degree: 35 , Total Error: [[  2.26918612e+11]]\n",
      "Degree: 36 , Total Error: [[  2.06330873e+11]]\n",
      "Degree: 37 , Total Error: [[  1.13995348e+11]]\n",
      "Degree: 38 , Total Error: [[  2.21033178e+11]]\n",
      "Degree: 39 , Total Error: [[  2.24475729e+11]]\n",
      "Degree: 40 , Total Error: [[  2.37464992e+11]]\n",
      "Degree: 41 , Total Error: [[  2.33000418e+11]]\n",
      "Degree: 42 , Total Error: [[  1.51934164e+11]]\n",
      "Degree: 43 , Total Error: [[  1.53662616e+11]]\n",
      "Degree: 44 , Total Error: [[  1.13992509e+11]]\n",
      "Degree: 45 , Total Error: [[  1.61498803e+11]]\n",
      "Degree: 46 , Total Error: [[  1.50449053e+11]]\n",
      "Degree: 47 , Total Error: [[  1.75108613e+11]]\n",
      "Degree: 48 , Total Error: [[  1.13991772e+11]]\n",
      "Degree: 49 , Total Error: [[  1.61876830e+11]]\n"
     ]
    }
   ],
   "source": [
    "BaseYear = 1979\n",
    "x = np.matrix(df_arac.Year[13:]).T-BaseYear\n",
    "y = np.matrix(df_arac.Tractor[13:]).T\n",
    "\n",
    "\n",
    "for degree in range (50):\n",
    "    A = np.hstack((np.power(x,i) for i in range(degree+1)))\n",
    "    ws,E,rank,sigma = np.linalg.lstsq(A, y)\n",
    "    f = A*ws\n",
    "    e = y - f\n",
    "    Total_Error=e.T*e/2\n",
    "    print('Degree:',degree,', Total Error:',Total_Error)\n"
   ]
  },
  {
   "cell_type": "code",
   "execution_count": null,
   "metadata": {
    "collapsed": true
   },
   "outputs": [],
   "source": []
  }
 ],
 "metadata": {
  "kernelspec": {
   "display_name": "Python 3",
   "language": "python",
   "name": "python3"
  },
  "language_info": {
   "codemirror_mode": {
    "name": "ipython",
    "version": 3
   },
   "file_extension": ".py",
   "mimetype": "text/x-python",
   "name": "python",
   "nbconvert_exporter": "python",
   "pygments_lexer": "ipython3",
   "version": "3.5.1"
  }
 },
 "nbformat": 4,
 "nbformat_minor": 0
}
