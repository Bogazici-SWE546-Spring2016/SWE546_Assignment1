{
 "cells": [
  {
   "cell_type": "markdown",
   "metadata": {},
   "source": [
    "## Assignment:\n",
    "\n",
    "Deadline : 09.03.2016 Wed  18:59\n",
    "\n",
    "* Fit a polynomial of degree $K$ to all columns of the following dataset\n",
    "to predict number of vehicles in the years of $2016$,$2017$,$2018$,$2019$ and $2020$.\n",
    "\n",
    "$$\n",
    "y_i = \\sum_{k=0}^K w_k x_{i}^k + \\epsilon_i\n",
    "$$\n",
    "\n",
    "\n",
    "* Fit an AR model to each data sequence \n",
    "$$\n",
    "y_i = w_1 y_{i-1} + \\epsilon_i\n",
    "$$\n",
    "\n",
    "Which model would you prefer? Polynomial or AR?\n",
    "\n",
    "For each model, plot the data and your model fit $f = A w^*$\n",
    "\n",
    "### Bonus: \n",
    "Use cross validation for finding the best polynomial order and describe you approach.\n",
    "\n"
   ]
  },
  {
   "cell_type": "markdown",
   "metadata": {},
   "source": [
    "    Your Name : Emre Bolat"
   ]
  },
  {
   "cell_type": "code",
   "execution_count": 1,
   "metadata": {
    "collapsed": false,
    "scrolled": true
   },
   "outputs": [
    {
     "data": {
      "text/html": [
       "<div>\n",
       "<table border=\"1\" class=\"dataframe\">\n",
       "  <thead>\n",
       "    <tr style=\"text-align: right;\">\n",
       "      <th></th>\n",
       "      <th>Year</th>\n",
       "      <th>All</th>\n",
       "      <th>Car</th>\n",
       "      <th>Minibus</th>\n",
       "      <th>Bus</th>\n",
       "      <th>SmallTruck</th>\n",
       "      <th>Truck</th>\n",
       "      <th>Motorcycle</th>\n",
       "      <th>SpecialVehicles</th>\n",
       "      <th>Machinery</th>\n",
       "      <th>Tractor</th>\n",
       "    </tr>\n",
       "  </thead>\n",
       "  <tbody>\n",
       "    <tr>\n",
       "      <th>0</th>\n",
       "      <td>1966</td>\n",
       "      <td>231977</td>\n",
       "      <td>91469</td>\n",
       "      <td>10913</td>\n",
       "      <td>12041</td>\n",
       "      <td>31462</td>\n",
       "      <td>47931</td>\n",
       "      <td>32099</td>\n",
       "      <td>3610</td>\n",
       "      <td>2452</td>\n",
       "      <td>NaN</td>\n",
       "    </tr>\n",
       "    <tr>\n",
       "      <th>1</th>\n",
       "      <td>1967</td>\n",
       "      <td>284194</td>\n",
       "      <td>112367</td>\n",
       "      <td>16008</td>\n",
       "      <td>13332</td>\n",
       "      <td>39927</td>\n",
       "      <td>56889</td>\n",
       "      <td>39647</td>\n",
       "      <td>3641</td>\n",
       "      <td>2383</td>\n",
       "      <td>NaN</td>\n",
       "    </tr>\n",
       "    <tr>\n",
       "      <th>2</th>\n",
       "      <td>1968</td>\n",
       "      <td>318768</td>\n",
       "      <td>125375</td>\n",
       "      <td>18967</td>\n",
       "      <td>13948</td>\n",
       "      <td>43441</td>\n",
       "      <td>62616</td>\n",
       "      <td>47062</td>\n",
       "      <td>4033</td>\n",
       "      <td>3326</td>\n",
       "      <td>NaN</td>\n",
       "    </tr>\n",
       "    <tr>\n",
       "      <th>3</th>\n",
       "      <td>1969</td>\n",
       "      <td>354398</td>\n",
       "      <td>137345</td>\n",
       "      <td>20540</td>\n",
       "      <td>15529</td>\n",
       "      <td>48655</td>\n",
       "      <td>69478</td>\n",
       "      <td>52959</td>\n",
       "      <td>4568</td>\n",
       "      <td>5324</td>\n",
       "      <td>NaN</td>\n",
       "    </tr>\n",
       "    <tr>\n",
       "      <th>4</th>\n",
       "      <td>1970</td>\n",
       "      <td>369808</td>\n",
       "      <td>137771</td>\n",
       "      <td>20916</td>\n",
       "      <td>15980</td>\n",
       "      <td>52152</td>\n",
       "      <td>70730</td>\n",
       "      <td>60994</td>\n",
       "      <td>5070</td>\n",
       "      <td>6195</td>\n",
       "      <td>NaN</td>\n",
       "    </tr>\n",
       "    <tr>\n",
       "      <th>5</th>\n",
       "      <td>1971</td>\n",
       "      <td>403880</td>\n",
       "      <td>153676</td>\n",
       "      <td>22380</td>\n",
       "      <td>17140</td>\n",
       "      <td>57011</td>\n",
       "      <td>73433</td>\n",
       "      <td>68417</td>\n",
       "      <td>5349</td>\n",
       "      <td>6474</td>\n",
       "      <td>NaN</td>\n",
       "    </tr>\n",
       "    <tr>\n",
       "      <th>6</th>\n",
       "      <td>1972</td>\n",
       "      <td>460087</td>\n",
       "      <td>187272</td>\n",
       "      <td>25559</td>\n",
       "      <td>18504</td>\n",
       "      <td>62796</td>\n",
       "      <td>78920</td>\n",
       "      <td>74402</td>\n",
       "      <td>5747</td>\n",
       "      <td>6887</td>\n",
       "      <td>NaN</td>\n",
       "    </tr>\n",
       "    <tr>\n",
       "      <th>7</th>\n",
       "      <td>1973</td>\n",
       "      <td>543318</td>\n",
       "      <td>240360</td>\n",
       "      <td>30055</td>\n",
       "      <td>20011</td>\n",
       "      <td>71043</td>\n",
       "      <td>86780</td>\n",
       "      <td>80860</td>\n",
       "      <td>6420</td>\n",
       "      <td>7789</td>\n",
       "      <td>NaN</td>\n",
       "    </tr>\n",
       "    <tr>\n",
       "      <th>8</th>\n",
       "      <td>1974</td>\n",
       "      <td>647947</td>\n",
       "      <td>313160</td>\n",
       "      <td>34122</td>\n",
       "      <td>21404</td>\n",
       "      <td>81025</td>\n",
       "      <td>95309</td>\n",
       "      <td>86028</td>\n",
       "      <td>7338</td>\n",
       "      <td>9561</td>\n",
       "      <td>NaN</td>\n",
       "    </tr>\n",
       "    <tr>\n",
       "      <th>9</th>\n",
       "      <td>1975</td>\n",
       "      <td>785920</td>\n",
       "      <td>403546</td>\n",
       "      <td>40623</td>\n",
       "      <td>23763</td>\n",
       "      <td>98579</td>\n",
       "      <td>108381</td>\n",
       "      <td>91421</td>\n",
       "      <td>8450</td>\n",
       "      <td>11157</td>\n",
       "      <td>NaN</td>\n",
       "    </tr>\n",
       "    <tr>\n",
       "      <th>10</th>\n",
       "      <td>1976</td>\n",
       "      <td>920141</td>\n",
       "      <td>488894</td>\n",
       "      <td>46066</td>\n",
       "      <td>25388</td>\n",
       "      <td>116861</td>\n",
       "      <td>122176</td>\n",
       "      <td>96984</td>\n",
       "      <td>9224</td>\n",
       "      <td>14548</td>\n",
       "      <td>NaN</td>\n",
       "    </tr>\n",
       "    <tr>\n",
       "      <th>11</th>\n",
       "      <td>1977</td>\n",
       "      <td>1042239</td>\n",
       "      <td>560424</td>\n",
       "      <td>51999</td>\n",
       "      <td>27096</td>\n",
       "      <td>134213</td>\n",
       "      <td>138093</td>\n",
       "      <td>102127</td>\n",
       "      <td>10137</td>\n",
       "      <td>18150</td>\n",
       "      <td>NaN</td>\n",
       "    </tr>\n",
       "    <tr>\n",
       "      <th>12</th>\n",
       "      <td>1978</td>\n",
       "      <td>1142561</td>\n",
       "      <td>624438</td>\n",
       "      <td>56836</td>\n",
       "      <td>28559</td>\n",
       "      <td>144695</td>\n",
       "      <td>146551</td>\n",
       "      <td>109890</td>\n",
       "      <td>10698</td>\n",
       "      <td>20894</td>\n",
       "      <td>NaN</td>\n",
       "    </tr>\n",
       "    <tr>\n",
       "      <th>13</th>\n",
       "      <td>1979</td>\n",
       "      <td>1566405</td>\n",
       "      <td>688687</td>\n",
       "      <td>61596</td>\n",
       "      <td>30634</td>\n",
       "      <td>155278</td>\n",
       "      <td>157095</td>\n",
       "      <td>120378</td>\n",
       "      <td>11291</td>\n",
       "      <td>22875</td>\n",
       "      <td>318571</td>\n",
       "    </tr>\n",
       "    <tr>\n",
       "      <th>14</th>\n",
       "      <td>1980</td>\n",
       "      <td>1696681</td>\n",
       "      <td>742252</td>\n",
       "      <td>64707</td>\n",
       "      <td>32783</td>\n",
       "      <td>165821</td>\n",
       "      <td>164893</td>\n",
       "      <td>137931</td>\n",
       "      <td>11777</td>\n",
       "      <td>24090</td>\n",
       "      <td>352427</td>\n",
       "    </tr>\n",
       "    <tr>\n",
       "      <th>15</th>\n",
       "      <td>1981</td>\n",
       "      <td>1802742</td>\n",
       "      <td>776432</td>\n",
       "      <td>66514</td>\n",
       "      <td>33839</td>\n",
       "      <td>172269</td>\n",
       "      <td>172372</td>\n",
       "      <td>160557</td>\n",
       "      <td>12459</td>\n",
       "      <td>26246</td>\n",
       "      <td>382054</td>\n",
       "    </tr>\n",
       "    <tr>\n",
       "      <th>16</th>\n",
       "      <td>1982</td>\n",
       "      <td>1901926</td>\n",
       "      <td>811465</td>\n",
       "      <td>69598</td>\n",
       "      <td>35432</td>\n",
       "      <td>178762</td>\n",
       "      <td>180772</td>\n",
       "      <td>182795</td>\n",
       "      <td>13386</td>\n",
       "      <td>30160</td>\n",
       "      <td>399556</td>\n",
       "    </tr>\n",
       "    <tr>\n",
       "      <th>17</th>\n",
       "      <td>1983</td>\n",
       "      <td>2041244</td>\n",
       "      <td>856350</td>\n",
       "      <td>73585</td>\n",
       "      <td>38478</td>\n",
       "      <td>186427</td>\n",
       "      <td>190277</td>\n",
       "      <td>217327</td>\n",
       "      <td>14705</td>\n",
       "      <td>33532</td>\n",
       "      <td>430563</td>\n",
       "    </tr>\n",
       "    <tr>\n",
       "      <th>18</th>\n",
       "      <td>1984</td>\n",
       "      <td>2215174</td>\n",
       "      <td>919577</td>\n",
       "      <td>80697</td>\n",
       "      <td>43638</td>\n",
       "      <td>198106</td>\n",
       "      <td>197721</td>\n",
       "      <td>256338</td>\n",
       "      <td>16312</td>\n",
       "      <td>39445</td>\n",
       "      <td>463340</td>\n",
       "    </tr>\n",
       "    <tr>\n",
       "      <th>19</th>\n",
       "      <td>1985</td>\n",
       "      <td>2391357</td>\n",
       "      <td>983444</td>\n",
       "      <td>87951</td>\n",
       "      <td>47119</td>\n",
       "      <td>212505</td>\n",
       "      <td>205496</td>\n",
       "      <td>289052</td>\n",
       "      <td>17639</td>\n",
       "      <td>45561</td>\n",
       "      <td>502590</td>\n",
       "    </tr>\n",
       "    <tr>\n",
       "      <th>20</th>\n",
       "      <td>1986</td>\n",
       "      <td>2641353</td>\n",
       "      <td>1087234</td>\n",
       "      <td>97917</td>\n",
       "      <td>50798</td>\n",
       "      <td>224755</td>\n",
       "      <td>217111</td>\n",
       "      <td>327326</td>\n",
       "      <td>19448</td>\n",
       "      <td>50819</td>\n",
       "      <td>565945</td>\n",
       "    </tr>\n",
       "    <tr>\n",
       "      <th>21</th>\n",
       "      <td>1987</td>\n",
       "      <td>2887287</td>\n",
       "      <td>1193021</td>\n",
       "      <td>106314</td>\n",
       "      <td>53554</td>\n",
       "      <td>233480</td>\n",
       "      <td>225872</td>\n",
       "      <td>369894</td>\n",
       "      <td>21236</td>\n",
       "      <td>55129</td>\n",
       "      <td>628787</td>\n",
       "    </tr>\n",
       "    <tr>\n",
       "      <th>22</th>\n",
       "      <td>1988</td>\n",
       "      <td>3140265</td>\n",
       "      <td>1310257</td>\n",
       "      <td>112885</td>\n",
       "      <td>56172</td>\n",
       "      <td>240718</td>\n",
       "      <td>234166</td>\n",
       "      <td>420889</td>\n",
       "      <td>23301</td>\n",
       "      <td>58300</td>\n",
       "      <td>683577</td>\n",
       "    </tr>\n",
       "    <tr>\n",
       "      <th>23</th>\n",
       "      <td>1989</td>\n",
       "      <td>3388259</td>\n",
       "      <td>1434830</td>\n",
       "      <td>118026</td>\n",
       "      <td>58859</td>\n",
       "      <td>248567</td>\n",
       "      <td>241392</td>\n",
       "      <td>472853</td>\n",
       "      <td>25060</td>\n",
       "      <td>60191</td>\n",
       "      <td>728481</td>\n",
       "    </tr>\n",
       "    <tr>\n",
       "      <th>24</th>\n",
       "      <td>1990</td>\n",
       "      <td>3750678</td>\n",
       "      <td>1649879</td>\n",
       "      <td>125399</td>\n",
       "      <td>63700</td>\n",
       "      <td>263407</td>\n",
       "      <td>257353</td>\n",
       "      <td>531941</td>\n",
       "      <td>26519</td>\n",
       "      <td>63024</td>\n",
       "      <td>769456</td>\n",
       "    </tr>\n",
       "    <tr>\n",
       "      <th>25</th>\n",
       "      <td>1991</td>\n",
       "      <td>4101975</td>\n",
       "      <td>1864344</td>\n",
       "      <td>133632</td>\n",
       "      <td>68973</td>\n",
       "      <td>280891</td>\n",
       "      <td>273409</td>\n",
       "      <td>590488</td>\n",
       "      <td>28606</td>\n",
       "      <td>66981</td>\n",
       "      <td>794651</td>\n",
       "    </tr>\n",
       "    <tr>\n",
       "      <th>26</th>\n",
       "      <td>1992</td>\n",
       "      <td>4584717</td>\n",
       "      <td>2181388</td>\n",
       "      <td>145312</td>\n",
       "      <td>75592</td>\n",
       "      <td>308180</td>\n",
       "      <td>287160</td>\n",
       "      <td>655347</td>\n",
       "      <td>31158</td>\n",
       "      <td>72000</td>\n",
       "      <td>828580</td>\n",
       "    </tr>\n",
       "    <tr>\n",
       "      <th>27</th>\n",
       "      <td>1993</td>\n",
       "      <td>5250622</td>\n",
       "      <td>2619852</td>\n",
       "      <td>159900</td>\n",
       "      <td>84254</td>\n",
       "      <td>354290</td>\n",
       "      <td>305511</td>\n",
       "      <td>743320</td>\n",
       "      <td>33703</td>\n",
       "      <td>79233</td>\n",
       "      <td>870559</td>\n",
       "    </tr>\n",
       "    <tr>\n",
       "      <th>28</th>\n",
       "      <td>1994</td>\n",
       "      <td>5606712</td>\n",
       "      <td>2861640</td>\n",
       "      <td>166424</td>\n",
       "      <td>87545</td>\n",
       "      <td>374473</td>\n",
       "      <td>313771</td>\n",
       "      <td>788786</td>\n",
       "      <td>35495</td>\n",
       "      <td>83072</td>\n",
       "      <td>895506</td>\n",
       "    </tr>\n",
       "    <tr>\n",
       "      <th>29</th>\n",
       "      <td>1995</td>\n",
       "      <td>5922859</td>\n",
       "      <td>3058511</td>\n",
       "      <td>173051</td>\n",
       "      <td>90197</td>\n",
       "      <td>397743</td>\n",
       "      <td>321421</td>\n",
       "      <td>819922</td>\n",
       "      <td>37272</td>\n",
       "      <td>87214</td>\n",
       "      <td>937528</td>\n",
       "    </tr>\n",
       "    <tr>\n",
       "      <th>30</th>\n",
       "      <td>1996</td>\n",
       "      <td>6305707</td>\n",
       "      <td>3274156</td>\n",
       "      <td>182694</td>\n",
       "      <td>94978</td>\n",
       "      <td>442788</td>\n",
       "      <td>333269</td>\n",
       "      <td>854150</td>\n",
       "      <td>40212</td>\n",
       "      <td>95318</td>\n",
       "      <td>988142</td>\n",
       "    </tr>\n",
       "    <tr>\n",
       "      <th>31</th>\n",
       "      <td>1997</td>\n",
       "      <td>6863462</td>\n",
       "      <td>3570105</td>\n",
       "      <td>197057</td>\n",
       "      <td>101896</td>\n",
       "      <td>529838</td>\n",
       "      <td>353586</td>\n",
       "      <td>905121</td>\n",
       "      <td>45327</td>\n",
       "      <td>107151</td>\n",
       "      <td>1053381</td>\n",
       "    </tr>\n",
       "    <tr>\n",
       "      <th>32</th>\n",
       "      <td>1998</td>\n",
       "      <td>7371541</td>\n",
       "      <td>3838288</td>\n",
       "      <td>211495</td>\n",
       "      <td>108361</td>\n",
       "      <td>626004</td>\n",
       "      <td>371163</td>\n",
       "      <td>940935</td>\n",
       "      <td>49925</td>\n",
       "      <td>117913</td>\n",
       "      <td>1107457</td>\n",
       "    </tr>\n",
       "    <tr>\n",
       "      <th>33</th>\n",
       "      <td>1999</td>\n",
       "      <td>7758511</td>\n",
       "      <td>4072326</td>\n",
       "      <td>221683</td>\n",
       "      <td>112186</td>\n",
       "      <td>692935</td>\n",
       "      <td>378967</td>\n",
       "      <td>975746</td>\n",
       "      <td>52105</td>\n",
       "      <td>120937</td>\n",
       "      <td>1131626</td>\n",
       "    </tr>\n",
       "    <tr>\n",
       "      <th>34</th>\n",
       "      <td>2000</td>\n",
       "      <td>8320449</td>\n",
       "      <td>4422180</td>\n",
       "      <td>235885</td>\n",
       "      <td>118454</td>\n",
       "      <td>794459</td>\n",
       "      <td>394283</td>\n",
       "      <td>1011284</td>\n",
       "      <td>55677</td>\n",
       "      <td>129157</td>\n",
       "      <td>1159070</td>\n",
       "    </tr>\n",
       "    <tr>\n",
       "      <th>35</th>\n",
       "      <td>2001</td>\n",
       "      <td>8521956</td>\n",
       "      <td>4534803</td>\n",
       "      <td>239381</td>\n",
       "      <td>119306</td>\n",
       "      <td>833175</td>\n",
       "      <td>396493</td>\n",
       "      <td>1031221</td>\n",
       "      <td>57490</td>\n",
       "      <td>131019</td>\n",
       "      <td>1179068</td>\n",
       "    </tr>\n",
       "    <tr>\n",
       "      <th>36</th>\n",
       "      <td>2002</td>\n",
       "      <td>8655170</td>\n",
       "      <td>4600140</td>\n",
       "      <td>241700</td>\n",
       "      <td>120097</td>\n",
       "      <td>875381</td>\n",
       "      <td>399025</td>\n",
       "      <td>1046907</td>\n",
       "      <td>58790</td>\n",
       "      <td>133003</td>\n",
       "      <td>1180127</td>\n",
       "    </tr>\n",
       "    <tr>\n",
       "      <th>37</th>\n",
       "      <td>2003</td>\n",
       "      <td>8903843</td>\n",
       "      <td>4700343</td>\n",
       "      <td>245394</td>\n",
       "      <td>123500</td>\n",
       "      <td>973457</td>\n",
       "      <td>405034</td>\n",
       "      <td>1073415</td>\n",
       "      <td>60511</td>\n",
       "      <td>137933</td>\n",
       "      <td>1184256</td>\n",
       "    </tr>\n",
       "    <tr>\n",
       "      <th>38</th>\n",
       "      <td>2004</td>\n",
       "      <td>10236357</td>\n",
       "      <td>5400440</td>\n",
       "      <td>318954</td>\n",
       "      <td>152712</td>\n",
       "      <td>1259867</td>\n",
       "      <td>647420</td>\n",
       "      <td>1218677</td>\n",
       "      <td>28004</td>\n",
       "      <td>NaN</td>\n",
       "      <td>1210283</td>\n",
       "    </tr>\n",
       "    <tr>\n",
       "      <th>39</th>\n",
       "      <td>2005</td>\n",
       "      <td>11145826</td>\n",
       "      <td>5772745</td>\n",
       "      <td>338539</td>\n",
       "      <td>163390</td>\n",
       "      <td>1475057</td>\n",
       "      <td>676929</td>\n",
       "      <td>1441066</td>\n",
       "      <td>30333</td>\n",
       "      <td>NaN</td>\n",
       "      <td>1247767</td>\n",
       "    </tr>\n",
       "    <tr>\n",
       "      <th>40</th>\n",
       "      <td>2006</td>\n",
       "      <td>12227393</td>\n",
       "      <td>6140992</td>\n",
       "      <td>357523</td>\n",
       "      <td>175949</td>\n",
       "      <td>1695624</td>\n",
       "      <td>709535</td>\n",
       "      <td>1822831</td>\n",
       "      <td>34260</td>\n",
       "      <td>NaN</td>\n",
       "      <td>1290679</td>\n",
       "    </tr>\n",
       "    <tr>\n",
       "      <th>41</th>\n",
       "      <td>2007</td>\n",
       "      <td>13022945</td>\n",
       "      <td>6472156</td>\n",
       "      <td>372601</td>\n",
       "      <td>189128</td>\n",
       "      <td>1890459</td>\n",
       "      <td>729202</td>\n",
       "      <td>2003492</td>\n",
       "      <td>38573</td>\n",
       "      <td>NaN</td>\n",
       "      <td>1327334</td>\n",
       "    </tr>\n",
       "    <tr>\n",
       "      <th>42</th>\n",
       "      <td>2008</td>\n",
       "      <td>13765395</td>\n",
       "      <td>6796629</td>\n",
       "      <td>383548</td>\n",
       "      <td>199934</td>\n",
       "      <td>2066007</td>\n",
       "      <td>744217</td>\n",
       "      <td>2181383</td>\n",
       "      <td>35100</td>\n",
       "      <td>NaN</td>\n",
       "      <td>1358577</td>\n",
       "    </tr>\n",
       "    <tr>\n",
       "      <th>43</th>\n",
       "      <td>2009</td>\n",
       "      <td>14316700</td>\n",
       "      <td>7093964</td>\n",
       "      <td>384053</td>\n",
       "      <td>201033</td>\n",
       "      <td>2204951</td>\n",
       "      <td>727302</td>\n",
       "      <td>2303261</td>\n",
       "      <td>34104</td>\n",
       "      <td>NaN</td>\n",
       "      <td>1368032</td>\n",
       "    </tr>\n",
       "    <tr>\n",
       "      <th>44</th>\n",
       "      <td>2010</td>\n",
       "      <td>15095603</td>\n",
       "      <td>7544871</td>\n",
       "      <td>386973</td>\n",
       "      <td>208510</td>\n",
       "      <td>2399038</td>\n",
       "      <td>726359</td>\n",
       "      <td>2389488</td>\n",
       "      <td>35492</td>\n",
       "      <td>NaN</td>\n",
       "      <td>1404872</td>\n",
       "    </tr>\n",
       "    <tr>\n",
       "      <th>45</th>\n",
       "      <td>2011</td>\n",
       "      <td>16089528</td>\n",
       "      <td>8113111</td>\n",
       "      <td>389435</td>\n",
       "      <td>219906</td>\n",
       "      <td>2611104</td>\n",
       "      <td>728458</td>\n",
       "      <td>2527190</td>\n",
       "      <td>34116</td>\n",
       "      <td>NaN</td>\n",
       "      <td>1466208</td>\n",
       "    </tr>\n",
       "    <tr>\n",
       "      <th>46</th>\n",
       "      <td>2012</td>\n",
       "      <td>17033413</td>\n",
       "      <td>8648875</td>\n",
       "      <td>396119</td>\n",
       "      <td>235949</td>\n",
       "      <td>2794606</td>\n",
       "      <td>751650</td>\n",
       "      <td>2657722</td>\n",
       "      <td>33071</td>\n",
       "      <td>NaN</td>\n",
       "      <td>1515421</td>\n",
       "    </tr>\n",
       "    <tr>\n",
       "      <th>47</th>\n",
       "      <td>2013</td>\n",
       "      <td>17939447</td>\n",
       "      <td>9283923</td>\n",
       "      <td>421848</td>\n",
       "      <td>219885</td>\n",
       "      <td>2933050</td>\n",
       "      <td>755950</td>\n",
       "      <td>2722826</td>\n",
       "      <td>36148</td>\n",
       "      <td>NaN</td>\n",
       "      <td>1565817</td>\n",
       "    </tr>\n",
       "    <tr>\n",
       "      <th>48</th>\n",
       "      <td>2014</td>\n",
       "      <td>18828721</td>\n",
       "      <td>9857915</td>\n",
       "      <td>427264</td>\n",
       "      <td>211200</td>\n",
       "      <td>3062479</td>\n",
       "      <td>773728</td>\n",
       "      <td>2828466</td>\n",
       "      <td>40731</td>\n",
       "      <td>NaN</td>\n",
       "      <td>1626938</td>\n",
       "    </tr>\n",
       "    <tr>\n",
       "      <th>49</th>\n",
       "      <td>2015</td>\n",
       "      <td>19882069</td>\n",
       "      <td>10509258</td>\n",
       "      <td>446822</td>\n",
       "      <td>216566</td>\n",
       "      <td>3235304</td>\n",
       "      <td>802615</td>\n",
       "      <td>2938821</td>\n",
       "      <td>45138</td>\n",
       "      <td>NaN</td>\n",
       "      <td>1687545</td>\n",
       "    </tr>\n",
       "  </tbody>\n",
       "</table>\n",
       "</div>"
      ],
      "text/plain": [
       "    Year       All       Car  Minibus     Bus  SmallTruck   Truck  Motorcycle  \\\n",
       "0   1966    231977     91469    10913   12041       31462   47931       32099   \n",
       "1   1967    284194    112367    16008   13332       39927   56889       39647   \n",
       "2   1968    318768    125375    18967   13948       43441   62616       47062   \n",
       "3   1969    354398    137345    20540   15529       48655   69478       52959   \n",
       "4   1970    369808    137771    20916   15980       52152   70730       60994   \n",
       "5   1971    403880    153676    22380   17140       57011   73433       68417   \n",
       "6   1972    460087    187272    25559   18504       62796   78920       74402   \n",
       "7   1973    543318    240360    30055   20011       71043   86780       80860   \n",
       "8   1974    647947    313160    34122   21404       81025   95309       86028   \n",
       "9   1975    785920    403546    40623   23763       98579  108381       91421   \n",
       "10  1976    920141    488894    46066   25388      116861  122176       96984   \n",
       "11  1977   1042239    560424    51999   27096      134213  138093      102127   \n",
       "12  1978   1142561    624438    56836   28559      144695  146551      109890   \n",
       "13  1979   1566405    688687    61596   30634      155278  157095      120378   \n",
       "14  1980   1696681    742252    64707   32783      165821  164893      137931   \n",
       "15  1981   1802742    776432    66514   33839      172269  172372      160557   \n",
       "16  1982   1901926    811465    69598   35432      178762  180772      182795   \n",
       "17  1983   2041244    856350    73585   38478      186427  190277      217327   \n",
       "18  1984   2215174    919577    80697   43638      198106  197721      256338   \n",
       "19  1985   2391357    983444    87951   47119      212505  205496      289052   \n",
       "20  1986   2641353   1087234    97917   50798      224755  217111      327326   \n",
       "21  1987   2887287   1193021   106314   53554      233480  225872      369894   \n",
       "22  1988   3140265   1310257   112885   56172      240718  234166      420889   \n",
       "23  1989   3388259   1434830   118026   58859      248567  241392      472853   \n",
       "24  1990   3750678   1649879   125399   63700      263407  257353      531941   \n",
       "25  1991   4101975   1864344   133632   68973      280891  273409      590488   \n",
       "26  1992   4584717   2181388   145312   75592      308180  287160      655347   \n",
       "27  1993   5250622   2619852   159900   84254      354290  305511      743320   \n",
       "28  1994   5606712   2861640   166424   87545      374473  313771      788786   \n",
       "29  1995   5922859   3058511   173051   90197      397743  321421      819922   \n",
       "30  1996   6305707   3274156   182694   94978      442788  333269      854150   \n",
       "31  1997   6863462   3570105   197057  101896      529838  353586      905121   \n",
       "32  1998   7371541   3838288   211495  108361      626004  371163      940935   \n",
       "33  1999   7758511   4072326   221683  112186      692935  378967      975746   \n",
       "34  2000   8320449   4422180   235885  118454      794459  394283     1011284   \n",
       "35  2001   8521956   4534803   239381  119306      833175  396493     1031221   \n",
       "36  2002   8655170   4600140   241700  120097      875381  399025     1046907   \n",
       "37  2003   8903843   4700343   245394  123500      973457  405034     1073415   \n",
       "38  2004  10236357   5400440   318954  152712     1259867  647420     1218677   \n",
       "39  2005  11145826   5772745   338539  163390     1475057  676929     1441066   \n",
       "40  2006  12227393   6140992   357523  175949     1695624  709535     1822831   \n",
       "41  2007  13022945   6472156   372601  189128     1890459  729202     2003492   \n",
       "42  2008  13765395   6796629   383548  199934     2066007  744217     2181383   \n",
       "43  2009  14316700   7093964   384053  201033     2204951  727302     2303261   \n",
       "44  2010  15095603   7544871   386973  208510     2399038  726359     2389488   \n",
       "45  2011  16089528   8113111   389435  219906     2611104  728458     2527190   \n",
       "46  2012  17033413   8648875   396119  235949     2794606  751650     2657722   \n",
       "47  2013  17939447   9283923   421848  219885     2933050  755950     2722826   \n",
       "48  2014  18828721   9857915   427264  211200     3062479  773728     2828466   \n",
       "49  2015  19882069  10509258   446822  216566     3235304  802615     2938821   \n",
       "\n",
       "    SpecialVehicles  Machinery  Tractor  \n",
       "0              3610       2452      NaN  \n",
       "1              3641       2383      NaN  \n",
       "2              4033       3326      NaN  \n",
       "3              4568       5324      NaN  \n",
       "4              5070       6195      NaN  \n",
       "5              5349       6474      NaN  \n",
       "6              5747       6887      NaN  \n",
       "7              6420       7789      NaN  \n",
       "8              7338       9561      NaN  \n",
       "9              8450      11157      NaN  \n",
       "10             9224      14548      NaN  \n",
       "11            10137      18150      NaN  \n",
       "12            10698      20894      NaN  \n",
       "13            11291      22875   318571  \n",
       "14            11777      24090   352427  \n",
       "15            12459      26246   382054  \n",
       "16            13386      30160   399556  \n",
       "17            14705      33532   430563  \n",
       "18            16312      39445   463340  \n",
       "19            17639      45561   502590  \n",
       "20            19448      50819   565945  \n",
       "21            21236      55129   628787  \n",
       "22            23301      58300   683577  \n",
       "23            25060      60191   728481  \n",
       "24            26519      63024   769456  \n",
       "25            28606      66981   794651  \n",
       "26            31158      72000   828580  \n",
       "27            33703      79233   870559  \n",
       "28            35495      83072   895506  \n",
       "29            37272      87214   937528  \n",
       "30            40212      95318   988142  \n",
       "31            45327     107151  1053381  \n",
       "32            49925     117913  1107457  \n",
       "33            52105     120937  1131626  \n",
       "34            55677     129157  1159070  \n",
       "35            57490     131019  1179068  \n",
       "36            58790     133003  1180127  \n",
       "37            60511     137933  1184256  \n",
       "38            28004        NaN  1210283  \n",
       "39            30333        NaN  1247767  \n",
       "40            34260        NaN  1290679  \n",
       "41            38573        NaN  1327334  \n",
       "42            35100        NaN  1358577  \n",
       "43            34104        NaN  1368032  \n",
       "44            35492        NaN  1404872  \n",
       "45            34116        NaN  1466208  \n",
       "46            33071        NaN  1515421  \n",
       "47            36148        NaN  1565817  \n",
       "48            40731        NaN  1626938  \n",
       "49            45138        NaN  1687545  "
      ]
     },
     "execution_count": 1,
     "metadata": {},
     "output_type": "execute_result"
    }
   ],
   "source": [
    "%matplotlib inline\n",
    "\n",
    "import scipy as sc\n",
    "import numpy as np\n",
    "import pandas as pd\n",
    "import matplotlib as mpl\n",
    "import matplotlib.pylab as plt\n",
    "\n",
    "df_arac = pd.read_csv(u'data/arac.csv',sep=';')\n",
    "df_arac"
   ]
  },
  {
   "cell_type": "code",
   "execution_count": 2,
   "metadata": {
    "collapsed": true
   },
   "outputs": [],
   "source": [
    "BaseYear = 1966\n",
    "degree = 4"
   ]
  },
  {
   "cell_type": "code",
   "execution_count": 3,
   "metadata": {
    "collapsed": false,
    "scrolled": true
   },
   "outputs": [
    {
     "data": {
      "image/png": "[encoded data removed]",
      "text/plain": [
       "<matplotlib.figure.Figure at 0x800b6a0>"
      ]
     },
     "metadata": {},
     "output_type": "display_data"
    }
   ],
   "source": [
    "### Number of \"Cars\"\n",
    "x = np.matrix(df_arac.Year[0:]).T-BaseYear\n",
    "y = np.matrix(df_arac.Car[0:]).T/1000\n",
    "plt.plot(x+BaseYear, y, \"o-\")\n",
    "plt.xlabel(\"Year\")\n",
    "plt.ylabel(\"Number of Cars\")\n",
    "plt.show()"
   ]
  },
  {
   "cell_type": "code",
   "execution_count": 4,
   "metadata": {
    "collapsed": false,
    "scrolled": false
   },
   "outputs": [
    {
     "data": {
      "image/png": "[encoded data removed]",
      "text/plain": [
       "<matplotlib.figure.Figure at 0x82c01d0>"
      ]
     },
     "metadata": {},
     "output_type": "display_data"
    }
   ],
   "source": [
    "### Vandermonde Matrix for Cars\n",
    "N = len(x)\n",
    "A = np.hstack((np.power(x,i) for i in range(degree+1)))\n",
    "xx = np.matrix(np.linspace(0,54)).T\n",
    "A2 = np.hstack((np.power(xx,i) for i in range(degree+1)))\n",
    "\n",
    "w_ls,E,rank,sigma = np.linalg.lstsq(A, y)\n",
    "f = A2*w_ls\n",
    "plt.plot(x+BaseYear, y, 'o-')\n",
    "plt.plot(xx+BaseYear, f, 'r')\n",
    "\n",
    "plt.xlabel('Years')\n",
    "plt.ylabel('Number of Cars')\n",
    "\n",
    "plt.show()"
   ]
  },
  {
   "cell_type": "code",
   "execution_count": 5,
   "metadata": {
    "collapsed": false
   },
   "outputs": [
    {
     "name": "stdout",
     "output_type": "stream",
     "text": [
      "Cars in 2016:\n",
      "[[ 10621.37726264]]\n",
      "\n",
      "Cars in 2017:\n",
      "[[ 11263.12009962]]\n",
      "\n",
      "Cars in 2018:\n",
      "[[ 11933.61860813]]\n",
      "\n",
      "Cars in 2019:\n",
      "[[ 12633.8263736]]\n",
      "\n",
      "Cars in 2020:\n",
      "[[ 13364.71808491]]\n"
     ]
    }
   ],
   "source": [
    "print(\"Cars in 2016:\")\n",
    "print(f[45])\n",
    "print()\n",
    "print(\"Cars in 2017:\")\n",
    "print(f[46])\n",
    "print()\n",
    "print(\"Cars in 2018:\")\n",
    "print(f[47])\n",
    "print()\n",
    "print(\"Cars in 2019:\")\n",
    "print(f[48])\n",
    "print()\n",
    "print(\"Cars in 2020:\")\n",
    "print(f[49])"
   ]
  },
  {
   "cell_type": "code",
   "execution_count": 6,
   "metadata": {
    "collapsed": false,
    "scrolled": true
   },
   "outputs": [
    {
     "data": {
      "image/png": "[encoded data removed]",
      "text/plain": [
       "<matplotlib.figure.Figure at 0x4649c50>"
      ]
     },
     "metadata": {},
     "output_type": "display_data"
    }
   ],
   "source": [
    "### Number of \"Motorcycles\"\n",
    "x = np.matrix(df_arac.Year[0:]).T-BaseYear\n",
    "y = np.matrix(df_arac.Motorcycle[0:]).T/1000\n",
    "plt.plot(x+BaseYear, y, \"o-\")\n",
    "plt.xlabel(\"Year\")\n",
    "plt.ylabel(\"Number of Motorcycles\")\n",
    "plt.show()"
   ]
  },
  {
   "cell_type": "code",
   "execution_count": 7,
   "metadata": {
    "collapsed": false
   },
   "outputs": [
    {
     "data": {
      "image/png": "[encoded data removed]",
      "text/plain": [
       "<matplotlib.figure.Figure at 0x8abc0b8>"
      ]
     },
     "metadata": {},
     "output_type": "display_data"
    }
   ],
   "source": [
    "### Vandermonde Matrix for Motocycles\n",
    "\n",
    "N = len(x)\n",
    "A = np.hstack((np.power(x,i) for i in range(degree+1)))\n",
    "xx = np.matrix(np.linspace(0,54)).T\n",
    "A2 = np.hstack((np.power(xx,i) for i in range(degree+1)))\n",
    "\n",
    "w_ls,E,rank,sigma = np.linalg.lstsq(A, y)\n",
    "f = A2*w_ls\n",
    "plt.plot(x+BaseYear, y, 'o-')\n",
    "plt.plot(xx+BaseYear, f, 'r')\n",
    "\n",
    "plt.xlabel('Years')\n",
    "plt.ylabel('Number of Motocycles')\n",
    "\n",
    "plt.show()"
   ]
  },
  {
   "cell_type": "code",
   "execution_count": 8,
   "metadata": {
    "collapsed": false
   },
   "outputs": [
    {
     "name": "stdout",
     "output_type": "stream",
     "text": [
      "Motocycles in 2016:\n",
      "[[ 3236.13084145]]\n",
      "\n",
      "Motocycles in 2017:\n",
      "[[ 3466.44086965]]\n",
      "\n",
      "Motocycles in 2018:\n",
      "[[ 3709.85953893]]\n",
      "\n",
      "Motocycles in 2019:\n",
      "[[ 3966.93205805]]\n",
      "\n",
      "Motocycles in 2020:\n",
      "[[ 4238.21616067]]\n"
     ]
    }
   ],
   "source": [
    "print(\"Motocycles in 2016:\")\n",
    "print(f[45])\n",
    "print()\n",
    "print(\"Motocycles in 2017:\")\n",
    "print(f[46])\n",
    "print()\n",
    "print(\"Motocycles in 2018:\")\n",
    "print(f[47])\n",
    "print()\n",
    "print(\"Motocycles in 2019:\")\n",
    "print(f[48])\n",
    "print()\n",
    "print(\"Motocycles in 2020:\")\n",
    "print(f[49])"
   ]
  },
  {
   "cell_type": "code",
   "execution_count": 9,
   "metadata": {
    "collapsed": false
   },
   "outputs": [
    {
     "data": {
      "image/png": "[encoded data removed]",
      "text/plain": [
       "<matplotlib.figure.Figure at 0x8b6cb00>"
      ]
     },
     "metadata": {},
     "output_type": "display_data"
    }
   ],
   "source": [
    "### Number of \"Minibuses\"\n",
    "x = np.matrix(df_arac.Year[0:]).T-BaseYear\n",
    "y = np.matrix(df_arac.Minibus[0:]).T/1000\n",
    "plt.plot(x+BaseYear, y, \"o-\")\n",
    "plt.xlabel(\"Year\")\n",
    "plt.ylabel(\"Number of Minibuses\")\n",
    "plt.show()"
   ]
  },
  {
   "cell_type": "code",
   "execution_count": 10,
   "metadata": {
    "collapsed": false,
    "scrolled": true
   },
   "outputs": [
    {
     "data": {
      "image/png": "[encoded data removed]",
      "text/plain": [
       "<matplotlib.figure.Figure at 0x933f6d8>"
      ]
     },
     "metadata": {},
     "output_type": "display_data"
    }
   ],
   "source": [
    "### Vandermonde Matrix for Minibuses\n",
    "N = len(x)\n",
    "A = np.hstack((np.power(x,i) for i in range(degree+1)))\n",
    "xx = np.matrix(np.linspace(0,54)).T\n",
    "A2 = np.hstack((np.power(xx,i) for i in range(degree+1)))\n",
    "\n",
    "w_ls,E,rank,sigma = np.linalg.lstsq(A, y)\n",
    "f = A2*w_ls\n",
    "plt.plot(x+BaseYear, y, 'o-')\n",
    "plt.plot(xx+BaseYear, f, 'r')\n",
    "\n",
    "plt.xlabel('Years')\n",
    "plt.ylabel('Number of Minibuses')\n",
    "\n",
    "plt.show()"
   ]
  },
  {
   "cell_type": "code",
   "execution_count": 11,
   "metadata": {
    "collapsed": false
   },
   "outputs": [
    {
     "name": "stdout",
     "output_type": "stream",
     "text": [
      "Minibuses in 2016:\n",
      "[[ 448.89804661]]\n",
      "\n",
      "Minibuses in 2017:\n",
      "[[ 456.78690229]]\n",
      "\n",
      "Minibuses in 2018:\n",
      "[[ 462.83784132]]\n",
      "\n",
      "Minibuses in 2019:\n",
      "[[ 466.83600546]]\n",
      "\n",
      "Minibuses in 2020:\n",
      "[[ 468.5579418]]\n"
     ]
    }
   ],
   "source": [
    "print(\"Minibuses in 2016:\")\n",
    "print(f[45])\n",
    "print()\n",
    "print(\"Minibuses in 2017:\")\n",
    "print(f[46])\n",
    "print()\n",
    "print(\"Minibuses in 2018:\")\n",
    "print(f[47])\n",
    "print()\n",
    "print(\"Minibuses in 2019:\")\n",
    "print(f[48])\n",
    "print()\n",
    "print(\"Minibuses in 2020:\")\n",
    "print(f[49])"
   ]
  },
  {
   "cell_type": "code",
   "execution_count": 12,
   "metadata": {
    "collapsed": false
   },
   "outputs": [
    {
     "data": {
      "image/png": "[encoded data removed]",
      "text/plain": [
       "<matplotlib.figure.Figure at 0x8afb6a0>"
      ]
     },
     "metadata": {},
     "output_type": "display_data"
    }
   ],
   "source": [
    "### Number of \"Buses\"\n",
    "x = np.matrix(df_arac.Year[0:]).T-BaseYear\n",
    "y = np.matrix(df_arac.Bus[0:]).T/1000\n",
    "plt.plot(x+BaseYear, y, \"o-\")\n",
    "plt.xlabel(\"Year\")\n",
    "plt.ylabel(\"Number of Buses\")\n",
    "plt.show()"
   ]
  },
  {
   "cell_type": "code",
   "execution_count": 13,
   "metadata": {
    "collapsed": false
   },
   "outputs": [
    {
     "data": {
      "image/png": "[encoded data removed]",
      "text/plain": [
       "<matplotlib.figure.Figure at 0xa4144e0>"
      ]
     },
     "metadata": {},
     "output_type": "display_data"
    }
   ],
   "source": [
    "### Vandermonde Matrix for Buses\n",
    "N = len(x)\n",
    "A = np.hstack((np.power(x,i) for i in range(degree+1)))\n",
    "xx = np.matrix(np.linspace(0,54)).T\n",
    "A2 = np.hstack((np.power(xx,i) for i in range(degree+1)))\n",
    "\n",
    "w_ls,E,rank,sigma = np.linalg.lstsq(A, y)\n",
    "f = A2*w_ls\n",
    "plt.plot(x+BaseYear, y, 'o-')\n",
    "plt.plot(xx+BaseYear, f, 'r')\n",
    "\n",
    "plt.xlabel('Years')\n",
    "plt.ylabel('Number of Buses')\n",
    "\n",
    "plt.show()"
   ]
  },
  {
   "cell_type": "code",
   "execution_count": 14,
   "metadata": {
    "collapsed": false
   },
   "outputs": [
    {
     "name": "stdout",
     "output_type": "stream",
     "text": [
      "Buses in 2016:\n",
      "[[ 233.902934]]\n",
      "\n",
      "Buses in 2017:\n",
      "[[ 237.97014089]]\n",
      "\n",
      "Buses in 2018:\n",
      "[[ 241.00351114]]\n",
      "\n",
      "Buses in 2019:\n",
      "[[ 242.88036387]]\n",
      "\n",
      "Buses in 2020:\n",
      "[[ 243.47306795]]\n"
     ]
    }
   ],
   "source": [
    "print(\"Buses in 2016:\")\n",
    "print(f[45])\n",
    "print()\n",
    "print(\"Buses in 2017:\")\n",
    "print(f[46])\n",
    "print()\n",
    "print(\"Buses in 2018:\")\n",
    "print(f[47])\n",
    "print()\n",
    "print(\"Buses in 2019:\")\n",
    "print(f[48])\n",
    "print()\n",
    "print(\"Buses in 2020:\")\n",
    "print(f[49])"
   ]
  },
  {
   "cell_type": "code",
   "execution_count": 15,
   "metadata": {
    "collapsed": false
   },
   "outputs": [
    {
     "data": {
      "image/png": "[encoded data removed]",
      "text/plain": [
       "<matplotlib.figure.Figure at 0xa423550>"
      ]
     },
     "metadata": {},
     "output_type": "display_data"
    }
   ],
   "source": [
    "### Number of \"Small Trucks\"\n",
    "x = np.matrix(df_arac.Year[0:]).T-BaseYear\n",
    "y = np.matrix(df_arac.SmallTruck[0:]).T/1000\n",
    "plt.plot(x+BaseYear, y, \"o-\")\n",
    "plt.xlabel(\"Year\")\n",
    "plt.ylabel(\"Number of Small Trucks\")\n",
    "plt.show()"
   ]
  },
  {
   "cell_type": "code",
   "execution_count": 16,
   "metadata": {
    "collapsed": false
   },
   "outputs": [
    {
     "data": {
      "image/png": "[encoded data removed]",
      "text/plain": [
       "<matplotlib.figure.Figure at 0xa49e8d0>"
      ]
     },
     "metadata": {},
     "output_type": "display_data"
    }
   ],
   "source": [
    "### Vandermonde Matrix for Small Trucks\n",
    "N = len(x)\n",
    "A = np.hstack((np.power(x,i) for i in range(degree+1)))\n",
    "xx = np.matrix(np.linspace(0,54)).T\n",
    "A2 = np.hstack((np.power(xx,i) for i in range(degree+1)))\n",
    "\n",
    "w_ls,E,rank,sigma = np.linalg.lstsq(A, y)\n",
    "f = A2*w_ls\n",
    "plt.plot(x+BaseYear, y, 'o-')\n",
    "plt.plot(xx+BaseYear, f, 'r')\n",
    "\n",
    "plt.xlabel('Years')\n",
    "plt.ylabel('Number of Small Trucks')\n",
    "\n",
    "plt.show()"
   ]
  },
  {
   "cell_type": "code",
   "execution_count": 17,
   "metadata": {
    "collapsed": false
   },
   "outputs": [
    {
     "name": "stdout",
     "output_type": "stream",
     "text": [
      "Small Trucks in 2016:\n",
      "[[ 3559.9001475]]\n",
      "\n",
      "Small Trucks in 2017:\n",
      "[[ 3848.67181722]]\n",
      "\n",
      "Small Trucks in 2018:\n",
      "[[ 4150.71003736]]\n",
      "\n",
      "Small Trucks in 2019:\n",
      "[[ 4466.02070063]]\n",
      "\n",
      "Small Trucks in 2020:\n",
      "[[ 4794.58781039]]\n"
     ]
    }
   ],
   "source": [
    "print(\"Small Trucks in 2016:\")\n",
    "print(f[45])\n",
    "print()\n",
    "print(\"Small Trucks in 2017:\")\n",
    "print(f[46])\n",
    "print()\n",
    "print(\"Small Trucks in 2018:\")\n",
    "print(f[47])\n",
    "print()\n",
    "print(\"Small Trucks in 2019:\")\n",
    "print(f[48])\n",
    "print()\n",
    "print(\"Small Trucks in 2020:\")\n",
    "print(f[49])"
   ]
  },
  {
   "cell_type": "code",
   "execution_count": 18,
   "metadata": {
    "collapsed": false
   },
   "outputs": [
    {
     "data": {
      "image/png": "[encoded data removed]",
      "text/plain": [
       "<matplotlib.figure.Figure at 0xa4d9c18>"
      ]
     },
     "metadata": {},
     "output_type": "display_data"
    }
   ],
   "source": [
    "### Number of \"Trucks\"\n",
    "x = np.matrix(df_arac.Year[0:]).T-BaseYear\n",
    "y = np.matrix(df_arac.Truck[0:]).T/1000\n",
    "plt.plot(x+BaseYear, y, \"o-\")\n",
    "plt.xlabel(\"Year\")\n",
    "plt.ylabel(\"Number of Trucks\")\n",
    "plt.show()"
   ]
  },
  {
   "cell_type": "code",
   "execution_count": 19,
   "metadata": {
    "collapsed": false
   },
   "outputs": [
    {
     "data": {
      "image/png": "[encoded data removed]",
      "text/plain": [
       "<matplotlib.figure.Figure at 0xa499da0>"
      ]
     },
     "metadata": {},
     "output_type": "display_data"
    }
   ],
   "source": [
    "### Vandermonde Matrix for Trucks\n",
    "N = len(x)\n",
    "A = np.hstack((np.power(x,i) for i in range(degree+1)))\n",
    "xx = np.matrix(np.linspace(0,54)).T\n",
    "A2 = np.hstack((np.power(xx,i) for i in range(degree+1)))\n",
    "\n",
    "w_ls,E,rank,sigma = np.linalg.lstsq(A, y)\n",
    "f = A2*w_ls\n",
    "plt.plot(x+BaseYear, y, 'o-')\n",
    "plt.plot(xx+BaseYear, f, 'r')\n",
    "\n",
    "plt.xlabel('Years')\n",
    "plt.ylabel('Number of Trucks')\n",
    "\n",
    "plt.show()"
   ]
  },
  {
   "cell_type": "code",
   "execution_count": 20,
   "metadata": {
    "collapsed": false
   },
   "outputs": [
    {
     "name": "stdout",
     "output_type": "stream",
     "text": [
      "Trucks in 2016:\n",
      "[[ 823.76275181]]\n",
      "\n",
      "Trucks in 2017:\n",
      "[[ 833.5262518]]\n",
      "\n",
      "Trucks in 2018:\n",
      "[[ 838.67268132]]\n",
      "\n",
      "Trucks in 2019:\n",
      "[[ 838.64945456]]\n",
      "\n",
      "Trucks in 2020:\n",
      "[[ 832.88058656]]\n"
     ]
    }
   ],
   "source": [
    "print(\"Trucks in 2016:\")\n",
    "print(f[45])\n",
    "print()\n",
    "print(\"Trucks in 2017:\")\n",
    "print(f[46])\n",
    "print()\n",
    "print(\"Trucks in 2018:\")\n",
    "print(f[47])\n",
    "print()\n",
    "print(\"Trucks in 2019:\")\n",
    "print(f[48])\n",
    "print()\n",
    "print(\"Trucks in 2020:\")\n",
    "print(f[49])"
   ]
  },
  {
   "cell_type": "code",
   "execution_count": 21,
   "metadata": {
    "collapsed": false
   },
   "outputs": [
    {
     "data": {
      "image/png": "[encoded data removed]",
      "text/plain": [
       "<matplotlib.figure.Figure at 0xa5146a0>"
      ]
     },
     "metadata": {},
     "output_type": "display_data"
    }
   ],
   "source": [
    "### Number of \"Special Vehicles\"\n",
    "x = np.matrix(df_arac.Year[0:]).T-BaseYear\n",
    "y = np.matrix(df_arac.SpecialVehicles[0:]).T/1000\n",
    "plt.plot(x+BaseYear, y, \"o-\")\n",
    "plt.xlabel(\"Year\")\n",
    "plt.ylabel(\"Number of Special Vehicles\")\n",
    "plt.show()"
   ]
  },
  {
   "cell_type": "code",
   "execution_count": 22,
   "metadata": {
    "collapsed": false
   },
   "outputs": [
    {
     "data": {
      "image/png": "[encoded data removed]",
      "text/plain": [
       "<matplotlib.figure.Figure at 0xa45c940>"
      ]
     },
     "metadata": {},
     "output_type": "display_data"
    }
   ],
   "source": [
    "### Vandermonde Matrix for Special Vehicles\n",
    "N = len(x)\n",
    "A = np.hstack((np.power(x,i) for i in range(degree+1)))\n",
    "xx = np.matrix(np.linspace(0,54)).T\n",
    "A2 = np.hstack((np.power(xx,i) for i in range(degree+1)))\n",
    "\n",
    "w_ls,E,rank,sigma = np.linalg.lstsq(A, y)\n",
    "f = A2*w_ls\n",
    "plt.plot(x+BaseYear, y, 'o-')\n",
    "plt.plot(xx+BaseYear, f, 'r')\n",
    "\n",
    "plt.xlabel('Years')\n",
    "plt.ylabel('Number of Special Vehicles')\n",
    "\n",
    "plt.show()"
   ]
  },
  {
   "cell_type": "code",
   "execution_count": 23,
   "metadata": {
    "collapsed": false
   },
   "outputs": [
    {
     "name": "stdout",
     "output_type": "stream",
     "text": [
      "Special Vehicles in 2016:\n",
      "[[ 32.49750089]]\n",
      "\n",
      "Special Vehicles in 2017:\n",
      "[[ 30.558091]]\n",
      "\n",
      "Special Vehicles in 2018:\n",
      "[[ 28.51645033]]\n",
      "\n",
      "Special Vehicles in 2019:\n",
      "[[ 26.38889973]]\n",
      "\n",
      "Special Vehicles in 2020:\n",
      "[[ 24.19309102]]\n"
     ]
    }
   ],
   "source": [
    "print(\"Special Vehicles in 2016:\")\n",
    "print(f[45])\n",
    "print()\n",
    "print(\"Special Vehicles in 2017:\")\n",
    "print(f[46])\n",
    "print()\n",
    "print(\"Special Vehicles in 2018:\")\n",
    "print(f[47])\n",
    "print()\n",
    "print(\"Special Vehicles in 2019:\")\n",
    "print(f[48])\n",
    "print()\n",
    "print(\"Special Vehicles in 2020:\")\n",
    "print(f[49])"
   ]
  },
  {
   "cell_type": "code",
   "execution_count": 41,
   "metadata": {
    "collapsed": false
   },
   "outputs": [
    {
     "data": {
      "image/png": "[encoded data removed]",
      "text/plain": [
       "<matplotlib.figure.Figure at 0xa8559e8>"
      ]
     },
     "metadata": {},
     "output_type": "display_data"
    }
   ],
   "source": [
    "### Number of \"Machineries\"\n",
    "x = np.matrix(df_arac.Year[0:38]).T-BaseYear\n",
    "y = np.matrix(df_arac.Machinery[0:38]).T/1000\n",
    "plt.plot(x+BaseYear, y, \"o-\")\n",
    "plt.xlabel(\"Year\")\n",
    "plt.ylabel(\"Number of Machineries\")\n",
    "plt.show()"
   ]
  },
  {
   "cell_type": "code",
   "execution_count": 42,
   "metadata": {
    "collapsed": false
   },
   "outputs": [
    {
     "data": {
      "image/png": "[encoded data removed]",
      "text/plain": [
       "<matplotlib.figure.Figure at 0xa7dbf60>"
      ]
     },
     "metadata": {},
     "output_type": "display_data"
    }
   ],
   "source": [
    "### Vandermonde Matrix for Machineries\n",
    "N = len(x)\n",
    "A = np.hstack((np.power(x,i) for i in range(degree+1)))\n",
    "xx = np.matrix(np.linspace(0,54)).T\n",
    "A2 = np.hstack((np.power(xx,i) for i in range(degree+1)))\n",
    "\n",
    "w_ls,E,rank,sigma = np.linalg.lstsq(A, y)\n",
    "f = A2*w_ls\n",
    "plt.plot(x+BaseYear, y, 'o-')\n",
    "plt.plot(xx+BaseYear, f, 'r')\n",
    "\n",
    "plt.xlabel('Years')\n",
    "plt.ylabel('Number of Special Vehicles')\n",
    "\n",
    "plt.show()"
   ]
  },
  {
   "cell_type": "code",
   "execution_count": null,
   "metadata": {
    "collapsed": false
   },
   "outputs": [],
   "source": [
    "print(\"Machineries in 2016:\")\n",
    "print(f[45])\n",
    "print()\n",
    "print(\"Machineries in 2017:\")\n",
    "print(f[46])\n",
    "print()\n",
    "print(\"Machineries in 2018:\")\n",
    "print(f[47])\n",
    "print()\n",
    "print(\"Machineries in 2019:\")\n",
    "print(f[48])\n",
    "print()\n",
    "print(\"Machineries in 2020:\")\n",
    "print(f[49])"
   ]
  },
  {
   "cell_type": "code",
   "execution_count": 39,
   "metadata": {
    "collapsed": false
   },
   "outputs": [
    {
     "data": {
      "image/png": "[encoded data removed]",
      "text/plain": [
       "<matplotlib.figure.Figure at 0xa822668>"
      ]
     },
     "metadata": {},
     "output_type": "display_data"
    }
   ],
   "source": [
    "### Number of \"Tractors\"\n",
    "x = np.matrix(df_arac.Year[13:]).T-BaseYear\n",
    "y = np.matrix(df_arac.Tractor[13:]).T/1000\n",
    "plt.plot(x+BaseYear, y, \"o-\")\n",
    "plt.xlabel(\"Year\")\n",
    "plt.ylabel(\"Number of Tractors\")\n",
    "plt.show()"
   ]
  },
  {
   "cell_type": "code",
   "execution_count": 40,
   "metadata": {
    "collapsed": false
   },
   "outputs": [
    {
     "data": {
      "image/png": "[encoded data removed]",
      "text/plain": [
       "<matplotlib.figure.Figure at 0xa7e6160>"
      ]
     },
     "metadata": {},
     "output_type": "display_data"
    }
   ],
   "source": [
    "### Vandermonde Matrix for Tractors\n",
    "N = len(x)\n",
    "A = np.hstack((np.power(x,i) for i in range(degree+1)))\n",
    "xx = np.matrix(np.linspace(0,54)).T\n",
    "A2 = np.hstack((np.power(xx,i) for i in range(degree+1)))\n",
    "\n",
    "w_ls,E,rank,sigma = np.linalg.lstsq(A, y)\n",
    "f = A2*w_ls\n",
    "plt.plot(x+BaseYear, y, 'o-')\n",
    "plt.plot(xx+BaseYear, f, 'r')\n",
    "\n",
    "plt.xlabel('Years')\n",
    "plt.ylabel('Number of Tractors')\n",
    "\n",
    "plt.show()"
   ]
  },
  {
   "cell_type": "code",
   "execution_count": null,
   "metadata": {
    "collapsed": true
   },
   "outputs": [],
   "source": [
    "print(\"Tractors in 2016:\")\n",
    "print(f[45])\n",
    "print()\n",
    "print(\"Tractors in 2017:\")\n",
    "print(f[46])\n",
    "print()\n",
    "print(\"Tractors in 2018:\")\n",
    "print(f[47])\n",
    "print()\n",
    "print(\"Tractors in 2019:\")\n",
    "print(f[48])\n",
    "print()\n",
    "print(\"Tractors in 2020:\")\n",
    "print(f[49])"
   ]
  }
 ],
 "metadata": {
  "kernelspec": {
   "display_name": "Python 3",
   "language": "python",
   "name": "python3"
  },
  "language_info": {
   "codemirror_mode": {
    "name": "ipython",
    "version": 3
   },
   "file_extension": ".py",
   "mimetype": "text/x-python",
   "name": "python",
   "nbconvert_exporter": "python",
   "pygments_lexer": "ipython3",
   "version": "3.5.1"
  }
 },
 "nbformat": 4,
 "nbformat_minor": 0
}
